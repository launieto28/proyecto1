{
 "cells": [
  {
   "cell_type": "code",
   "execution_count": 2,
   "id": "e358599b-a3d2-4419-b6e2-5532dd24c74f",
   "metadata": {},
   "outputs": [
    {
     "name": "stdout",
     "output_type": "stream",
     "text": [
      "/workspaces/proyecto1/session-01/notebooks\n"
     ]
    }
   ],
   "source": [
    "import os\n",
    "print(os.getcwd())\n"
   ]
  },
  {
   "cell_type": "markdown",
   "id": "ba04a02e",
   "metadata": {},
   "source": [
    "# Sesión 1 – Introducción al Análisis Predictivo\n",
    "### Exploración inicial de datos con Python"
   ]
  },
  {
   "cell_type": "markdown",
   "id": "85f615b4",
   "metadata": {},
   "source": [
    "En esta primera sesión trabajaremos con un conjunto de datos sintéticos para:\n",
    "- Explorar tipos de variables (numéricas y categóricas).\n",
    "- Visualizar distribuciones simples.\n",
    "- Comprender cómo el análisis descriptivo prepara el camino para la predicción.\n"
   ]
  },
  {
   "cell_type": "markdown",
   "id": "6e9d9cab",
   "metadata": {},
   "source": [
    "### Paso 1: Importar librerías"
   ]
  },
  {
   "cell_type": "code",
   "execution_count": 3,
   "id": "08fa947e",
   "metadata": {},
   "outputs": [],
   "source": [
    "import pandas as pd\n",
    "import matplotlib.pyplot as plt"
   ]
  },
  {
   "cell_type": "markdown",
   "id": "c58b89d9",
   "metadata": {},
   "source": [
    "### Paso 2: Cargar el conjunto de datos"
   ]
  },
  {
   "cell_type": "code",
   "execution_count": 4,
   "id": "8730e8e6",
   "metadata": {},
   "outputs": [
    {
     "data": {
      "text/html": [
       "<div>\n",
       "<style scoped>\n",
       "    .dataframe tbody tr th:only-of-type {\n",
       "        vertical-align: middle;\n",
       "    }\n",
       "\n",
       "    .dataframe tbody tr th {\n",
       "        vertical-align: top;\n",
       "    }\n",
       "\n",
       "    .dataframe thead th {\n",
       "        text-align: right;\n",
       "    }\n",
       "</style>\n",
       "<table border=\"1\" class=\"dataframe\">\n",
       "  <thead>\n",
       "    <tr style=\"text-align: right;\">\n",
       "      <th></th>\n",
       "      <th>ID</th>\n",
       "      <th>Fecha_Ocurrencia</th>\n",
       "      <th>Codigo_Accidente</th>\n",
       "      <th>Direccion</th>\n",
       "      <th>Barrio</th>\n",
       "      <th>Vehiculos Involucrados</th>\n",
       "      <th>Heridos</th>\n",
       "      <th>Accidente con</th>\n",
       "      <th>Heridos SI/NO</th>\n",
       "      <th>Muertes</th>\n",
       "      <th>Clase de Accidente</th>\n",
       "    </tr>\n",
       "  </thead>\n",
       "  <tbody>\n",
       "    <tr>\n",
       "      <th>0</th>\n",
       "      <td>1</td>\n",
       "      <td>1/3/2024 0:00</td>\n",
       "      <td>A001602262</td>\n",
       "      <td>CALLE 14A CARRERA 34   BACHUE</td>\n",
       "      <td>BACHUE</td>\n",
       "      <td>2</td>\n",
       "      <td>2</td>\n",
       "      <td>HERIDOS</td>\n",
       "      <td>1</td>\n",
       "      <td>0</td>\n",
       "      <td>CHOQUE</td>\n",
       "    </tr>\n",
       "    <tr>\n",
       "      <th>1</th>\n",
       "      <td>2</td>\n",
       "      <td>1/6/2024 0:00</td>\n",
       "      <td>A001602263</td>\n",
       "      <td>CALLE 14 CARRERA  28   SAN JOSÃ</td>\n",
       "      <td>SAN JOSE</td>\n",
       "      <td>2</td>\n",
       "      <td>3</td>\n",
       "      <td>HERIDOS</td>\n",
       "      <td>1</td>\n",
       "      <td>0</td>\n",
       "      <td>CHOQUE</td>\n",
       "    </tr>\n",
       "    <tr>\n",
       "      <th>2</th>\n",
       "      <td>3</td>\n",
       "      <td>1/9/2024 0:00</td>\n",
       "      <td>A001602264</td>\n",
       "      <td>KILOMETRO 7+800 MTS</td>\n",
       "      <td>No registra</td>\n",
       "      <td>1</td>\n",
       "      <td>1</td>\n",
       "      <td>HERIDOS</td>\n",
       "      <td>1</td>\n",
       "      <td>0</td>\n",
       "      <td>CHOQUE</td>\n",
       "    </tr>\n",
       "    <tr>\n",
       "      <th>3</th>\n",
       "      <td>4</td>\n",
       "      <td>1/12/2024 0:00</td>\n",
       "      <td>A001602265</td>\n",
       "      <td>AVENIDA 23 N. 24 - 07   LA TIZA</td>\n",
       "      <td>LA TIZA</td>\n",
       "      <td>2</td>\n",
       "      <td>2</td>\n",
       "      <td>HERIDOS</td>\n",
       "      <td>1</td>\n",
       "      <td>0</td>\n",
       "      <td>CHOQUE</td>\n",
       "    </tr>\n",
       "    <tr>\n",
       "      <th>4</th>\n",
       "      <td>5</td>\n",
       "      <td>1/12/2024 0:00</td>\n",
       "      <td>A001602266</td>\n",
       "      <td>KILOMETRO 3+500 MTS VIA CHICHIMENE ESTACION AC...</td>\n",
       "      <td>No registra</td>\n",
       "      <td>2</td>\n",
       "      <td>1</td>\n",
       "      <td>HERIDOS</td>\n",
       "      <td>1</td>\n",
       "      <td>0</td>\n",
       "      <td>CHOQUE</td>\n",
       "    </tr>\n",
       "  </tbody>\n",
       "</table>\n",
       "</div>"
      ],
      "text/plain": [
       "   ID Fecha_Ocurrencia Codigo_Accidente  \\\n",
       "0   1    1/3/2024 0:00       A001602262   \n",
       "1   2    1/6/2024 0:00       A001602263   \n",
       "2   3    1/9/2024 0:00       A001602264   \n",
       "3   4   1/12/2024 0:00       A001602265   \n",
       "4   5   1/12/2024 0:00       A001602266   \n",
       "\n",
       "                                           Direccion       Barrio  \\\n",
       "0                      CALLE 14A CARRERA 34   BACHUE       BACHUE   \n",
       "1                   CALLE 14 CARRERA  28   SAN JOSÃ     SAN JOSE   \n",
       "2                                KILOMETRO 7+800 MTS  No registra   \n",
       "3                    AVENIDA 23 N. 24 - 07   LA TIZA      LA TIZA   \n",
       "4  KILOMETRO 3+500 MTS VIA CHICHIMENE ESTACION AC...  No registra   \n",
       "\n",
       "   Vehiculos Involucrados  Heridos Accidente con  Heridos SI/NO  Muertes  \\\n",
       "0                       2        2       HERIDOS               1       0   \n",
       "1                       2        3       HERIDOS               1       0   \n",
       "2                       1        1       HERIDOS               1       0   \n",
       "3                       2        2       HERIDOS               1       0   \n",
       "4                       2        1       HERIDOS               1       0   \n",
       "\n",
       "  Clase de Accidente  \n",
       "0             CHOQUE  \n",
       "1             CHOQUE  \n",
       "2             CHOQUE  \n",
       "3             CHOQUE  \n",
       "4             CHOQUE  "
      ]
     },
     "execution_count": 4,
     "metadata": {},
     "output_type": "execute_result"
    }
   ],
   "source": [
    "\n",
    "df = pd.read_csv('/workspaces/proyecto1/datos/Accidentes_Viales.csv', encoding='ISO-8859-1')\n",
    "df.head()"
   ]
  },
  {
   "cell_type": "markdown",
   "id": "a7e8ba8a",
   "metadata": {},
   "source": [
    "### Paso 3: Revisar estructura del dataset"
   ]
  },
  {
   "cell_type": "code",
   "execution_count": 5,
   "id": "a3f1fc31",
   "metadata": {},
   "outputs": [
    {
     "name": "stdout",
     "output_type": "stream",
     "text": [
      "<class 'pandas.core.frame.DataFrame'>\n",
      "RangeIndex: 512 entries, 0 to 511\n",
      "Data columns (total 11 columns):\n",
      " #   Column                  Non-Null Count  Dtype \n",
      "---  ------                  --------------  ----- \n",
      " 0   ID                      512 non-null    int64 \n",
      " 1   Fecha_Ocurrencia        512 non-null    object\n",
      " 2   Codigo_Accidente        512 non-null    object\n",
      " 3   Direccion               512 non-null    object\n",
      " 4   Barrio                  512 non-null    object\n",
      " 5   Vehiculos Involucrados  512 non-null    int64 \n",
      " 6   Heridos                 512 non-null    int64 \n",
      " 7   Accidente con           512 non-null    object\n",
      " 8   Heridos SI/NO           512 non-null    int64 \n",
      " 9   Muertes                 512 non-null    object\n",
      " 10  Clase de Accidente      512 non-null    object\n",
      "dtypes: int64(4), object(7)\n",
      "memory usage: 44.1+ KB\n"
     ]
    }
   ],
   "source": [
    "df.info()"
   ]
  },
  {
   "cell_type": "markdown",
   "id": "df10ec3f",
   "metadata": {},
   "source": [
    "### Paso 4: Descripción estadística general"
   ]
  },
  {
   "cell_type": "code",
   "execution_count": 6,
   "id": "a2bb353d",
   "metadata": {},
   "outputs": [
    {
     "data": {
      "text/html": [
       "<div>\n",
       "<style scoped>\n",
       "    .dataframe tbody tr th:only-of-type {\n",
       "        vertical-align: middle;\n",
       "    }\n",
       "\n",
       "    .dataframe tbody tr th {\n",
       "        vertical-align: top;\n",
       "    }\n",
       "\n",
       "    .dataframe thead th {\n",
       "        text-align: right;\n",
       "    }\n",
       "</style>\n",
       "<table border=\"1\" class=\"dataframe\">\n",
       "  <thead>\n",
       "    <tr style=\"text-align: right;\">\n",
       "      <th></th>\n",
       "      <th>ID</th>\n",
       "      <th>Fecha_Ocurrencia</th>\n",
       "      <th>Codigo_Accidente</th>\n",
       "      <th>Direccion</th>\n",
       "      <th>Barrio</th>\n",
       "      <th>Vehiculos Involucrados</th>\n",
       "      <th>Heridos</th>\n",
       "      <th>Accidente con</th>\n",
       "      <th>Heridos SI/NO</th>\n",
       "      <th>Muertes</th>\n",
       "      <th>Clase de Accidente</th>\n",
       "    </tr>\n",
       "  </thead>\n",
       "  <tbody>\n",
       "    <tr>\n",
       "      <th>count</th>\n",
       "      <td>512.000000</td>\n",
       "      <td>512</td>\n",
       "      <td>512</td>\n",
       "      <td>512</td>\n",
       "      <td>512</td>\n",
       "      <td>512.000000</td>\n",
       "      <td>512.000000</td>\n",
       "      <td>512</td>\n",
       "      <td>512.000000</td>\n",
       "      <td>512</td>\n",
       "      <td>512</td>\n",
       "    </tr>\n",
       "    <tr>\n",
       "      <th>unique</th>\n",
       "      <td>NaN</td>\n",
       "      <td>412</td>\n",
       "      <td>509</td>\n",
       "      <td>503</td>\n",
       "      <td>51</td>\n",
       "      <td>NaN</td>\n",
       "      <td>NaN</td>\n",
       "      <td>3</td>\n",
       "      <td>NaN</td>\n",
       "      <td>5</td>\n",
       "      <td>4</td>\n",
       "    </tr>\n",
       "    <tr>\n",
       "      <th>top</th>\n",
       "      <td>NaN</td>\n",
       "      <td>12/14/2024 0:00</td>\n",
       "      <td>A001371905</td>\n",
       "      <td>CALLE 13 CARRERA  16   CENTRO</td>\n",
       "      <td>No registra</td>\n",
       "      <td>NaN</td>\n",
       "      <td>NaN</td>\n",
       "      <td>HERIDOS</td>\n",
       "      <td>NaN</td>\n",
       "      <td>NO APLICA</td>\n",
       "      <td>CHOQUE</td>\n",
       "    </tr>\n",
       "    <tr>\n",
       "      <th>freq</th>\n",
       "      <td>NaN</td>\n",
       "      <td>3</td>\n",
       "      <td>2</td>\n",
       "      <td>2</td>\n",
       "      <td>201</td>\n",
       "      <td>NaN</td>\n",
       "      <td>NaN</td>\n",
       "      <td>412</td>\n",
       "      <td>NaN</td>\n",
       "      <td>453</td>\n",
       "      <td>450</td>\n",
       "    </tr>\n",
       "    <tr>\n",
       "      <th>mean</th>\n",
       "      <td>256.500000</td>\n",
       "      <td>NaN</td>\n",
       "      <td>NaN</td>\n",
       "      <td>NaN</td>\n",
       "      <td>NaN</td>\n",
       "      <td>1.865234</td>\n",
       "      <td>1.298828</td>\n",
       "      <td>NaN</td>\n",
       "      <td>0.804688</td>\n",
       "      <td>NaN</td>\n",
       "      <td>NaN</td>\n",
       "    </tr>\n",
       "    <tr>\n",
       "      <th>std</th>\n",
       "      <td>147.945936</td>\n",
       "      <td>NaN</td>\n",
       "      <td>NaN</td>\n",
       "      <td>NaN</td>\n",
       "      <td>NaN</td>\n",
       "      <td>0.471707</td>\n",
       "      <td>0.914419</td>\n",
       "      <td>NaN</td>\n",
       "      <td>0.396829</td>\n",
       "      <td>NaN</td>\n",
       "      <td>NaN</td>\n",
       "    </tr>\n",
       "    <tr>\n",
       "      <th>min</th>\n",
       "      <td>1.000000</td>\n",
       "      <td>NaN</td>\n",
       "      <td>NaN</td>\n",
       "      <td>NaN</td>\n",
       "      <td>NaN</td>\n",
       "      <td>1.000000</td>\n",
       "      <td>0.000000</td>\n",
       "      <td>NaN</td>\n",
       "      <td>0.000000</td>\n",
       "      <td>NaN</td>\n",
       "      <td>NaN</td>\n",
       "    </tr>\n",
       "    <tr>\n",
       "      <th>25%</th>\n",
       "      <td>128.750000</td>\n",
       "      <td>NaN</td>\n",
       "      <td>NaN</td>\n",
       "      <td>NaN</td>\n",
       "      <td>NaN</td>\n",
       "      <td>2.000000</td>\n",
       "      <td>1.000000</td>\n",
       "      <td>NaN</td>\n",
       "      <td>1.000000</td>\n",
       "      <td>NaN</td>\n",
       "      <td>NaN</td>\n",
       "    </tr>\n",
       "    <tr>\n",
       "      <th>50%</th>\n",
       "      <td>256.500000</td>\n",
       "      <td>NaN</td>\n",
       "      <td>NaN</td>\n",
       "      <td>NaN</td>\n",
       "      <td>NaN</td>\n",
       "      <td>2.000000</td>\n",
       "      <td>1.000000</td>\n",
       "      <td>NaN</td>\n",
       "      <td>1.000000</td>\n",
       "      <td>NaN</td>\n",
       "      <td>NaN</td>\n",
       "    </tr>\n",
       "    <tr>\n",
       "      <th>75%</th>\n",
       "      <td>384.250000</td>\n",
       "      <td>NaN</td>\n",
       "      <td>NaN</td>\n",
       "      <td>NaN</td>\n",
       "      <td>NaN</td>\n",
       "      <td>2.000000</td>\n",
       "      <td>2.000000</td>\n",
       "      <td>NaN</td>\n",
       "      <td>1.000000</td>\n",
       "      <td>NaN</td>\n",
       "      <td>NaN</td>\n",
       "    </tr>\n",
       "    <tr>\n",
       "      <th>max</th>\n",
       "      <td>512.000000</td>\n",
       "      <td>NaN</td>\n",
       "      <td>NaN</td>\n",
       "      <td>NaN</td>\n",
       "      <td>NaN</td>\n",
       "      <td>4.000000</td>\n",
       "      <td>5.000000</td>\n",
       "      <td>NaN</td>\n",
       "      <td>1.000000</td>\n",
       "      <td>NaN</td>\n",
       "      <td>NaN</td>\n",
       "    </tr>\n",
       "  </tbody>\n",
       "</table>\n",
       "</div>"
      ],
      "text/plain": [
       "                ID Fecha_Ocurrencia Codigo_Accidente  \\\n",
       "count   512.000000              512              512   \n",
       "unique         NaN              412              509   \n",
       "top            NaN  12/14/2024 0:00       A001371905   \n",
       "freq           NaN                3                2   \n",
       "mean    256.500000              NaN              NaN   \n",
       "std     147.945936              NaN              NaN   \n",
       "min       1.000000              NaN              NaN   \n",
       "25%     128.750000              NaN              NaN   \n",
       "50%     256.500000              NaN              NaN   \n",
       "75%     384.250000              NaN              NaN   \n",
       "max     512.000000              NaN              NaN   \n",
       "\n",
       "                            Direccion       Barrio  Vehiculos Involucrados  \\\n",
       "count                             512          512              512.000000   \n",
       "unique                            503           51                     NaN   \n",
       "top     CALLE 13 CARRERA  16   CENTRO  No registra                     NaN   \n",
       "freq                                2          201                     NaN   \n",
       "mean                              NaN          NaN                1.865234   \n",
       "std                               NaN          NaN                0.471707   \n",
       "min                               NaN          NaN                1.000000   \n",
       "25%                               NaN          NaN                2.000000   \n",
       "50%                               NaN          NaN                2.000000   \n",
       "75%                               NaN          NaN                2.000000   \n",
       "max                               NaN          NaN                4.000000   \n",
       "\n",
       "           Heridos Accidente con  Heridos SI/NO     Muertes Clase de Accidente  \n",
       "count   512.000000           512      512.000000        512                512  \n",
       "unique         NaN             3             NaN          5                  4  \n",
       "top            NaN       HERIDOS             NaN  NO APLICA             CHOQUE  \n",
       "freq           NaN           412             NaN        453                450  \n",
       "mean      1.298828           NaN        0.804688        NaN                NaN  \n",
       "std       0.914419           NaN        0.396829        NaN                NaN  \n",
       "min       0.000000           NaN        0.000000        NaN                NaN  \n",
       "25%       1.000000           NaN        1.000000        NaN                NaN  \n",
       "50%       1.000000           NaN        1.000000        NaN                NaN  \n",
       "75%       2.000000           NaN        1.000000        NaN                NaN  \n",
       "max       5.000000           NaN        1.000000        NaN                NaN  "
      ]
     },
     "execution_count": 6,
     "metadata": {},
     "output_type": "execute_result"
    }
   ],
   "source": [
    "df.describe(include='all')"
   ]
  },
  {
   "cell_type": "markdown",
   "id": "12b05a4a",
   "metadata": {},
   "source": [
    "## Visualización exploratoria\n",
    "A continuación veremos algunas formas básicas de visualizar nuestros datos."
   ]
  },
  {
   "cell_type": "markdown",
   "id": "1ffb674c",
   "metadata": {},
   "source": [
    "### Gráfico 1: Distribución por Género"
   ]
  },
  {
   "cell_type": "code",
   "execution_count": 8,
   "id": "261dd2e5",
   "metadata": {},
   "outputs": [
    {
     "ename": "KeyError",
     "evalue": "'Genero'",
     "output_type": "error",
     "traceback": [
      "\u001b[31m---------------------------------------------------------------------------\u001b[39m",
      "\u001b[31mKeyError\u001b[39m                                  Traceback (most recent call last)",
      "\u001b[36mFile \u001b[39m\u001b[32m~/.local/lib/python3.12/site-packages/pandas/core/indexes/base.py:3805\u001b[39m, in \u001b[36mIndex.get_loc\u001b[39m\u001b[34m(self, key)\u001b[39m\n\u001b[32m   3804\u001b[39m \u001b[38;5;28;01mtry\u001b[39;00m:\n\u001b[32m-> \u001b[39m\u001b[32m3805\u001b[39m     \u001b[38;5;28;01mreturn\u001b[39;00m \u001b[38;5;28;43mself\u001b[39;49m\u001b[43m.\u001b[49m\u001b[43m_engine\u001b[49m\u001b[43m.\u001b[49m\u001b[43mget_loc\u001b[49m\u001b[43m(\u001b[49m\u001b[43mcasted_key\u001b[49m\u001b[43m)\u001b[49m\n\u001b[32m   3806\u001b[39m \u001b[38;5;28;01mexcept\u001b[39;00m \u001b[38;5;167;01mKeyError\u001b[39;00m \u001b[38;5;28;01mas\u001b[39;00m err:\n",
      "\u001b[36mFile \u001b[39m\u001b[32mindex.pyx:167\u001b[39m, in \u001b[36mpandas._libs.index.IndexEngine.get_loc\u001b[39m\u001b[34m()\u001b[39m\n",
      "\u001b[36mFile \u001b[39m\u001b[32mindex.pyx:196\u001b[39m, in \u001b[36mpandas._libs.index.IndexEngine.get_loc\u001b[39m\u001b[34m()\u001b[39m\n",
      "\u001b[36mFile \u001b[39m\u001b[32mpandas/_libs/hashtable_class_helper.pxi:7081\u001b[39m, in \u001b[36mpandas._libs.hashtable.PyObjectHashTable.get_item\u001b[39m\u001b[34m()\u001b[39m\n",
      "\u001b[36mFile \u001b[39m\u001b[32mpandas/_libs/hashtable_class_helper.pxi:7089\u001b[39m, in \u001b[36mpandas._libs.hashtable.PyObjectHashTable.get_item\u001b[39m\u001b[34m()\u001b[39m\n",
      "\u001b[31mKeyError\u001b[39m: 'Genero'",
      "\nThe above exception was the direct cause of the following exception:\n",
      "\u001b[31mKeyError\u001b[39m                                  Traceback (most recent call last)",
      "\u001b[36mCell\u001b[39m\u001b[36m \u001b[39m\u001b[32mIn[8]\u001b[39m\u001b[32m, line 1\u001b[39m\n\u001b[32m----> \u001b[39m\u001b[32m1\u001b[39m \u001b[43mdf\u001b[49m\u001b[43m[\u001b[49m\u001b[33;43m'\u001b[39;49m\u001b[33;43mGenero\u001b[39;49m\u001b[33;43m'\u001b[39;49m\u001b[43m]\u001b[49m.value_counts().plot(kind=\u001b[33m'\u001b[39m\u001b[33mbar\u001b[39m\u001b[33m'\u001b[39m, color=\u001b[33m'\u001b[39m\u001b[33mskyblue\u001b[39m\u001b[33m'\u001b[39m)\n\u001b[32m      2\u001b[39m plt.title(\u001b[33m'\u001b[39m\u001b[33mDistribución por Género\u001b[39m\u001b[33m'\u001b[39m)\n\u001b[32m      3\u001b[39m plt.xlabel(\u001b[33m'\u001b[39m\u001b[33mGénero\u001b[39m\u001b[33m'\u001b[39m)\n",
      "\u001b[36mFile \u001b[39m\u001b[32m~/.local/lib/python3.12/site-packages/pandas/core/frame.py:4102\u001b[39m, in \u001b[36mDataFrame.__getitem__\u001b[39m\u001b[34m(self, key)\u001b[39m\n\u001b[32m   4100\u001b[39m \u001b[38;5;28;01mif\u001b[39;00m \u001b[38;5;28mself\u001b[39m.columns.nlevels > \u001b[32m1\u001b[39m:\n\u001b[32m   4101\u001b[39m     \u001b[38;5;28;01mreturn\u001b[39;00m \u001b[38;5;28mself\u001b[39m._getitem_multilevel(key)\n\u001b[32m-> \u001b[39m\u001b[32m4102\u001b[39m indexer = \u001b[38;5;28;43mself\u001b[39;49m\u001b[43m.\u001b[49m\u001b[43mcolumns\u001b[49m\u001b[43m.\u001b[49m\u001b[43mget_loc\u001b[49m\u001b[43m(\u001b[49m\u001b[43mkey\u001b[49m\u001b[43m)\u001b[49m\n\u001b[32m   4103\u001b[39m \u001b[38;5;28;01mif\u001b[39;00m is_integer(indexer):\n\u001b[32m   4104\u001b[39m     indexer = [indexer]\n",
      "\u001b[36mFile \u001b[39m\u001b[32m~/.local/lib/python3.12/site-packages/pandas/core/indexes/base.py:3812\u001b[39m, in \u001b[36mIndex.get_loc\u001b[39m\u001b[34m(self, key)\u001b[39m\n\u001b[32m   3807\u001b[39m     \u001b[38;5;28;01mif\u001b[39;00m \u001b[38;5;28misinstance\u001b[39m(casted_key, \u001b[38;5;28mslice\u001b[39m) \u001b[38;5;129;01mor\u001b[39;00m (\n\u001b[32m   3808\u001b[39m         \u001b[38;5;28misinstance\u001b[39m(casted_key, abc.Iterable)\n\u001b[32m   3809\u001b[39m         \u001b[38;5;129;01mand\u001b[39;00m \u001b[38;5;28many\u001b[39m(\u001b[38;5;28misinstance\u001b[39m(x, \u001b[38;5;28mslice\u001b[39m) \u001b[38;5;28;01mfor\u001b[39;00m x \u001b[38;5;129;01min\u001b[39;00m casted_key)\n\u001b[32m   3810\u001b[39m     ):\n\u001b[32m   3811\u001b[39m         \u001b[38;5;28;01mraise\u001b[39;00m InvalidIndexError(key)\n\u001b[32m-> \u001b[39m\u001b[32m3812\u001b[39m     \u001b[38;5;28;01mraise\u001b[39;00m \u001b[38;5;167;01mKeyError\u001b[39;00m(key) \u001b[38;5;28;01mfrom\u001b[39;00m\u001b[38;5;250m \u001b[39m\u001b[34;01merr\u001b[39;00m\n\u001b[32m   3813\u001b[39m \u001b[38;5;28;01mexcept\u001b[39;00m \u001b[38;5;167;01mTypeError\u001b[39;00m:\n\u001b[32m   3814\u001b[39m     \u001b[38;5;66;03m# If we have a listlike key, _check_indexing_error will raise\u001b[39;00m\n\u001b[32m   3815\u001b[39m     \u001b[38;5;66;03m#  InvalidIndexError. Otherwise we fall through and re-raise\u001b[39;00m\n\u001b[32m   3816\u001b[39m     \u001b[38;5;66;03m#  the TypeError.\u001b[39;00m\n\u001b[32m   3817\u001b[39m     \u001b[38;5;28mself\u001b[39m._check_indexing_error(key)\n",
      "\u001b[31mKeyError\u001b[39m: 'Genero'"
     ]
    }
   ],
   "source": [
    "df['Genero'].value_counts().plot(kind='bar', color='skyblue')\n",
    "plt.title('Distribución por Género')\n",
    "plt.xlabel('Género')\n",
    "plt.ylabel('Frecuencia')\n",
    "plt.show()"
   ]
  },
  {
   "cell_type": "markdown",
   "id": "69e9f497",
   "metadata": {},
   "source": [
    "*Interpretación: Este gráfico nos muestra cuántos casos hay por categoría de género en la base.*"
   ]
  },
  {
   "cell_type": "markdown",
   "id": "f89fc2dc",
   "metadata": {},
   "source": [
    "### Gráfico 2: Histograma de edades"
   ]
  },
  {
   "cell_type": "code",
   "execution_count": null,
   "id": "31be71b5",
   "metadata": {},
   "outputs": [
    {
     "data": {
      "image/png": "[encoded data removed]",
      "text/plain": [
       "<Figure size 640x480 with 1 Axes>"
      ]
     },
     "metadata": {},
     "output_type": "display_data"
    }
   ],
   "source": [
    "df['Edad'].dropna().plot(kind='hist', bins=30, edgecolor='black')\n",
    "plt.title('Distribución de Edades')\n",
    "plt.xlabel('Edad')\n",
    "plt.ylabel('Frecuencia')\n",
    "plt.show()"
   ]
  },
  {
   "cell_type": "markdown",
   "id": "f0024687",
   "metadata": {},
   "source": [
    "*Interpretación: El histograma muestra la frecuencia de edades. Podemos ver la forma de la distribución y posibles sesgos.*"
   ]
  },
  {
   "cell_type": "markdown",
   "id": "56ee7529",
   "metadata": {},
   "source": [
    "### Gráfico 3: Boxplot de ingreso por género"
   ]
  },
  {
   "cell_type": "code",
   "execution_count": null,
   "id": "e429c37c",
   "metadata": {},
   "outputs": [
    {
     "data": {
      "image/png": "[encoded data removed]",
      "text/plain": [
       "<Figure size 640x480 with 1 Axes>"
      ]
     },
     "metadata": {},
     "output_type": "display_data"
    }
   ],
   "source": [
    "df.boxplot(column='Ingreso', by='Genero')\n",
    "plt.title('Ingreso por Género')\n",
    "plt.suptitle('')\n",
    "plt.xlabel('Género')\n",
    "plt.ylabel('Ingreso mensual estimado')\n",
    "plt.show()"
   ]
  },
  {
   "cell_type": "markdown",
   "id": "c4b17847",
   "metadata": {},
   "source": [
    "*Interpretación: El boxplot permite comparar la distribución del ingreso entre grupos de género, y detectar posibles outliers.*"
   ]
  },
  {
   "cell_type": "markdown",
   "id": "196c0262",
   "metadata": {},
   "source": [
    "## 🧩 Cierre de la sesión y lo que viene\n",
    "**Conclusiones:**\n",
    "- Hoy exploramos un conjunto de datos reales e identificamos variables clave.\n",
    "- Visualizamos la distribución de género, edad e ingreso, y reflexionamos sobre su importancia.\n",
    "- Entendimos que la exploración inicial es esencial antes de aplicar modelos predictivos.\n",
    "\n",
    "**Próximamente (Sesión 2):**\n",
    "- Nos enfocaremos en la **preparación y limpieza de datos**, lo que incluye:\n",
    "  - Tratamiento de valores faltantes\n",
    "  - Codificación de variables categóricas\n",
    "  - Escalado de variables numéricas\n",
    "\n",
    "_Estas transformaciones son fundamentales para construir modelos confiables y efectivos._"
   ]
  }
 ],
 "metadata": {
  "kernelspec": {
   "display_name": "Python 3",
   "language": "python",
   "name": "python3"
  },
  "language_info": {
   "codemirror_mode": {
    "name": "ipython",
    "version": 3
   },
   "file_extension": ".py",
   "mimetype": "text/x-python",
   "name": "python",
   "nbconvert_exporter": "python",
   "pygments_lexer": "ipython3",
   "version": "3.12.1"
  }
 },
 "nbformat": 4,
 "nbformat_minor": 5
}
