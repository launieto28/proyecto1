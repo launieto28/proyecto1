{
 "cells": [
  {
   "cell_type": "markdown",
   "id": "6d1f8e01",
   "metadata": {},
   "source": [
    "ANALISIS PREDICTIVO"
   ]
  },
  {
   "cell_type": "markdown",
   "id": "85f615b4",
   "metadata": {},
   "source": [
    "1.INTRODUCCION\n",
    "El presente documento se realiza con fines académicos, como entrega del trabajo final del curso Análisis predictivo y gestión de datos, en donde por medio de herramientas de programación vistas en el curso, se implementan y se realiza un análisis predictivo de acuerdo con la información de una base de datos sobre accidentes viales en Acacias Meta. \n",
    "\n",
    "Las características principales de este trabajo son: Exploración de datos, modelos y análisis de resultados.\n",
    "\n",
    "Los datos obedecen a un escenario real, pues corresponden a una base de datos publicada y tomada de Datos Abiertos de Colombia (datos.gov.co), a la cual se realizó la preparación y limpieza de datos con el fin de tomarla como insumo para su exploración.\n",
    "\n",
    "A continuación, se indica los métodos y códigos utilizados para implementar un modelo de regresión que permitan conocer la probabilidad de ocurrencia de un accidente vial en Acacias Meta, el cual no genere muertes ni heridos al momento de su ocurrencia.\n",
    "\n",
    "Pregunta Problema: ¿Cual es la probabilidad de que en un accidente vial en Acias,Meta no se presenten ni heridos, ni muertos ?\n",
    "\n",
    "2.Contexto del problema: Los  accidentes  de transito son una problematica frecuente que afecta tanto a los conductores como a los peatones,muchas veces en las vias urbanas y rurales se presenta un sin numero de factores  que  hacen  que  exista  mas probabilidad  de accidentes  debido  a la falta de señalizacion, exceso de velocidad , consumo de alcohol y imprudencias al conducir,  es  importante  decir que el analisis predictivo se presenta como una herramienta para anticipar situaciones de riesgo,orientar  campañas de seguridad  vial y tomar decisiones mas informadas que ayuden a reducir la frecuencia y gravedad de estos  eventos.\n",
    "\n",
    "3.Justificacion del conjunto de Datos:\n",
    "La  base  que  se  tomo para realizar  el  ejercicio proviene de una plataforma oficial de Datos Abiertos del Gobierno de Colombia, esta  base  contiene  informacion sobre los accidentes de transito reportados en el municipio de Acacias Meta,incluyendo variables como la fecha,ubicacion, tipo de accidente, numero de heridos, fallecidos y vehiculos involucrados la riqueza de variables facilita tanto el análisis exploratorio como la aplicación de modelos predictivos, permitiendo identificar patrones y generar conocimiento útil para la toma de decisiones en materia de seguridad vial.\n",
    "\n",
    "4. OBJETIVO DE LA PREDICICON \n",
    "Predecir la probabilidad de que un accidente vial en Acacías, Meta no genere ni muertos ni heridos al momento de su ocurrencia, utilizando modelos de regresión basados en características como la fecha, ubicación, número de vehículos involucrados, tipo de accidente, entre otros.\n",
    "\n"
   ]
  },
  {
   "cell_type": "code",
   "execution_count": 418,
   "id": "08fa947e",
   "metadata": {},
   "outputs": [],
   "source": [
    "#IMPORTAR LIBRERIAS\n",
    "import pandas as pd\n",
    "import matplotlib.pyplot as plt"
   ]
  },
  {
   "cell_type": "code",
   "execution_count": 419,
   "id": "8730e8e6",
   "metadata": {},
   "outputs": [
    {
     "data": {
      "text/html": [
       "<div>\n",
       "<style scoped>\n",
       "    .dataframe tbody tr th:only-of-type {\n",
       "        vertical-align: middle;\n",
       "    }\n",
       "\n",
       "    .dataframe tbody tr th {\n",
       "        vertical-align: top;\n",
       "    }\n",
       "\n",
       "    .dataframe thead th {\n",
       "        text-align: right;\n",
       "    }\n",
       "</style>\n",
       "<table border=\"1\" class=\"dataframe\">\n",
       "  <thead>\n",
       "    <tr style=\"text-align: right;\">\n",
       "      <th></th>\n",
       "      <th>ID</th>\n",
       "      <th>Fecha_Ocurrencia</th>\n",
       "      <th>Codigo_Accidente</th>\n",
       "      <th>Direccion</th>\n",
       "      <th>Barrio</th>\n",
       "      <th>Vehiculos_Involucrados</th>\n",
       "      <th>Heridos</th>\n",
       "      <th>Accidente _con</th>\n",
       "      <th>Heridos _SI/NO</th>\n",
       "      <th>Muertes</th>\n",
       "      <th>Clase_Accidente</th>\n",
       "    </tr>\n",
       "  </thead>\n",
       "  <tbody>\n",
       "    <tr>\n",
       "      <th>0</th>\n",
       "      <td>1</td>\n",
       "      <td>1/3/2024 0:00</td>\n",
       "      <td>A001602262</td>\n",
       "      <td>CALLE 14A CARRERA 34   BACHUE</td>\n",
       "      <td>BACHUE</td>\n",
       "      <td>2</td>\n",
       "      <td>2</td>\n",
       "      <td>HERIDOS</td>\n",
       "      <td>1</td>\n",
       "      <td>0</td>\n",
       "      <td>CHOQUE</td>\n",
       "    </tr>\n",
       "    <tr>\n",
       "      <th>1</th>\n",
       "      <td>2</td>\n",
       "      <td>1/6/2024 0:00</td>\n",
       "      <td>A001602263</td>\n",
       "      <td>CALLE 14 CARRERA  28   SAN JOSÃ</td>\n",
       "      <td>SAN JOSE</td>\n",
       "      <td>2</td>\n",
       "      <td>3</td>\n",
       "      <td>HERIDOS</td>\n",
       "      <td>1</td>\n",
       "      <td>0</td>\n",
       "      <td>CHOQUE</td>\n",
       "    </tr>\n",
       "    <tr>\n",
       "      <th>2</th>\n",
       "      <td>3</td>\n",
       "      <td>1/9/2024 0:00</td>\n",
       "      <td>A001602264</td>\n",
       "      <td>KILOMETRO 7+800 MTS</td>\n",
       "      <td>No registra</td>\n",
       "      <td>1</td>\n",
       "      <td>1</td>\n",
       "      <td>HERIDOS</td>\n",
       "      <td>1</td>\n",
       "      <td>0</td>\n",
       "      <td>CHOQUE</td>\n",
       "    </tr>\n",
       "    <tr>\n",
       "      <th>3</th>\n",
       "      <td>4</td>\n",
       "      <td>1/12/2024 0:00</td>\n",
       "      <td>A001602265</td>\n",
       "      <td>AVENIDA 23 N. 24 - 07   LA TIZA</td>\n",
       "      <td>LA TIZA</td>\n",
       "      <td>2</td>\n",
       "      <td>2</td>\n",
       "      <td>HERIDOS</td>\n",
       "      <td>1</td>\n",
       "      <td>0</td>\n",
       "      <td>CHOQUE</td>\n",
       "    </tr>\n",
       "    <tr>\n",
       "      <th>4</th>\n",
       "      <td>5</td>\n",
       "      <td>1/12/2024 0:00</td>\n",
       "      <td>A001602266</td>\n",
       "      <td>KILOMETRO 3+500 MTS VIA CHICHIMENE ESTACION AC...</td>\n",
       "      <td>No registra</td>\n",
       "      <td>2</td>\n",
       "      <td>1</td>\n",
       "      <td>HERIDOS</td>\n",
       "      <td>1</td>\n",
       "      <td>0</td>\n",
       "      <td>CHOQUE</td>\n",
       "    </tr>\n",
       "  </tbody>\n",
       "</table>\n",
       "</div>"
      ],
      "text/plain": [
       "   ID Fecha_Ocurrencia Codigo_Accidente  \\\n",
       "0   1    1/3/2024 0:00       A001602262   \n",
       "1   2    1/6/2024 0:00       A001602263   \n",
       "2   3    1/9/2024 0:00       A001602264   \n",
       "3   4   1/12/2024 0:00       A001602265   \n",
       "4   5   1/12/2024 0:00       A001602266   \n",
       "\n",
       "                                           Direccion       Barrio  \\\n",
       "0                      CALLE 14A CARRERA 34   BACHUE       BACHUE   \n",
       "1                   CALLE 14 CARRERA  28   SAN JOSÃ     SAN JOSE   \n",
       "2                                KILOMETRO 7+800 MTS  No registra   \n",
       "3                    AVENIDA 23 N. 24 - 07   LA TIZA      LA TIZA   \n",
       "4  KILOMETRO 3+500 MTS VIA CHICHIMENE ESTACION AC...  No registra   \n",
       "\n",
       "   Vehiculos_Involucrados  Heridos Accidente _con  Heridos _SI/NO  Muertes  \\\n",
       "0                       2        2        HERIDOS                1       0   \n",
       "1                       2        3        HERIDOS                1       0   \n",
       "2                       1        1        HERIDOS                1       0   \n",
       "3                       2        2        HERIDOS                1       0   \n",
       "4                       2        1        HERIDOS                1       0   \n",
       "\n",
       "  Clase_Accidente  \n",
       "0          CHOQUE  \n",
       "1          CHOQUE  \n",
       "2          CHOQUE  \n",
       "3          CHOQUE  \n",
       "4          CHOQUE  "
      ]
     },
     "execution_count": 419,
     "metadata": {},
     "output_type": "execute_result"
    }
   ],
   "source": [
    "#CARGAR DATOS\n",
    "df = pd.read_csv(\"/workspaces/proyecto1/datos/Accidentes_Viales_final.csv\", encoding='ISO-8859-1')\n",
    "df.head()"
   ]
  },
  {
   "cell_type": "code",
   "execution_count": 420,
   "id": "a3f1fc31",
   "metadata": {},
   "outputs": [
    {
     "name": "stdout",
     "output_type": "stream",
     "text": [
      "<class 'pandas.core.frame.DataFrame'>\n",
      "RangeIndex: 512 entries, 0 to 511\n",
      "Data columns (total 11 columns):\n",
      " #   Column                  Non-Null Count  Dtype \n",
      "---  ------                  --------------  ----- \n",
      " 0   ID                      512 non-null    int64 \n",
      " 1   Fecha_Ocurrencia        512 non-null    object\n",
      " 2   Codigo_Accidente        512 non-null    object\n",
      " 3   Direccion               512 non-null    object\n",
      " 4   Barrio                  512 non-null    object\n",
      " 5   Vehiculos_Involucrados  512 non-null    int64 \n",
      " 6   Heridos                 512 non-null    int64 \n",
      " 7   Accidente _con          512 non-null    object\n",
      " 8   Heridos _SI/NO          512 non-null    int64 \n",
      " 9   Muertes                 512 non-null    object\n",
      " 10  Clase_Accidente         512 non-null    object\n",
      "dtypes: int64(4), object(7)\n",
      "memory usage: 44.1+ KB\n"
     ]
    }
   ],
   "source": [
    "#REVISAR ESTRUCTURA DEL DATASET\n",
    "df.info()"
   ]
  },
  {
   "cell_type": "code",
   "execution_count": 421,
   "id": "a2bb353d",
   "metadata": {},
   "outputs": [
    {
     "data": {
      "text/html": [
       "<div>\n",
       "<style scoped>\n",
       "    .dataframe tbody tr th:only-of-type {\n",
       "        vertical-align: middle;\n",
       "    }\n",
       "\n",
       "    .dataframe tbody tr th {\n",
       "        vertical-align: top;\n",
       "    }\n",
       "\n",
       "    .dataframe thead th {\n",
       "        text-align: right;\n",
       "    }\n",
       "</style>\n",
       "<table border=\"1\" class=\"dataframe\">\n",
       "  <thead>\n",
       "    <tr style=\"text-align: right;\">\n",
       "      <th></th>\n",
       "      <th>ID</th>\n",
       "      <th>Fecha_Ocurrencia</th>\n",
       "      <th>Codigo_Accidente</th>\n",
       "      <th>Direccion</th>\n",
       "      <th>Barrio</th>\n",
       "      <th>Vehiculos_Involucrados</th>\n",
       "      <th>Heridos</th>\n",
       "      <th>Accidente _con</th>\n",
       "      <th>Heridos _SI/NO</th>\n",
       "      <th>Muertes</th>\n",
       "      <th>Clase_Accidente</th>\n",
       "    </tr>\n",
       "  </thead>\n",
       "  <tbody>\n",
       "    <tr>\n",
       "      <th>count</th>\n",
       "      <td>512.000000</td>\n",
       "      <td>512</td>\n",
       "      <td>512</td>\n",
       "      <td>512</td>\n",
       "      <td>512</td>\n",
       "      <td>512.000000</td>\n",
       "      <td>512.000000</td>\n",
       "      <td>512</td>\n",
       "      <td>512.000000</td>\n",
       "      <td>512</td>\n",
       "      <td>512</td>\n",
       "    </tr>\n",
       "    <tr>\n",
       "      <th>unique</th>\n",
       "      <td>NaN</td>\n",
       "      <td>412</td>\n",
       "      <td>509</td>\n",
       "      <td>503</td>\n",
       "      <td>51</td>\n",
       "      <td>NaN</td>\n",
       "      <td>NaN</td>\n",
       "      <td>3</td>\n",
       "      <td>NaN</td>\n",
       "      <td>5</td>\n",
       "      <td>4</td>\n",
       "    </tr>\n",
       "    <tr>\n",
       "      <th>top</th>\n",
       "      <td>NaN</td>\n",
       "      <td>12/14/2024 0:00</td>\n",
       "      <td>A001371905</td>\n",
       "      <td>CALLE 13 CARRERA  16   CENTRO</td>\n",
       "      <td>No registra</td>\n",
       "      <td>NaN</td>\n",
       "      <td>NaN</td>\n",
       "      <td>HERIDOS</td>\n",
       "      <td>NaN</td>\n",
       "      <td>NO APLICA</td>\n",
       "      <td>CHOQUE</td>\n",
       "    </tr>\n",
       "    <tr>\n",
       "      <th>freq</th>\n",
       "      <td>NaN</td>\n",
       "      <td>3</td>\n",
       "      <td>2</td>\n",
       "      <td>2</td>\n",
       "      <td>201</td>\n",
       "      <td>NaN</td>\n",
       "      <td>NaN</td>\n",
       "      <td>412</td>\n",
       "      <td>NaN</td>\n",
       "      <td>453</td>\n",
       "      <td>450</td>\n",
       "    </tr>\n",
       "    <tr>\n",
       "      <th>mean</th>\n",
       "      <td>256.500000</td>\n",
       "      <td>NaN</td>\n",
       "      <td>NaN</td>\n",
       "      <td>NaN</td>\n",
       "      <td>NaN</td>\n",
       "      <td>1.865234</td>\n",
       "      <td>1.298828</td>\n",
       "      <td>NaN</td>\n",
       "      <td>0.804688</td>\n",
       "      <td>NaN</td>\n",
       "      <td>NaN</td>\n",
       "    </tr>\n",
       "    <tr>\n",
       "      <th>std</th>\n",
       "      <td>147.945936</td>\n",
       "      <td>NaN</td>\n",
       "      <td>NaN</td>\n",
       "      <td>NaN</td>\n",
       "      <td>NaN</td>\n",
       "      <td>0.471707</td>\n",
       "      <td>0.914419</td>\n",
       "      <td>NaN</td>\n",
       "      <td>0.396829</td>\n",
       "      <td>NaN</td>\n",
       "      <td>NaN</td>\n",
       "    </tr>\n",
       "    <tr>\n",
       "      <th>min</th>\n",
       "      <td>1.000000</td>\n",
       "      <td>NaN</td>\n",
       "      <td>NaN</td>\n",
       "      <td>NaN</td>\n",
       "      <td>NaN</td>\n",
       "      <td>1.000000</td>\n",
       "      <td>0.000000</td>\n",
       "      <td>NaN</td>\n",
       "      <td>0.000000</td>\n",
       "      <td>NaN</td>\n",
       "      <td>NaN</td>\n",
       "    </tr>\n",
       "    <tr>\n",
       "      <th>25%</th>\n",
       "      <td>128.750000</td>\n",
       "      <td>NaN</td>\n",
       "      <td>NaN</td>\n",
       "      <td>NaN</td>\n",
       "      <td>NaN</td>\n",
       "      <td>2.000000</td>\n",
       "      <td>1.000000</td>\n",
       "      <td>NaN</td>\n",
       "      <td>1.000000</td>\n",
       "      <td>NaN</td>\n",
       "      <td>NaN</td>\n",
       "    </tr>\n",
       "    <tr>\n",
       "      <th>50%</th>\n",
       "      <td>256.500000</td>\n",
       "      <td>NaN</td>\n",
       "      <td>NaN</td>\n",
       "      <td>NaN</td>\n",
       "      <td>NaN</td>\n",
       "      <td>2.000000</td>\n",
       "      <td>1.000000</td>\n",
       "      <td>NaN</td>\n",
       "      <td>1.000000</td>\n",
       "      <td>NaN</td>\n",
       "      <td>NaN</td>\n",
       "    </tr>\n",
       "    <tr>\n",
       "      <th>75%</th>\n",
       "      <td>384.250000</td>\n",
       "      <td>NaN</td>\n",
       "      <td>NaN</td>\n",
       "      <td>NaN</td>\n",
       "      <td>NaN</td>\n",
       "      <td>2.000000</td>\n",
       "      <td>2.000000</td>\n",
       "      <td>NaN</td>\n",
       "      <td>1.000000</td>\n",
       "      <td>NaN</td>\n",
       "      <td>NaN</td>\n",
       "    </tr>\n",
       "    <tr>\n",
       "      <th>max</th>\n",
       "      <td>512.000000</td>\n",
       "      <td>NaN</td>\n",
       "      <td>NaN</td>\n",
       "      <td>NaN</td>\n",
       "      <td>NaN</td>\n",
       "      <td>4.000000</td>\n",
       "      <td>5.000000</td>\n",
       "      <td>NaN</td>\n",
       "      <td>1.000000</td>\n",
       "      <td>NaN</td>\n",
       "      <td>NaN</td>\n",
       "    </tr>\n",
       "  </tbody>\n",
       "</table>\n",
       "</div>"
      ],
      "text/plain": [
       "                ID Fecha_Ocurrencia Codigo_Accidente  \\\n",
       "count   512.000000              512              512   \n",
       "unique         NaN              412              509   \n",
       "top            NaN  12/14/2024 0:00       A001371905   \n",
       "freq           NaN                3                2   \n",
       "mean    256.500000              NaN              NaN   \n",
       "std     147.945936              NaN              NaN   \n",
       "min       1.000000              NaN              NaN   \n",
       "25%     128.750000              NaN              NaN   \n",
       "50%     256.500000              NaN              NaN   \n",
       "75%     384.250000              NaN              NaN   \n",
       "max     512.000000              NaN              NaN   \n",
       "\n",
       "                            Direccion       Barrio  Vehiculos_Involucrados  \\\n",
       "count                             512          512              512.000000   \n",
       "unique                            503           51                     NaN   \n",
       "top     CALLE 13 CARRERA  16   CENTRO  No registra                     NaN   \n",
       "freq                                2          201                     NaN   \n",
       "mean                              NaN          NaN                1.865234   \n",
       "std                               NaN          NaN                0.471707   \n",
       "min                               NaN          NaN                1.000000   \n",
       "25%                               NaN          NaN                2.000000   \n",
       "50%                               NaN          NaN                2.000000   \n",
       "75%                               NaN          NaN                2.000000   \n",
       "max                               NaN          NaN                4.000000   \n",
       "\n",
       "           Heridos Accidente _con  Heridos _SI/NO     Muertes Clase_Accidente  \n",
       "count   512.000000            512       512.000000        512             512  \n",
       "unique         NaN              3              NaN          5               4  \n",
       "top            NaN        HERIDOS              NaN  NO APLICA          CHOQUE  \n",
       "freq           NaN            412              NaN        453             450  \n",
       "mean      1.298828            NaN         0.804688        NaN             NaN  \n",
       "std       0.914419            NaN         0.396829        NaN             NaN  \n",
       "min       0.000000            NaN         0.000000        NaN             NaN  \n",
       "25%       1.000000            NaN         1.000000        NaN             NaN  \n",
       "50%       1.000000            NaN         1.000000        NaN             NaN  \n",
       "75%       2.000000            NaN         1.000000        NaN             NaN  \n",
       "max       5.000000            NaN         1.000000        NaN             NaN  "
      ]
     },
     "execution_count": 421,
     "metadata": {},
     "output_type": "execute_result"
    }
   ],
   "source": [
    "#DESCRIPCION GENERAL ESTADISTICA\n",
    "df.describe(include='all')"
   ]
  },
  {
   "cell_type": "code",
   "execution_count": 422,
   "id": "261dd2e5",
   "metadata": {},
   "outputs": [],
   "source": [
    "#1.GRAFICA CANTIDAD DE ACCIDENTES POR MES\n",
    "# Asegurarse de que la columna de fechas esté en formato datetime\n",
    "df['Fecha_Ocurrencia'] = pd.to_datetime(df['Fecha_Ocurrencia'], errors='coerce')\n"
   ]
  },
  {
   "cell_type": "markdown",
   "id": "69e9f497",
   "metadata": {},
   "source": [
    "*Interpretación: Este gráfico nos muestra cuántos casos hay por categoría de género en la base.*"
   ]
  },
  {
   "cell_type": "code",
   "execution_count": 423,
   "id": "3fafbd13",
   "metadata": {},
   "outputs": [],
   "source": [
    "# Crear una columna para el mes y año\n",
    "df['Mes_Año'] = df['Fecha_Ocurrencia'].dt.to_period('M')"
   ]
  },
  {
   "cell_type": "code",
   "execution_count": 424,
   "id": "caac83e6",
   "metadata": {},
   "outputs": [],
   "source": [
    "# Contar accidentes por mes\n",
    "accidentes_por_mes = df['Mes_Año'].value_counts().sort_index()"
   ]
  },
  {
   "cell_type": "code",
   "execution_count": 425,
   "id": "0fbc65d5",
   "metadata": {},
   "outputs": [
    {
     "data": {
      "image/png": "[encoded data removed]",
      "text/plain": [
       "<Figure size 1200x600 with 1 Axes>"
      ]
     },
     "metadata": {},
     "output_type": "display_data"
    }
   ],
   "source": [
    "# Crear el gráfico\n",
    "plt.figure(figsize=(12, 6))\n",
    "accidentes_por_mes.plot(kind='line', color='skyblue')\n",
    "plt.title('Cantidad de accidentes por mes')\n",
    "plt.xlabel('Mes y Año')\n",
    "plt.ylabel('Número de Accidentes')\n",
    "plt.xticks(rotation=45)\n",
    "plt.tight_layout()\n",
    "plt.grid(axis='y', linestyle='--', alpha=0.7)\n",
    "plt.show()"
   ]
  },
  {
   "cell_type": "markdown",
   "id": "07f326df",
   "metadata": {},
   "source": [
    "ANALISIS GRAFICA #1 \n",
    "Teniendo en cuenta que la base de datos toma un rango de tiempo estimado entre el mes de enero del año 2021 y diciembre del año 2024, permite evidenciar que el momento donde mas ocurrencia de accidentes viales hubo fue enero del año 2022 donde la cantidad fue superior a 25 accidentes en el mes."
   ]
  },
  {
   "cell_type": "code",
   "execution_count": 426,
   "id": "2be0cf80",
   "metadata": {},
   "outputs": [],
   "source": [
    "#GRAFICA 2 - DISTRIBUCION POR CLASE DE ACCIDENTE\n",
    "# Contar la frecuencia de cada clase de accidente\n",
    "clases_accidente = df['Clase_Accidente'].value_counts()"
   ]
  },
  {
   "cell_type": "code",
   "execution_count": 427,
   "id": "ea279f78",
   "metadata": {},
   "outputs": [
    {
     "data": {
      "image/png": "[encoded data removed]",
      "text/plain": [
       "<Figure size 800x800 with 1 Axes>"
      ]
     },
     "metadata": {},
     "output_type": "display_data"
    }
   ],
   "source": [
    "# Crear el gráfico de pastel\n",
    "plt.figure(figsize=(8, 8))\n",
    "plt.pie(clases_accidente,\n",
    "        labels=clases_accidente.index,\n",
    "        autopct='%1.1f%%',\n",
    "        startangle=140,\n",
    "        colors=plt.cm.Pastel1.colors)\n",
    "plt.title('Distribución por clase de accidente')\n",
    "plt.axis('equal')  # Para que el gráfico sea circular\n",
    "plt.show()"
   ]
  },
  {
   "cell_type": "markdown",
   "id": "d4b5e612",
   "metadata": {},
   "source": [
    "ANALISIS GRAFICA 2\n",
    " El comportamiento de la distribución por clases de accidente da a conocer que la mayor clase es choque con un 87.9% de los casos."
   ]
  },
  {
   "cell_type": "code",
   "execution_count": 428,
   "id": "844bfa23",
   "metadata": {},
   "outputs": [],
   "source": [
    "#GRAFICA 3 CANTIDAD DE ACCIDENTES POR  BARRIO\n",
    "# Contar la cantidad de accidentes por barrio\n",
    "accidentes_por_barrio = df['Barrio'].value_counts().head(10)  # Muestra solo los 10 barrios con más accidentes"
   ]
  },
  {
   "cell_type": "code",
   "execution_count": 429,
   "id": "06790b25",
   "metadata": {},
   "outputs": [
    {
     "name": "stderr",
     "output_type": "stream",
     "text": [
      "/tmp/ipykernel_3649/1388281603.py:9: UserWarning: Glyph 141 (\\x8d) missing from font(s) DejaVu Sans.\n",
      "  plt.tight_layout()\n",
      "/home/codespace/.local/lib/python3.12/site-packages/IPython/core/pylabtools.py:170: UserWarning: Glyph 141 (\\x8d) missing from font(s) DejaVu Sans.\n",
      "  fig.canvas.print_figure(bytes_io, **kw)\n"
     ]
    },
    {
     "data": {
      "image/png": "[encoded data removed]",
      "text/plain": [
       "<Figure size 1000x600 with 1 Axes>"
      ]
     },
     "metadata": {},
     "output_type": "display_data"
    }
   ],
   "source": [
    "# Crear el gráfico de barras\n",
    "plt.figure(figsize=(10, 6))\n",
    "accidentes_por_barrio.plot(kind='bar', color='orange')\n",
    "plt.title('Cantidad de accidentes por barrio (Top 10)')\n",
    "plt.xlabel('Barrio')\n",
    "plt.ylabel('Número de Accidentes')\n",
    "plt.xticks(rotation=45)\n",
    "plt.grid(axis='y', linestyle='--', alpha=0.7)\n",
    "plt.tight_layout()\n",
    "plt.show()"
   ]
  },
  {
   "cell_type": "markdown",
   "id": "8600aacf",
   "metadata": {},
   "source": [
    "ANALISIS GRAFICA 3\n",
    " El registro de la mayoria de accidentes viales no cuentan con la informacion de barrio, sin embargo los registros con informacion muestran los barrios donde ocurre accidentes viales, sin que esto determine una cantidad mayor significativa en un barrio especifico."
   ]
  },
  {
   "cell_type": "code",
   "execution_count": 430,
   "id": "550b1a5a",
   "metadata": {},
   "outputs": [],
   "source": [
    "#GRAFICA 4 PROMEDIO DE HERIDOS POR  CLASE DE ACCIDENTE\n",
    "# Asegurar que la columna 'Heridos' esté en formato numérico\n",
    "df['Heridos'] = pd.to_numeric(df['Heridos'], errors='coerce')"
   ]
  },
  {
   "cell_type": "code",
   "execution_count": 431,
   "id": "de3e143d",
   "metadata": {},
   "outputs": [],
   "source": [
    "# Calcular el promedio de heridos por clase de accidente\n",
    "promedio_heridos = df.groupby('Clase_Accidente')['Heridos'].mean().sort_values()"
   ]
  },
  {
   "cell_type": "code",
   "execution_count": 432,
   "id": "07e11a74",
   "metadata": {},
   "outputs": [
    {
     "data": {
      "image/png": "[encoded data removed]",
      "text/plain": [
       "<Figure size 1000x600 with 1 Axes>"
      ]
     },
     "metadata": {},
     "output_type": "display_data"
    }
   ],
   "source": [
    "\n",
    "# Crear el gráfico de barras horizontales\n",
    "plt.figure(figsize=(10, 6))\n",
    "promedio_heridos.plot(kind='barh', color='mediumseagreen')\n",
    "plt.title('Promedio de heridos por clase de accidente')\n",
    "plt.xlabel('Promedio de Heridos')\n",
    "plt.ylabel('Clase de Accidente')\n",
    "plt.grid(axis='x', linestyle='--', alpha=0.7)\n",
    "plt.tight_layout()\n",
    "plt.show()"
   ]
  },
  {
   "cell_type": "markdown",
   "id": "c47095f7",
   "metadata": {},
   "source": [
    "ANALISIS GRAFICA:\n",
    " La grafica muestra que la mayor cantidad de heridos se debe a la clase de accidente atropello y no presenta informacion para heridos por clase de accidente  de volcamiento.ANALISIS GRAFICA: La grafica muestra que la mayor cantidad de heridos se debe a la clase de accidente atropello y no presenta informacion para heridos por clase de accidente  de volcamiento."
   ]
  },
  {
   "cell_type": "code",
   "execution_count": 433,
   "id": "1549a3b7",
   "metadata": {},
   "outputs": [],
   "source": [
    "#LIMPIEZA DE DATOS \n",
    "#libreria para limpieza de datos\n",
    "import pandas as pd\n",
    "from sklearn.model_selection import train_test_split\n",
    "from sklearn.linear_model import LogisticRegression\n",
    "from sklearn.metrics import accuracy_score\n",
    "from sklearn.pipeline import Pipeline\n",
    "from sklearn.compose import ColumnTransformer\n",
    "from sklearn.preprocessing import OneHotEncoder\n",
    "from sklearn.impute import SimpleImputer"
   ]
  },
  {
   "cell_type": "code",
   "execution_count": 434,
   "id": "2686d763",
   "metadata": {},
   "outputs": [
    {
     "name": "stdout",
     "output_type": "stream",
     "text": [
      "['ID', 'Fecha_Ocurrencia', 'Codigo_Accidente', 'Direccion', 'Barrio', 'Vehiculos_Involucrados', 'Heridos', 'Accidente _con', 'Heridos _SI/NO ', 'Muertes', 'Clase_Accidente', 'Mes_Año']\n"
     ]
    }
   ],
   "source": [
    "print(df.columns.tolist())"
   ]
  },
  {
   "cell_type": "code",
   "execution_count": 435,
   "id": "f5967ebb",
   "metadata": {},
   "outputs": [],
   "source": [
    "# Asegurarte de que las columnas existan y no tengan espacios\n",
    "df_raw = pd.read_csv('/workspaces/proyecto1/datos/Accidentes_Viales_final.csv', encoding='ISO-8859-1')\n",
    "df_raw.columns = df_raw.columns.str.strip()"
   ]
  },
  {
   "cell_type": "code",
   "execution_count": 436,
   "id": "ce34464e",
   "metadata": {},
   "outputs": [],
   "source": [
    "df_raw.columns = df_raw.columns.str.strip()"
   ]
  },
  {
   "cell_type": "code",
   "execution_count": 437,
   "id": "b0de240c",
   "metadata": {},
   "outputs": [
    {
     "data": {
      "text/html": [
       "<div>\n",
       "<style scoped>\n",
       "    .dataframe tbody tr th:only-of-type {\n",
       "        vertical-align: middle;\n",
       "    }\n",
       "\n",
       "    .dataframe tbody tr th {\n",
       "        vertical-align: top;\n",
       "    }\n",
       "\n",
       "    .dataframe thead th {\n",
       "        text-align: right;\n",
       "    }\n",
       "</style>\n",
       "<table border=\"1\" class=\"dataframe\">\n",
       "  <thead>\n",
       "    <tr style=\"text-align: right;\">\n",
       "      <th></th>\n",
       "      <th>ID</th>\n",
       "      <th>Fecha_Ocurrencia</th>\n",
       "      <th>Codigo_Accidente</th>\n",
       "      <th>Direccion</th>\n",
       "      <th>Barrio</th>\n",
       "      <th>Vehiculos_Involucrados</th>\n",
       "      <th>Heridos</th>\n",
       "      <th>Accidente _con</th>\n",
       "      <th>Heridos _SI/NO</th>\n",
       "      <th>Muertes</th>\n",
       "      <th>Clase_Accidente</th>\n",
       "      <th>Tipo_Accidente</th>\n",
       "    </tr>\n",
       "  </thead>\n",
       "  <tbody>\n",
       "    <tr>\n",
       "      <th>0</th>\n",
       "      <td>1</td>\n",
       "      <td>1/3/2024 0:00</td>\n",
       "      <td>A001602262</td>\n",
       "      <td>CALLE 14A CARRERA 34   BACHUE</td>\n",
       "      <td>BACHUE</td>\n",
       "      <td>2</td>\n",
       "      <td>2</td>\n",
       "      <td>HERIDOS</td>\n",
       "      <td>1</td>\n",
       "      <td>0</td>\n",
       "      <td>CHOQUE</td>\n",
       "      <td>Grave</td>\n",
       "    </tr>\n",
       "    <tr>\n",
       "      <th>1</th>\n",
       "      <td>2</td>\n",
       "      <td>1/6/2024 0:00</td>\n",
       "      <td>A001602263</td>\n",
       "      <td>CALLE 14 CARRERA  28   SAN JOSÃ</td>\n",
       "      <td>SAN JOSE</td>\n",
       "      <td>2</td>\n",
       "      <td>3</td>\n",
       "      <td>HERIDOS</td>\n",
       "      <td>1</td>\n",
       "      <td>0</td>\n",
       "      <td>CHOQUE</td>\n",
       "      <td>Grave</td>\n",
       "    </tr>\n",
       "    <tr>\n",
       "      <th>2</th>\n",
       "      <td>3</td>\n",
       "      <td>1/9/2024 0:00</td>\n",
       "      <td>A001602264</td>\n",
       "      <td>KILOMETRO 7+800 MTS</td>\n",
       "      <td>No registra</td>\n",
       "      <td>1</td>\n",
       "      <td>1</td>\n",
       "      <td>HERIDOS</td>\n",
       "      <td>1</td>\n",
       "      <td>0</td>\n",
       "      <td>CHOQUE</td>\n",
       "      <td>Medio</td>\n",
       "    </tr>\n",
       "    <tr>\n",
       "      <th>3</th>\n",
       "      <td>4</td>\n",
       "      <td>1/12/2024 0:00</td>\n",
       "      <td>A001602265</td>\n",
       "      <td>AVENIDA 23 N. 24 - 07   LA TIZA</td>\n",
       "      <td>LA TIZA</td>\n",
       "      <td>2</td>\n",
       "      <td>2</td>\n",
       "      <td>HERIDOS</td>\n",
       "      <td>1</td>\n",
       "      <td>0</td>\n",
       "      <td>CHOQUE</td>\n",
       "      <td>Grave</td>\n",
       "    </tr>\n",
       "    <tr>\n",
       "      <th>4</th>\n",
       "      <td>5</td>\n",
       "      <td>1/12/2024 0:00</td>\n",
       "      <td>A001602266</td>\n",
       "      <td>KILOMETRO 3+500 MTS VIA CHICHIMENE ESTACION AC...</td>\n",
       "      <td>No registra</td>\n",
       "      <td>2</td>\n",
       "      <td>1</td>\n",
       "      <td>HERIDOS</td>\n",
       "      <td>1</td>\n",
       "      <td>0</td>\n",
       "      <td>CHOQUE</td>\n",
       "      <td>Medio</td>\n",
       "    </tr>\n",
       "  </tbody>\n",
       "</table>\n",
       "</div>"
      ],
      "text/plain": [
       "   ID Fecha_Ocurrencia Codigo_Accidente  \\\n",
       "0   1    1/3/2024 0:00       A001602262   \n",
       "1   2    1/6/2024 0:00       A001602263   \n",
       "2   3    1/9/2024 0:00       A001602264   \n",
       "3   4   1/12/2024 0:00       A001602265   \n",
       "4   5   1/12/2024 0:00       A001602266   \n",
       "\n",
       "                                           Direccion       Barrio  \\\n",
       "0                      CALLE 14A CARRERA 34   BACHUE       BACHUE   \n",
       "1                   CALLE 14 CARRERA  28   SAN JOSÃ     SAN JOSE   \n",
       "2                                KILOMETRO 7+800 MTS  No registra   \n",
       "3                    AVENIDA 23 N. 24 - 07   LA TIZA      LA TIZA   \n",
       "4  KILOMETRO 3+500 MTS VIA CHICHIMENE ESTACION AC...  No registra   \n",
       "\n",
       "   Vehiculos_Involucrados  Heridos Accidente _con  Heridos _SI/NO  Muertes  \\\n",
       "0                       2        2        HERIDOS               1        0   \n",
       "1                       2        3        HERIDOS               1        0   \n",
       "2                       1        1        HERIDOS               1        0   \n",
       "3                       2        2        HERIDOS               1        0   \n",
       "4                       2        1        HERIDOS               1        0   \n",
       "\n",
       "  Clase_Accidente Tipo_Accidente  \n",
       "0          CHOQUE          Grave  \n",
       "1          CHOQUE          Grave  \n",
       "2          CHOQUE          Medio  \n",
       "3          CHOQUE          Grave  \n",
       "4          CHOQUE          Medio  "
      ]
     },
     "execution_count": 437,
     "metadata": {},
     "output_type": "execute_result"
    }
   ],
   "source": [
    "#CREACIÓN DE COLUMNA TIPO DE ACCIDENTE PARA FORTALECER EL ANALISIS\n",
    "# Replace non-numeric values with 0\n",
    "df_raw[\"Heridos\"] = df_raw[\"Heridos\"].replace('NO APLICA', 0)\n",
    "df_raw[\"Muertes\"] = df_raw[\"Muertes\"].replace('NO APLICA', 0)\n",
    "\n",
    "# Ensure columns are integers\n",
    "df_raw[\"Heridos\"] = df_raw[\"Heridos\"].astype(int)\n",
    "df_raw[\"Muertes\"] = df_raw[\"Muertes\"].astype(int)\n",
    "\n",
    "# Define the function\n",
    "def clasificar_accidente(row):\n",
    "    if row[\"Heridos\"] == 0 and row[\"Muertes\"] == 0:\n",
    "        return \"Leve\"\n",
    "    elif row[\"Heridos\"] == 1 and row[\"Muertes\"] == 0:\n",
    "        return \"Medio\"\n",
    "    elif row[\"Heridos\"] > 1 and row[\"Muertes\"] > 1:\n",
    "        return \"Grave\"\n",
    "    else:\n",
    "        return \"Grave\"\n",
    "\n",
    "# Apply the function\n",
    "df_raw[\"Tipo_Accidente\"] = df_raw.apply(clasificar_accidente, axis=1)\n",
    "\n",
    "# Verificacion  de  que la columna si se haya creado\n",
    "df_raw.head()"
   ]
  },
  {
   "cell_type": "code",
   "execution_count": 508,
   "id": "0d1ca02e",
   "metadata": {},
   "outputs": [],
   "source": [
    "#CREAR VARIABLES OBJETIVO\n",
    "df[\"Tipo_Accidente\"] = df[\"Clase_Accidente\"]"
   ]
  },
  {
   "cell_type": "code",
   "execution_count": 439,
   "id": "7c3425e3",
   "metadata": {},
   "outputs": [
    {
     "name": "stdout",
     "output_type": "stream",
     "text": [
      "Tipo_Accidente\n",
      "CHOQUE         450\n",
      "ATROPELLO       54\n",
      "OTRO             7\n",
      "VOLCAMIENTO      1\n",
      "Name: count, dtype: int64\n",
      "Tipo_Accidente\n",
      "CHOQUE         87.890625\n",
      "ATROPELLO      10.546875\n",
      "OTRO            1.367188\n",
      "VOLCAMIENTO     0.195312\n",
      "Name: proportion, dtype: float64\n"
     ]
    }
   ],
   "source": [
    "#REVISIÓN DE DATOS\n",
    "print(df['Tipo_Accidente'].value_counts())\n",
    "print(df['Tipo_Accidente'].value_counts(normalize=True) * 100)"
   ]
  },
  {
   "cell_type": "code",
   "execution_count": 440,
   "id": "3ca37305",
   "metadata": {},
   "outputs": [],
   "source": [
    "#definiendo los modelos de acuerdo a los Datos\n",
    "X = df_raw[[\"Heridos\", \"Muertes\", \"Clase_Accidente\"]]\n",
    "y = df_raw[\"Tipo_Accidente\"]"
   ]
  },
  {
   "cell_type": "code",
   "execution_count": 441,
   "id": "f89de823",
   "metadata": {},
   "outputs": [],
   "source": [
    "# Detectar columnas categóricas y numéricas\n",
    "cat_cols = X.select_dtypes(include=\"object\").columns.tolist()\n",
    "num_cols = X.select_dtypes(include=\"number\").columns.tolist()"
   ]
  },
  {
   "cell_type": "code",
   "execution_count": 442,
   "id": "fe8e6ff5",
   "metadata": {},
   "outputs": [],
   "source": [
    "# Definir el preprocesamiento automático\n",
    "preprocesador = ColumnTransformer(transformers=[\n",
    "    (\"num\", SimpleImputer(strategy=\"mean\"), num_cols),\n",
    "    (\"cat\", Pipeline([\n",
    "    (\"imp\", SimpleImputer(strategy=\"most_frequent\")),\n",
    "    (\"ohe\", OneHotEncoder(handle_unknown=\"ignore\"))\n",
    "    ]), cat_cols)])"
   ]
  },
  {
   "cell_type": "code",
   "execution_count": 443,
   "id": "7f849281",
   "metadata": {},
   "outputs": [],
   "source": [
    "#Crear pipeline del modelo / hacer pasosconsecutivos\n",
    "modelo = Pipeline(steps=[\n",
    "    (\"prep\", preprocesador),\n",
    "    (\"logreg\", LogisticRegression(max_iter=200))])"
   ]
  },
  {
   "cell_type": "code",
   "execution_count": 444,
   "id": "aa82fa55",
   "metadata": {},
   "outputs": [
    {
     "name": "stdout",
     "output_type": "stream",
     "text": [
      "Número de filas en X: 512\n",
      "Columnas: ['Heridos', 'Muertes', 'Clase_Accidente']\n",
      "Primeras filas:\n",
      "   Heridos  Muertes Clase_Accidente\n",
      "0        2        0          CHOQUE\n",
      "1        3        0          CHOQUE\n",
      "2        1        0          CHOQUE\n",
      "3        2        0          CHOQUE\n",
      "4        1        0          CHOQUE\n"
     ]
    }
   ],
   "source": [
    "#mostras en pantalla \n",
    "print(\"Número de filas en X:\", X.shape[0])\n",
    "print(\"Columnas:\", X.columns.tolist())\n",
    "print(\"Primeras filas:\")\n",
    "print(X.head())"
   ]
  },
  {
   "cell_type": "code",
   "execution_count": 445,
   "id": "3903aa63",
   "metadata": {},
   "outputs": [
    {
     "name": "stdout",
     "output_type": "stream",
     "text": [
      "Filas válidas para modelar: 512\n"
     ]
    }
   ],
   "source": [
    "df_model = df_raw[[\"Heridos\", \"Muertes\", \"Clase_Accidente\"]].dropna()\n",
    "print(\"Filas válidas para modelar:\", len(df_model))"
   ]
  },
  {
   "cell_type": "code",
   "execution_count": 446,
   "id": "544afa0b",
   "metadata": {},
   "outputs": [
    {
     "name": "stdout",
     "output_type": "stream",
     "text": [
      "['ID', 'Fecha_Ocurrencia', 'Codigo_Accidente', 'Direccion', 'Barrio', 'Vehiculos_Involucrados', 'Heridos', 'Accidente _con', 'Heridos _SI/NO', 'Muertes', 'Clase_Accidente', 'Tipo_Accidente']\n"
     ]
    }
   ],
   "source": [
    "print(df_raw.columns.tolist())"
   ]
  },
  {
   "cell_type": "code",
   "execution_count": 447,
   "id": "333be8f2",
   "metadata": {},
   "outputs": [],
   "source": [
    "# Elimina espacios iniciales y finales\n",
    "df_raw.columns = df_raw.columns.str.strip() "
   ]
  },
  {
   "cell_type": "code",
   "execution_count": 448,
   "id": "4e189a3b",
   "metadata": {},
   "outputs": [],
   "source": [
    "# Reemplazar 'NO APLICA' por 0 en la columna Muertes\n",
    "df_raw[\"Muertes\"] = df_raw[\"Muertes\"].replace(\"NO APLICA\", 0)"
   ]
  },
  {
   "cell_type": "code",
   "execution_count": 449,
   "id": "1b1d6305",
   "metadata": {},
   "outputs": [],
   "source": [
    "# Convertir 'Heridos' y 'Muertes' a enteros (maneja errores)\n",
    "df_raw[\"Muertes\"] = pd.to_numeric(df_raw[\"Muertes\"], errors=\"coerce\").fillna(0).astype(int)\n",
    "df_raw[\"Heridos\"] = pd.to_numeric(df_raw[\"Heridos\"], errors=\"coerce\").fillna(0).astype(int)"
   ]
  },
  {
   "cell_type": "code",
   "execution_count": 450,
   "id": "14b5b9ca",
   "metadata": {},
   "outputs": [],
   "source": [
    "if \"Tipo_Accidente\" not in df_raw.columns:\n",
    "    df_raw[\"Tipo_Accidente\"] = df_raw.apply(clasificar_accidente, axis=1)"
   ]
  },
  {
   "cell_type": "code",
   "execution_count": 451,
   "id": "ce88ace9",
   "metadata": {},
   "outputs": [],
   "source": [
    "# Crear columna Clasificar_Accidente si no existe\n",
    "def clasificar_accidente(row):\n",
    "    if row[\"Heridos\"] == 0 and row[\"Muertes\"] == 0:\n",
    "        return \"Leve\"\n",
    "    elif row[\"Heridos\"] == 1 and row[\"Muertes\"] == 0:\n",
    "        return \"Medio\"\n",
    "    else:\n",
    "        return \"Grave\""
   ]
  },
  {
   "cell_type": "code",
   "execution_count": 452,
   "id": "f54341c8",
   "metadata": {},
   "outputs": [],
   "source": [
    "#Eliminar filas con nulos en columnas clave\n",
    "df_limpio = df_raw.dropna(subset=[\"Heridos\", \"Muertes\", \"Tipo_Accidente\"])"
   ]
  },
  {
   "cell_type": "code",
   "execution_count": 453,
   "id": "255c3f68",
   "metadata": {},
   "outputs": [],
   "source": [
    "# Variables predictoras y objetivo\n",
    "X = df_limpio[[\"Heridos\", \"Muertes\"]]  # ✅ Lista de strings\n",
    "y = df_limpio[\"Tipo_Accidente\"]"
   ]
  },
  {
   "cell_type": "code",
   "execution_count": 454,
   "id": "e9b5179c",
   "metadata": {},
   "outputs": [],
   "source": [
    "#Separar en entrenamiento y prueba, con estratificación\n",
    "from sklearn.model_selection import train_test_split"
   ]
  },
  {
   "cell_type": "code",
   "execution_count": 455,
   "id": "8c629085",
   "metadata": {},
   "outputs": [],
   "source": [
    "X_train, X_test, y_train, y_test = train_test_split(\n",
    "    X, y, test_size=0.2, random_state=42, stratify=y\n",
    ")"
   ]
  },
  {
   "cell_type": "code",
   "execution_count": 456,
   "id": "e994ff56",
   "metadata": {},
   "outputs": [
    {
     "data": {
      "text/html": [
       "<style>#sk-container-id-5 {\n",
       "  /* Definition of color scheme common for light and dark mode */\n",
       "  --sklearn-color-text: #000;\n",
       "  --sklearn-color-text-muted: #666;\n",
       "  --sklearn-color-line: gray;\n",
       "  /* Definition of color scheme for unfitted estimators */\n",
       "  --sklearn-color-unfitted-level-0: #fff5e6;\n",
       "  --sklearn-color-unfitted-level-1: #f6e4d2;\n",
       "  --sklearn-color-unfitted-level-2: #ffe0b3;\n",
       "  --sklearn-color-unfitted-level-3: chocolate;\n",
       "  /* Definition of color scheme for fitted estimators */\n",
       "  --sklearn-color-fitted-level-0: #f0f8ff;\n",
       "  --sklearn-color-fitted-level-1: #d4ebff;\n",
       "  --sklearn-color-fitted-level-2: #b3dbfd;\n",
       "  --sklearn-color-fitted-level-3: cornflowerblue;\n",
       "\n",
       "  /* Specific color for light theme */\n",
       "  --sklearn-color-text-on-default-background: var(--sg-text-color, var(--theme-code-foreground, var(--jp-content-font-color1, black)));\n",
       "  --sklearn-color-background: var(--sg-background-color, var(--theme-background, var(--jp-layout-color0, white)));\n",
       "  --sklearn-color-border-box: var(--sg-text-color, var(--theme-code-foreground, var(--jp-content-font-color1, black)));\n",
       "  --sklearn-color-icon: #696969;\n",
       "\n",
       "  @media (prefers-color-scheme: dark) {\n",
       "    /* Redefinition of color scheme for dark theme */\n",
       "    --sklearn-color-text-on-default-background: var(--sg-text-color, var(--theme-code-foreground, var(--jp-content-font-color1, white)));\n",
       "    --sklearn-color-background: var(--sg-background-color, var(--theme-background, var(--jp-layout-color0, #111)));\n",
       "    --sklearn-color-border-box: var(--sg-text-color, var(--theme-code-foreground, var(--jp-content-font-color1, white)));\n",
       "    --sklearn-color-icon: #878787;\n",
       "  }\n",
       "}\n",
       "\n",
       "#sk-container-id-5 {\n",
       "  color: var(--sklearn-color-text);\n",
       "}\n",
       "\n",
       "#sk-container-id-5 pre {\n",
       "  padding: 0;\n",
       "}\n",
       "\n",
       "#sk-container-id-5 input.sk-hidden--visually {\n",
       "  border: 0;\n",
       "  clip: rect(1px 1px 1px 1px);\n",
       "  clip: rect(1px, 1px, 1px, 1px);\n",
       "  height: 1px;\n",
       "  margin: -1px;\n",
       "  overflow: hidden;\n",
       "  padding: 0;\n",
       "  position: absolute;\n",
       "  width: 1px;\n",
       "}\n",
       "\n",
       "#sk-container-id-5 div.sk-dashed-wrapped {\n",
       "  border: 1px dashed var(--sklearn-color-line);\n",
       "  margin: 0 0.4em 0.5em 0.4em;\n",
       "  box-sizing: border-box;\n",
       "  padding-bottom: 0.4em;\n",
       "  background-color: var(--sklearn-color-background);\n",
       "}\n",
       "\n",
       "#sk-container-id-5 div.sk-container {\n",
       "  /* jupyter's `normalize.less` sets `[hidden] { display: none; }`\n",
       "     but bootstrap.min.css set `[hidden] { display: none !important; }`\n",
       "     so we also need the `!important` here to be able to override the\n",
       "     default hidden behavior on the sphinx rendered scikit-learn.org.\n",
       "     See: https://github.com/scikit-learn/scikit-learn/issues/21755 */\n",
       "  display: inline-block !important;\n",
       "  position: relative;\n",
       "}\n",
       "\n",
       "#sk-container-id-5 div.sk-text-repr-fallback {\n",
       "  display: none;\n",
       "}\n",
       "\n",
       "div.sk-parallel-item,\n",
       "div.sk-serial,\n",
       "div.sk-item {\n",
       "  /* draw centered vertical line to link estimators */\n",
       "  background-image: linear-gradient(var(--sklearn-color-text-on-default-background), var(--sklearn-color-text-on-default-background));\n",
       "  background-size: 2px 100%;\n",
       "  background-repeat: no-repeat;\n",
       "  background-position: center center;\n",
       "}\n",
       "\n",
       "/* Parallel-specific style estimator block */\n",
       "\n",
       "#sk-container-id-5 div.sk-parallel-item::after {\n",
       "  content: \"\";\n",
       "  width: 100%;\n",
       "  border-bottom: 2px solid var(--sklearn-color-text-on-default-background);\n",
       "  flex-grow: 1;\n",
       "}\n",
       "\n",
       "#sk-container-id-5 div.sk-parallel {\n",
       "  display: flex;\n",
       "  align-items: stretch;\n",
       "  justify-content: center;\n",
       "  background-color: var(--sklearn-color-background);\n",
       "  position: relative;\n",
       "}\n",
       "\n",
       "#sk-container-id-5 div.sk-parallel-item {\n",
       "  display: flex;\n",
       "  flex-direction: column;\n",
       "}\n",
       "\n",
       "#sk-container-id-5 div.sk-parallel-item:first-child::after {\n",
       "  align-self: flex-end;\n",
       "  width: 50%;\n",
       "}\n",
       "\n",
       "#sk-container-id-5 div.sk-parallel-item:last-child::after {\n",
       "  align-self: flex-start;\n",
       "  width: 50%;\n",
       "}\n",
       "\n",
       "#sk-container-id-5 div.sk-parallel-item:only-child::after {\n",
       "  width: 0;\n",
       "}\n",
       "\n",
       "/* Serial-specific style estimator block */\n",
       "\n",
       "#sk-container-id-5 div.sk-serial {\n",
       "  display: flex;\n",
       "  flex-direction: column;\n",
       "  align-items: center;\n",
       "  background-color: var(--sklearn-color-background);\n",
       "  padding-right: 1em;\n",
       "  padding-left: 1em;\n",
       "}\n",
       "\n",
       "\n",
       "/* Toggleable style: style used for estimator/Pipeline/ColumnTransformer box that is\n",
       "clickable and can be expanded/collapsed.\n",
       "- Pipeline and ColumnTransformer use this feature and define the default style\n",
       "- Estimators will overwrite some part of the style using the `sk-estimator` class\n",
       "*/\n",
       "\n",
       "/* Pipeline and ColumnTransformer style (default) */\n",
       "\n",
       "#sk-container-id-5 div.sk-toggleable {\n",
       "  /* Default theme specific background. It is overwritten whether we have a\n",
       "  specific estimator or a Pipeline/ColumnTransformer */\n",
       "  background-color: var(--sklearn-color-background);\n",
       "}\n",
       "\n",
       "/* Toggleable label */\n",
       "#sk-container-id-5 label.sk-toggleable__label {\n",
       "  cursor: pointer;\n",
       "  display: flex;\n",
       "  width: 100%;\n",
       "  margin-bottom: 0;\n",
       "  padding: 0.5em;\n",
       "  box-sizing: border-box;\n",
       "  text-align: center;\n",
       "  align-items: start;\n",
       "  justify-content: space-between;\n",
       "  gap: 0.5em;\n",
       "}\n",
       "\n",
       "#sk-container-id-5 label.sk-toggleable__label .caption {\n",
       "  font-size: 0.6rem;\n",
       "  font-weight: lighter;\n",
       "  color: var(--sklearn-color-text-muted);\n",
       "}\n",
       "\n",
       "#sk-container-id-5 label.sk-toggleable__label-arrow:before {\n",
       "  /* Arrow on the left of the label */\n",
       "  content: \"▸\";\n",
       "  float: left;\n",
       "  margin-right: 0.25em;\n",
       "  color: var(--sklearn-color-icon);\n",
       "}\n",
       "\n",
       "#sk-container-id-5 label.sk-toggleable__label-arrow:hover:before {\n",
       "  color: var(--sklearn-color-text);\n",
       "}\n",
       "\n",
       "/* Toggleable content - dropdown */\n",
       "\n",
       "#sk-container-id-5 div.sk-toggleable__content {\n",
       "  max-height: 0;\n",
       "  max-width: 0;\n",
       "  overflow: hidden;\n",
       "  text-align: left;\n",
       "  /* unfitted */\n",
       "  background-color: var(--sklearn-color-unfitted-level-0);\n",
       "}\n",
       "\n",
       "#sk-container-id-5 div.sk-toggleable__content.fitted {\n",
       "  /* fitted */\n",
       "  background-color: var(--sklearn-color-fitted-level-0);\n",
       "}\n",
       "\n",
       "#sk-container-id-5 div.sk-toggleable__content pre {\n",
       "  margin: 0.2em;\n",
       "  border-radius: 0.25em;\n",
       "  color: var(--sklearn-color-text);\n",
       "  /* unfitted */\n",
       "  background-color: var(--sklearn-color-unfitted-level-0);\n",
       "}\n",
       "\n",
       "#sk-container-id-5 div.sk-toggleable__content.fitted pre {\n",
       "  /* unfitted */\n",
       "  background-color: var(--sklearn-color-fitted-level-0);\n",
       "}\n",
       "\n",
       "#sk-container-id-5 input.sk-toggleable__control:checked~div.sk-toggleable__content {\n",
       "  /* Expand drop-down */\n",
       "  max-height: 200px;\n",
       "  max-width: 100%;\n",
       "  overflow: auto;\n",
       "}\n",
       "\n",
       "#sk-container-id-5 input.sk-toggleable__control:checked~label.sk-toggleable__label-arrow:before {\n",
       "  content: \"▾\";\n",
       "}\n",
       "\n",
       "/* Pipeline/ColumnTransformer-specific style */\n",
       "\n",
       "#sk-container-id-5 div.sk-label input.sk-toggleable__control:checked~label.sk-toggleable__label {\n",
       "  color: var(--sklearn-color-text);\n",
       "  background-color: var(--sklearn-color-unfitted-level-2);\n",
       "}\n",
       "\n",
       "#sk-container-id-5 div.sk-label.fitted input.sk-toggleable__control:checked~label.sk-toggleable__label {\n",
       "  background-color: var(--sklearn-color-fitted-level-2);\n",
       "}\n",
       "\n",
       "/* Estimator-specific style */\n",
       "\n",
       "/* Colorize estimator box */\n",
       "#sk-container-id-5 div.sk-estimator input.sk-toggleable__control:checked~label.sk-toggleable__label {\n",
       "  /* unfitted */\n",
       "  background-color: var(--sklearn-color-unfitted-level-2);\n",
       "}\n",
       "\n",
       "#sk-container-id-5 div.sk-estimator.fitted input.sk-toggleable__control:checked~label.sk-toggleable__label {\n",
       "  /* fitted */\n",
       "  background-color: var(--sklearn-color-fitted-level-2);\n",
       "}\n",
       "\n",
       "#sk-container-id-5 div.sk-label label.sk-toggleable__label,\n",
       "#sk-container-id-5 div.sk-label label {\n",
       "  /* The background is the default theme color */\n",
       "  color: var(--sklearn-color-text-on-default-background);\n",
       "}\n",
       "\n",
       "/* On hover, darken the color of the background */\n",
       "#sk-container-id-5 div.sk-label:hover label.sk-toggleable__label {\n",
       "  color: var(--sklearn-color-text);\n",
       "  background-color: var(--sklearn-color-unfitted-level-2);\n",
       "}\n",
       "\n",
       "/* Label box, darken color on hover, fitted */\n",
       "#sk-container-id-5 div.sk-label.fitted:hover label.sk-toggleable__label.fitted {\n",
       "  color: var(--sklearn-color-text);\n",
       "  background-color: var(--sklearn-color-fitted-level-2);\n",
       "}\n",
       "\n",
       "/* Estimator label */\n",
       "\n",
       "#sk-container-id-5 div.sk-label label {\n",
       "  font-family: monospace;\n",
       "  font-weight: bold;\n",
       "  display: inline-block;\n",
       "  line-height: 1.2em;\n",
       "}\n",
       "\n",
       "#sk-container-id-5 div.sk-label-container {\n",
       "  text-align: center;\n",
       "}\n",
       "\n",
       "/* Estimator-specific */\n",
       "#sk-container-id-5 div.sk-estimator {\n",
       "  font-family: monospace;\n",
       "  border: 1px dotted var(--sklearn-color-border-box);\n",
       "  border-radius: 0.25em;\n",
       "  box-sizing: border-box;\n",
       "  margin-bottom: 0.5em;\n",
       "  /* unfitted */\n",
       "  background-color: var(--sklearn-color-unfitted-level-0);\n",
       "}\n",
       "\n",
       "#sk-container-id-5 div.sk-estimator.fitted {\n",
       "  /* fitted */\n",
       "  background-color: var(--sklearn-color-fitted-level-0);\n",
       "}\n",
       "\n",
       "/* on hover */\n",
       "#sk-container-id-5 div.sk-estimator:hover {\n",
       "  /* unfitted */\n",
       "  background-color: var(--sklearn-color-unfitted-level-2);\n",
       "}\n",
       "\n",
       "#sk-container-id-5 div.sk-estimator.fitted:hover {\n",
       "  /* fitted */\n",
       "  background-color: var(--sklearn-color-fitted-level-2);\n",
       "}\n",
       "\n",
       "/* Specification for estimator info (e.g. \"i\" and \"?\") */\n",
       "\n",
       "/* Common style for \"i\" and \"?\" */\n",
       "\n",
       ".sk-estimator-doc-link,\n",
       "a:link.sk-estimator-doc-link,\n",
       "a:visited.sk-estimator-doc-link {\n",
       "  float: right;\n",
       "  font-size: smaller;\n",
       "  line-height: 1em;\n",
       "  font-family: monospace;\n",
       "  background-color: var(--sklearn-color-background);\n",
       "  border-radius: 1em;\n",
       "  height: 1em;\n",
       "  width: 1em;\n",
       "  text-decoration: none !important;\n",
       "  margin-left: 0.5em;\n",
       "  text-align: center;\n",
       "  /* unfitted */\n",
       "  border: var(--sklearn-color-unfitted-level-1) 1pt solid;\n",
       "  color: var(--sklearn-color-unfitted-level-1);\n",
       "}\n",
       "\n",
       ".sk-estimator-doc-link.fitted,\n",
       "a:link.sk-estimator-doc-link.fitted,\n",
       "a:visited.sk-estimator-doc-link.fitted {\n",
       "  /* fitted */\n",
       "  border: var(--sklearn-color-fitted-level-1) 1pt solid;\n",
       "  color: var(--sklearn-color-fitted-level-1);\n",
       "}\n",
       "\n",
       "/* On hover */\n",
       "div.sk-estimator:hover .sk-estimator-doc-link:hover,\n",
       ".sk-estimator-doc-link:hover,\n",
       "div.sk-label-container:hover .sk-estimator-doc-link:hover,\n",
       ".sk-estimator-doc-link:hover {\n",
       "  /* unfitted */\n",
       "  background-color: var(--sklearn-color-unfitted-level-3);\n",
       "  color: var(--sklearn-color-background);\n",
       "  text-decoration: none;\n",
       "}\n",
       "\n",
       "div.sk-estimator.fitted:hover .sk-estimator-doc-link.fitted:hover,\n",
       ".sk-estimator-doc-link.fitted:hover,\n",
       "div.sk-label-container:hover .sk-estimator-doc-link.fitted:hover,\n",
       ".sk-estimator-doc-link.fitted:hover {\n",
       "  /* fitted */\n",
       "  background-color: var(--sklearn-color-fitted-level-3);\n",
       "  color: var(--sklearn-color-background);\n",
       "  text-decoration: none;\n",
       "}\n",
       "\n",
       "/* Span, style for the box shown on hovering the info icon */\n",
       ".sk-estimator-doc-link span {\n",
       "  display: none;\n",
       "  z-index: 9999;\n",
       "  position: relative;\n",
       "  font-weight: normal;\n",
       "  right: .2ex;\n",
       "  padding: .5ex;\n",
       "  margin: .5ex;\n",
       "  width: min-content;\n",
       "  min-width: 20ex;\n",
       "  max-width: 50ex;\n",
       "  color: var(--sklearn-color-text);\n",
       "  box-shadow: 2pt 2pt 4pt #999;\n",
       "  /* unfitted */\n",
       "  background: var(--sklearn-color-unfitted-level-0);\n",
       "  border: .5pt solid var(--sklearn-color-unfitted-level-3);\n",
       "}\n",
       "\n",
       ".sk-estimator-doc-link.fitted span {\n",
       "  /* fitted */\n",
       "  background: var(--sklearn-color-fitted-level-0);\n",
       "  border: var(--sklearn-color-fitted-level-3);\n",
       "}\n",
       "\n",
       ".sk-estimator-doc-link:hover span {\n",
       "  display: block;\n",
       "}\n",
       "\n",
       "/* \"?\"-specific style due to the `<a>` HTML tag */\n",
       "\n",
       "#sk-container-id-5 a.estimator_doc_link {\n",
       "  float: right;\n",
       "  font-size: 1rem;\n",
       "  line-height: 1em;\n",
       "  font-family: monospace;\n",
       "  background-color: var(--sklearn-color-background);\n",
       "  border-radius: 1rem;\n",
       "  height: 1rem;\n",
       "  width: 1rem;\n",
       "  text-decoration: none;\n",
       "  /* unfitted */\n",
       "  color: var(--sklearn-color-unfitted-level-1);\n",
       "  border: var(--sklearn-color-unfitted-level-1) 1pt solid;\n",
       "}\n",
       "\n",
       "#sk-container-id-5 a.estimator_doc_link.fitted {\n",
       "  /* fitted */\n",
       "  border: var(--sklearn-color-fitted-level-1) 1pt solid;\n",
       "  color: var(--sklearn-color-fitted-level-1);\n",
       "}\n",
       "\n",
       "/* On hover */\n",
       "#sk-container-id-5 a.estimator_doc_link:hover {\n",
       "  /* unfitted */\n",
       "  background-color: var(--sklearn-color-unfitted-level-3);\n",
       "  color: var(--sklearn-color-background);\n",
       "  text-decoration: none;\n",
       "}\n",
       "\n",
       "#sk-container-id-5 a.estimator_doc_link.fitted:hover {\n",
       "  /* fitted */\n",
       "  background-color: var(--sklearn-color-fitted-level-3);\n",
       "}\n",
       "</style><div id=\"sk-container-id-5\" class=\"sk-top-container\"><div class=\"sk-text-repr-fallback\"><pre>LogisticRegression(max_iter=200)</pre><b>In a Jupyter environment, please rerun this cell to show the HTML representation or trust the notebook. <br />On GitHub, the HTML representation is unable to render, please try loading this page with nbviewer.org.</b></div><div class=\"sk-container\" hidden><div class=\"sk-item\"><div class=\"sk-estimator fitted sk-toggleable\"><input class=\"sk-toggleable__control sk-hidden--visually\" id=\"sk-estimator-id-5\" type=\"checkbox\" checked><label for=\"sk-estimator-id-5\" class=\"sk-toggleable__label fitted sk-toggleable__label-arrow\"><div><div>LogisticRegression</div></div><div><a class=\"sk-estimator-doc-link fitted\" rel=\"noreferrer\" target=\"_blank\" href=\"https://scikit-learn.org/1.6/modules/generated/sklearn.linear_model.LogisticRegression.html\">?<span>Documentation for LogisticRegression</span></a><span class=\"sk-estimator-doc-link fitted\">i<span>Fitted</span></span></div></label><div class=\"sk-toggleable__content fitted\"><pre>LogisticRegression(max_iter=200)</pre></div> </div></div></div></div>"
      ],
      "text/plain": [
       "LogisticRegression(max_iter=200)"
      ]
     },
     "execution_count": 456,
     "metadata": {},
     "output_type": "execute_result"
    }
   ],
   "source": [
    "#Entrenar modelo\n",
    "from sklearn.linear_model import LogisticRegression\n",
    "model = LogisticRegression(max_iter=200)\n",
    "model.fit(X_train, y_train)"
   ]
  },
  {
   "cell_type": "code",
   "execution_count": 457,
   "id": "23064a81",
   "metadata": {},
   "outputs": [],
   "source": [
    "# Predecir y evaluar\n",
    "from sklearn.metrics import accuracy_score, classification_report"
   ]
  },
  {
   "cell_type": "code",
   "execution_count": 458,
   "id": "b983ba2c",
   "metadata": {},
   "outputs": [],
   "source": [
    "y_pred = model.predict(X_test)\n",
    "accuracy = accuracy_score(y_test, y_pred)"
   ]
  },
  {
   "cell_type": "code",
   "execution_count": 459,
   "id": "e6486ec8",
   "metadata": {},
   "outputs": [
    {
     "name": "stdout",
     "output_type": "stream",
     "text": [
      "Accuracy del modelo: 1.0\n",
      "\n",
      "Reporte de clasificación:\n",
      "               precision    recall  f1-score   support\n",
      "\n",
      "       Grave       1.00      1.00      1.00        45\n",
      "        Leve       1.00      1.00      1.00        13\n",
      "       Medio       1.00      1.00      1.00        45\n",
      "\n",
      "    accuracy                           1.00       103\n",
      "   macro avg       1.00      1.00      1.00       103\n",
      "weighted avg       1.00      1.00      1.00       103\n",
      "\n"
     ]
    }
   ],
   "source": [
    "print(\"Accuracy del modelo:\", accuracy)\n",
    "print(\"\\nReporte de clasificación:\\n\", classification_report(y_test, y_pred))"
   ]
  },
  {
   "cell_type": "code",
   "execution_count": 460,
   "id": "c9f8cb98",
   "metadata": {},
   "outputs": [],
   "source": [
    "import matplotlib.pyplot as plt\n",
    "import seaborn as sns\n",
    "from sklearn.metrics import confusion_matrix"
   ]
  },
  {
   "cell_type": "code",
   "execution_count": 461,
   "id": "11851c5e",
   "metadata": {},
   "outputs": [],
   "source": [
    "#Matriz de confusión\n",
    "cm = confusion_matrix(y_test, y_pred, labels=[\"Leve\", \"Medio\", \"Grave\"])"
   ]
  },
  {
   "cell_type": "code",
   "execution_count": 462,
   "id": "89c106a1",
   "metadata": {},
   "outputs": [
    {
     "data": {
      "image/png": "[encoded data removed]",
      "text/plain": [
       "<Figure size 600x400 with 2 Axes>"
      ]
     },
     "metadata": {},
     "output_type": "display_data"
    }
   ],
   "source": [
    "# Visualización\n",
    "plt.figure(figsize=(6, 4))\n",
    "sns.heatmap(cm, annot=True, fmt=\"d\", cmap=\"Blues\", xticklabels=[\"Leve\", \"Medio\", \"Grave\"], yticklabels=[\"Leve\", \"Medio\", \"Grave\"])\n",
    "plt.xlabel(\"Predicción\")\n",
    "plt.ylabel(\"Real\")\n",
    "plt.title(\"Matriz de Confusión\")\n",
    "plt.tight_layout()\n",
    "plt.show()"
   ]
  },
  {
   "cell_type": "code",
   "execution_count": 463,
   "id": "6c3d33a6",
   "metadata": {},
   "outputs": [
    {
     "name": "stdout",
     "output_type": "stream",
     "text": [
      "✅ Exactitud antes de la limpieza: 0.466\n"
     ]
    }
   ],
   "source": [
    "#EVAULACION DEL MODELO ANTES DE LIMPIAR LOS DATOS\n",
    "from sklearn.linear_model import LogisticRegression\n",
    "from sklearn.metrics import accuracy_score\n",
    "from sklearn.model_selection import train_test_split\n",
    "import pandas as pd\n",
    "\n",
    "# Correct the definition of variables_modelo\n",
    "variables_modelo = ['Heridos _SI/NO', 'Tipo_Accidente']\n",
    "\n",
    "# Prepare the data\n",
    "# Use the correct columns for Xb and yb\n",
    "Xb = df_raw[['Clase_Accidente']]\n",
    "yb = df_raw['Tipo_Accidente']\n",
    "\n",
    "# Convert categorical variables to dummy variables\n",
    "Xb = pd.get_dummies(Xb, drop_first=True)\n",
    "\n",
    "# Split the data into training and testing sets\n",
    "Xb_train, Xb_test, yb_train, yb_test = train_test_split(Xb, yb, test_size=0.2, random_state=42)\n",
    "\n",
    "# Train the logistic regression model\n",
    "model_before = LogisticRegression(max_iter=200)\n",
    "model_before.fit(Xb_train, yb_train)\n",
    "\n",
    "# Predict and calculate accuracy\n",
    "yb_pred = model_before.predict(Xb_test)\n",
    "acc_before = accuracy_score(yb_test, yb_pred)\n",
    "\n",
    "print(\"✅ Exactitud antes de la limpieza:\", round(acc_before, 4))\n"
   ]
  },
  {
   "cell_type": "markdown",
   "id": "00d1bc01",
   "metadata": {},
   "source": [
    "Antes de  realizar la  limpieza de datos, se entreno un modelo de regresion logistica utilizando la variables  como Clase de accidente y como variable objetivo Tipo_Accidente, la exactitud del modelo fue de 0.466 es decir que  el modelo acerto el tipo de accidente en aproximadamente el 46.6% de lo casos, no tiene un desempeño predictivo fuerte en su estado inicial  este  se  puede  dar  porque:\n",
    "Datos sucios o mal codificados\n",
    "Pocas variables predictoras (solo se usó una: \"Clase_Accidente\").\n",
    "Posible desequilibrio en las clases de la variable objetivo."
   ]
  },
  {
   "cell_type": "code",
   "execution_count": 486,
   "id": "fd02a434",
   "metadata": {},
   "outputs": [
    {
     "name": "stdout",
     "output_type": "stream",
     "text": [
      "Exactitud del modelo (logística multinomial): 1.0\n"
     ]
    }
   ],
   "source": [
    "#PREPARACION DATOS: LIEMPIEZA, CODIFICACION Y IMPUTACION\n",
    "from sklearn.impute import SimpleImputer\n",
    "from sklearn.preprocessing import MinMaxScaler\n",
    "\n",
    "df_clean = df_raw.copy()\n",
    "\n",
    "# Imputación\n",
    "imputer_edad = SimpleImputer(strategy='median')\n",
    "df_clean['Heridos'] = imputer_edad.fit_transform(df_clean[['Heridos']])\n",
    "\n",
    "imputer_ingreso = SimpleImputer(strategy='mean')\n",
    "df_clean['Muertes'] = imputer_ingreso.fit_transform(df_clean[['Muertes']])\n",
    "\n",
    "# Codificación de variables categóricas\n",
    "df_clean = pd.get_dummies(df_clean, columns=['Codigo_Accidente', 'Direccion', 'Barrio','Accidente _con','Clase_Accidente'], drop_first=True)\n",
    "\n",
    "# Escalado\n",
    "scaler = MinMaxScaler()\n",
    "df_clean[['Heridos','Muertes']] = scaler.fit_transform(df_clean[['Heridos','Muertes']])\n",
    "\n",
    "print(\"Exactitud del modelo (logística multinomial):\", round(accuracy, 4))"
   ]
  },
  {
   "cell_type": "markdown",
   "id": "5079b491",
   "metadata": {},
   "source": [
    "Una exactitud del 100% (1.0) en un modelo de clasificación, como una regresión logística multinomial, es extremadamente inusual y normalmente indica que algo no está funcionando correctamente en el diseño del experimento.\n",
    "\n",
    "Una exactitud de 1.0 no es necesariamente buena: probablemente indica que el modelo está aprendiendo \"demasiado bien\" porque tiene acceso a la respuesta, directa o indirectamente. Para saber si tu modelo es realmente útil, necesitas asegurarte de que:\n",
    "El entrenamiento y evaluación se hacen con conjuntos diferentes.\n",
    "Se usan técnicas de validación más robustas."
   ]
  },
  {
   "cell_type": "code",
   "execution_count": 465,
   "id": "a39f5d79",
   "metadata": {},
   "outputs": [
    {
     "name": "stdout",
     "output_type": "stream",
     "text": [
      "['ID', 'Fecha_Ocurrencia', 'Vehiculos_Involucrados', 'Heridos', 'Heridos _SI/NO', 'Muertes', 'Tipo_Accidente', 'Codigo_Accidente_A0001602284', 'Codigo_Accidente_A0001602285', 'Codigo_Accidente_A0001602287', 'Codigo_Accidente_A0001651928', 'Codigo_Accidente_A0001651929', 'Codigo_Accidente_A0001651930', 'Codigo_Accidente_A0001651931', 'Codigo_Accidente_A001371865', 'Codigo_Accidente_A001371866', 'Codigo_Accidente_A001371867', 'Codigo_Accidente_A001371868', 'Codigo_Accidente_A001371869', 'Codigo_Accidente_A001371870', 'Codigo_Accidente_A001371871', 'Codigo_Accidente_A001371872', 'Codigo_Accidente_A001371873', 'Codigo_Accidente_A001371874', 'Codigo_Accidente_A001371875', 'Codigo_Accidente_A001371876', 'Codigo_Accidente_A001371877', 'Codigo_Accidente_A001371878', 'Codigo_Accidente_A001371879', 'Codigo_Accidente_A001371880', 'Codigo_Accidente_A001371881', 'Codigo_Accidente_A001371882', 'Codigo_Accidente_A001371883', 'Codigo_Accidente_A001371884', 'Codigo_Accidente_A001371885', 'Codigo_Accidente_A001371886', 'Codigo_Accidente_A001371887', 'Codigo_Accidente_A001371888', 'Codigo_Accidente_A001371889', 'Codigo_Accidente_A001371890', 'Codigo_Accidente_A001371891', 'Codigo_Accidente_A001371892', 'Codigo_Accidente_A001371893', 'Codigo_Accidente_A001371894', 'Codigo_Accidente_A001371895', 'Codigo_Accidente_A001371896', 'Codigo_Accidente_A001371897', 'Codigo_Accidente_A001371898', 'Codigo_Accidente_A001371899', 'Codigo_Accidente_A001371900', 'Codigo_Accidente_A001371901', 'Codigo_Accidente_A001371902', 'Codigo_Accidente_A001371903', 'Codigo_Accidente_A001371904', 'Codigo_Accidente_A001371905', 'Codigo_Accidente_A001371906', 'Codigo_Accidente_A001371907', 'Codigo_Accidente_A001371908', 'Codigo_Accidente_A001371909', 'Codigo_Accidente_A001371910', 'Codigo_Accidente_A001371911', 'Codigo_Accidente_A001371912', 'Codigo_Accidente_A001371913', 'Codigo_Accidente_A001371914', 'Codigo_Accidente_A001371915', 'Codigo_Accidente_A001371916', 'Codigo_Accidente_A001371917', 'Codigo_Accidente_A001371918', 'Codigo_Accidente_A001371919', 'Codigo_Accidente_A001371920', 'Codigo_Accidente_A001371921', 'Codigo_Accidente_A001371922', 'Codigo_Accidente_A001371923', 'Codigo_Accidente_A001371924', 'Codigo_Accidente_A001371925', 'Codigo_Accidente_A001371926', 'Codigo_Accidente_A001371927', 'Codigo_Accidente_A001456337', 'Codigo_Accidente_A001456354', 'Codigo_Accidente_A001456738', 'Codigo_Accidente_A001456777', 'Codigo_Accidente_A001456778', 'Codigo_Accidente_A001456779', 'Codigo_Accidente_A001456780', 'Codigo_Accidente_A001456781', 'Codigo_Accidente_A001456782', 'Codigo_Accidente_A001456783', 'Codigo_Accidente_A001456784', 'Codigo_Accidente_A001456785', 'Codigo_Accidente_A001456786', 'Codigo_Accidente_A001456787', 'Codigo_Accidente_A001456789', 'Codigo_Accidente_A001456790', 'Codigo_Accidente_A001456791', 'Codigo_Accidente_A001456792', 'Codigo_Accidente_A001456793', 'Codigo_Accidente_A001456794', 'Codigo_Accidente_A001456795', 'Codigo_Accidente_A001456796', 'Codigo_Accidente_A001456797', 'Codigo_Accidente_A001456798', 'Codigo_Accidente_A001456799', 'Codigo_Accidente_A001456800', 'Codigo_Accidente_A001456801', 'Codigo_Accidente_A001456802', 'Codigo_Accidente_A001456803', 'Codigo_Accidente_A001456804', 'Codigo_Accidente_A001456805', 'Codigo_Accidente_A001456806', 'Codigo_Accidente_A001456807', 'Codigo_Accidente_A001456808', 'Codigo_Accidente_A001456809', 'Codigo_Accidente_A001456810', 'Codigo_Accidente_A001456811', 'Codigo_Accidente_A001456812', 'Codigo_Accidente_A001456813', 'Codigo_Accidente_A001456814', 'Codigo_Accidente_A001456815', 'Codigo_Accidente_A001456816', 'Codigo_Accidente_A001456817', 'Codigo_Accidente_A001456818', 'Codigo_Accidente_A001456819', 'Codigo_Accidente_A001456820', 'Codigo_Accidente_A001456821', 'Codigo_Accidente_A001456822', 'Codigo_Accidente_A001456823', 'Codigo_Accidente_A001456824', 'Codigo_Accidente_A001456825', 'Codigo_Accidente_A001456826', 'Codigo_Accidente_A001456827', 'Codigo_Accidente_A001456828', 'Codigo_Accidente_A001456829', 'Codigo_Accidente_A001456830', 'Codigo_Accidente_A001456831', 'Codigo_Accidente_A001456832', 'Codigo_Accidente_A001456833', 'Codigo_Accidente_A001456834', 'Codigo_Accidente_A001456835', 'Codigo_Accidente_A001456836', 'Codigo_Accidente_A001456838', 'Codigo_Accidente_A001456839', 'Codigo_Accidente_A001456840', 'Codigo_Accidente_A001456841', 'Codigo_Accidente_A001456842', 'Codigo_Accidente_A001456843', 'Codigo_Accidente_A001456844', 'Codigo_Accidente_A001456845', 'Codigo_Accidente_A001456846', 'Codigo_Accidente_A001456847', 'Codigo_Accidente_A001456848', 'Codigo_Accidente_A001456849', 'Codigo_Accidente_A001456850', 'Codigo_Accidente_A001456851', 'Codigo_Accidente_A001456852', 'Codigo_Accidente_A001456853', 'Codigo_Accidente_A001456855', 'Codigo_Accidente_A001456856', 'Codigo_Accidente_A001456857', 'Codigo_Accidente_A001456858', 'Codigo_Accidente_A001456859', 'Codigo_Accidente_A001456860', 'Codigo_Accidente_A001456861', 'Codigo_Accidente_A001456862', 'Codigo_Accidente_A001456863', 'Codigo_Accidente_A001456864', 'Codigo_Accidente_A001456865', 'Codigo_Accidente_A001456866', 'Codigo_Accidente_A001456867', 'Codigo_Accidente_A001456868', 'Codigo_Accidente_A001456869', 'Codigo_Accidente_A001456870', 'Codigo_Accidente_A001456871', 'Codigo_Accidente_A001456872', 'Codigo_Accidente_A001456873', 'Codigo_Accidente_A001456874', 'Codigo_Accidente_A001456875', 'Codigo_Accidente_A001456876', 'Codigo_Accidente_A001456877', 'Codigo_Accidente_A001456878', 'Codigo_Accidente_A001456879', 'Codigo_Accidente_A001456880', 'Codigo_Accidente_A001456881', 'Codigo_Accidente_A001456882', 'Codigo_Accidente_A001456883', 'Codigo_Accidente_A001456884', 'Codigo_Accidente_A001456885', 'Codigo_Accidente_A001456886', 'Codigo_Accidente_A001456887', 'Codigo_Accidente_A001456888', 'Codigo_Accidente_A001456889', 'Codigo_Accidente_A001456890', 'Codigo_Accidente_A001456891', 'Codigo_Accidente_A001456892', 'Codigo_Accidente_A001456893', 'Codigo_Accidente_A001456894', 'Codigo_Accidente_A001456895', 'Codigo_Accidente_A001456896', 'Codigo_Accidente_A001456897', 'Codigo_Accidente_A001456898', 'Codigo_Accidente_A001456899', 'Codigo_Accidente_A001456900', 'Codigo_Accidente_A001456901', 'Codigo_Accidente_A001456902', 'Codigo_Accidente_A001456903', 'Codigo_Accidente_A001456904', 'Codigo_Accidente_A001576684', 'Codigo_Accidente_A001576685', 'Codigo_Accidente_A001576686', 'Codigo_Accidente_A001576687', 'Codigo_Accidente_A001576688', 'Codigo_Accidente_A001576689', 'Codigo_Accidente_A001576690', 'Codigo_Accidente_A001576691', 'Codigo_Accidente_A001576692', 'Codigo_Accidente_A001576693', 'Codigo_Accidente_A001576694', 'Codigo_Accidente_A001576695', 'Codigo_Accidente_A001576696', 'Codigo_Accidente_A001576697', 'Codigo_Accidente_A001576698', 'Codigo_Accidente_A001576699', 'Codigo_Accidente_A001576700', 'Codigo_Accidente_A001576701', 'Codigo_Accidente_A001576702', 'Codigo_Accidente_A001576703', 'Codigo_Accidente_A001576704', 'Codigo_Accidente_A001576705', 'Codigo_Accidente_A001576706', 'Codigo_Accidente_A001576708', 'Codigo_Accidente_A001576709', 'Codigo_Accidente_A001576710', 'Codigo_Accidente_A001576711', 'Codigo_Accidente_A001576712', 'Codigo_Accidente_A001576713', 'Codigo_Accidente_A001576714', 'Codigo_Accidente_A001576715', 'Codigo_Accidente_A001576716', 'Codigo_Accidente_A001576717', 'Codigo_Accidente_A001576718', 'Codigo_Accidente_A001576719', 'Codigo_Accidente_A001576720', 'Codigo_Accidente_A001576721', 'Codigo_Accidente_A001576722', 'Codigo_Accidente_A001576723', 'Codigo_Accidente_A001576724', 'Codigo_Accidente_A001576725', 'Codigo_Accidente_A001576726', 'Codigo_Accidente_A001576727', 'Codigo_Accidente_A001576728', 'Codigo_Accidente_A001576729', 'Codigo_Accidente_A001576730', 'Codigo_Accidente_A001576731', 'Codigo_Accidente_A001576732', 'Codigo_Accidente_A001576733', 'Codigo_Accidente_A001576734', 'Codigo_Accidente_A001576735', 'Codigo_Accidente_A001576736', 'Codigo_Accidente_A001576737', 'Codigo_Accidente_A001576738', 'Codigo_Accidente_A001576739', 'Codigo_Accidente_A001576740', 'Codigo_Accidente_A001576741', 'Codigo_Accidente_A001576742', 'Codigo_Accidente_A001576743', 'Codigo_Accidente_A001576744', 'Codigo_Accidente_A001576745', 'Codigo_Accidente_A001576746', 'Codigo_Accidente_A001576747', 'Codigo_Accidente_A001576748', 'Codigo_Accidente_A001576749', 'Codigo_Accidente_A001576750', 'Codigo_Accidente_A001576751', 'Codigo_Accidente_A001576752', 'Codigo_Accidente_A001576753', 'Codigo_Accidente_A001576754', 'Codigo_Accidente_A001576755', 'Codigo_Accidente_A001576756', 'Codigo_Accidente_A001576757', 'Codigo_Accidente_A001576758', 'Codigo_Accidente_A001576759', 'Codigo_Accidente_A001576760', 'Codigo_Accidente_A001576761', 'Codigo_Accidente_A001576762', 'Codigo_Accidente_A001576763', 'Codigo_Accidente_A001576764', 'Codigo_Accidente_A001576765', 'Codigo_Accidente_A001576766', 'Codigo_Accidente_A001576767', 'Codigo_Accidente_A001576768', 'Codigo_Accidente_A0015767707', 'Codigo_Accidente_A001602209', 'Codigo_Accidente_A001602210', 'Codigo_Accidente_A001602211', 'Codigo_Accidente_A001602212', 'Codigo_Accidente_A001602213', 'Codigo_Accidente_A001602214', 'Codigo_Accidente_A001602215', 'Codigo_Accidente_A001602216', 'Codigo_Accidente_A001602217', 'Codigo_Accidente_A001602218', 'Codigo_Accidente_A001602219', 'Codigo_Accidente_A001602220', 'Codigo_Accidente_A001602221', 'Codigo_Accidente_A001602222', 'Codigo_Accidente_A001602223', 'Codigo_Accidente_A001602224', 'Codigo_Accidente_A001602225', 'Codigo_Accidente_A001602226', 'Codigo_Accidente_A001602227', 'Codigo_Accidente_A001602228', 'Codigo_Accidente_A001602229', 'Codigo_Accidente_A001602230', 'Codigo_Accidente_A001602231', 'Codigo_Accidente_A001602232', 'Codigo_Accidente_A001602233', 'Codigo_Accidente_A001602234', 'Codigo_Accidente_A001602235', 'Codigo_Accidente_A001602236', 'Codigo_Accidente_A001602237', 'Codigo_Accidente_A001602238', 'Codigo_Accidente_A001602239', 'Codigo_Accidente_A001602240', 'Codigo_Accidente_A001602241', 'Codigo_Accidente_A001602242', 'Codigo_Accidente_A001602243', 'Codigo_Accidente_A001602244', 'Codigo_Accidente_A001602245', 'Codigo_Accidente_A001602246', 'Codigo_Accidente_A001602248', 'Codigo_Accidente_A001602249', 'Codigo_Accidente_A001602250', 'Codigo_Accidente_A001602251', 'Codigo_Accidente_A001602252', 'Codigo_Accidente_A001602253', 'Codigo_Accidente_A001602254', 'Codigo_Accidente_A001602255', 'Codigo_Accidente_A001602256', 'Codigo_Accidente_A001602257', 'Codigo_Accidente_A001602258', 'Codigo_Accidente_A001602259', 'Codigo_Accidente_A001602260', 'Codigo_Accidente_A001602261', 'Codigo_Accidente_A001602262', 'Codigo_Accidente_A001602263', 'Codigo_Accidente_A001602264', 'Codigo_Accidente_A001602265', 'Codigo_Accidente_A001602266', 'Codigo_Accidente_A001602267', 'Codigo_Accidente_A001602268', 'Codigo_Accidente_A001602269', 'Codigo_Accidente_A001602270', 'Codigo_Accidente_A001602271', 'Codigo_Accidente_A001602272', 'Codigo_Accidente_A001602273', 'Codigo_Accidente_A001602274', 'Codigo_Accidente_A001602275', 'Codigo_Accidente_A001602276', 'Codigo_Accidente_A001602277', 'Codigo_Accidente_A001602278', 'Codigo_Accidente_A001602279', 'Codigo_Accidente_A001602280', 'Codigo_Accidente_A001602281', 'Codigo_Accidente_A001602282', 'Codigo_Accidente_A001602286', 'Codigo_Accidente_A001651932', 'Codigo_Accidente_A001651933', 'Codigo_Accidente_A001651934', 'Codigo_Accidente_A001651935', 'Codigo_Accidente_A001651936', 'Codigo_Accidente_A001651937', 'Codigo_Accidente_A001651938', 'Codigo_Accidente_A001651939', 'Codigo_Accidente_A001651940', 'Codigo_Accidente_A001651941', 'Codigo_Accidente_A001651942', 'Codigo_Accidente_A001651943', 'Codigo_Accidente_A001651944', 'Codigo_Accidente_A001651945', 'Codigo_Accidente_A001651946', 'Codigo_Accidente_A001651947', 'Codigo_Accidente_A001651948', 'Codigo_Accidente_A001651949', 'Codigo_Accidente_A001651951', 'Codigo_Accidente_A001651952', 'Codigo_Accidente_A001651953', 'Codigo_Accidente_A001651954', 'Codigo_Accidente_A001651955', 'Codigo_Accidente_A001651956', 'Codigo_Accidente_A001651957', 'Codigo_Accidente_A001651958', 'Codigo_Accidente_A001651959', 'Codigo_Accidente_A001651960', 'Codigo_Accidente_A001651961', 'Codigo_Accidente_A001651962', 'Codigo_Accidente_A001651963', 'Codigo_Accidente_A001651964', 'Codigo_Accidente_A001651965', 'Codigo_Accidente_A001651966', 'Codigo_Accidente_A001651967', 'Codigo_Accidente_A001651968', 'Codigo_Accidente_A001651969', 'Codigo_Accidente_A001651970', 'Codigo_Accidente_A001651971', 'Codigo_Accidente_A001651972', 'Codigo_Accidente_A001651973', 'Codigo_Accidente_A001651974', 'Codigo_Accidente_A001651975', 'Codigo_Accidente_A001651976', 'Codigo_Accidente_A001651977', 'Codigo_Accidente_A001651978', 'Codigo_Accidente_A001651979', 'Codigo_Accidente_A001651980', 'Codigo_Accidente_A001651981', 'Codigo_Accidente_A001651982', 'Codigo_Accidente_A001651983', 'Codigo_Accidente_A001651984', 'Codigo_Accidente_A001651985', 'Codigo_Accidente_A001651986', 'Codigo_Accidente_A001651987', 'Codigo_Accidente_A001651988', 'Codigo_Accidente_A001651989', 'Codigo_Accidente_A001651990', 'Codigo_Accidente_A001651991', 'Codigo_Accidente_A001651992', 'Codigo_Accidente_A001651994', 'Codigo_Accidente_A001651995', 'Codigo_Accidente_A001651996', 'Codigo_Accidente_A001651997', 'Codigo_Accidente_A001651998', 'Codigo_Accidente_A001651999', 'Codigo_Accidente_A001652000', 'Codigo_Accidente_A001652001', 'Codigo_Accidente_A001652002', 'Codigo_Accidente_A001652003', 'Codigo_Accidente_A001652004', 'Codigo_Accidente_A001652005', 'Codigo_Accidente_A001652006', 'Codigo_Accidente_A001652007', 'Codigo_Accidente_A001652008', 'Codigo_Accidente_A001652009', 'Codigo_Accidente_A001652010', 'Codigo_Accidente_A001652011', 'Codigo_Accidente_A001652012', 'Codigo_Accidente_A001652013', 'Codigo_Accidente_A001652014', 'Codigo_Accidente_A001652015', 'Codigo_Accidente_A001652016', 'Codigo_Accidente_A001652017', 'Codigo_Accidente_A001652018', 'Codigo_Accidente_A001652019', 'Codigo_Accidente_A001652020', 'Codigo_Accidente_A001652021', 'Codigo_Accidente_A001652022', 'Codigo_Accidente_A001652023', 'Codigo_Accidente_A001704706', 'Codigo_Accidente_A001704707', 'Codigo_Accidente_A001704708', 'Codigo_Accidente_A001704709', 'Codigo_Accidente_A001704710', 'Codigo_Accidente_A001704711', 'Codigo_Accidente_A001704712', 'Codigo_Accidente_A001704713', 'Codigo_Accidente_A001704770', 'Codigo_Accidente_A001704771', 'Codigo_Accidente_A001704772', 'Codigo_Accidente_A006102247', 'Codigo_Accidente_C - 001482371', 'Codigo_Accidente_C- 001479206', 'Codigo_Accidente_C-001437191', 'Codigo_Accidente_C-00143724', 'Codigo_Accidente_C-001437245', 'Codigo_Accidente_C-001441380', 'Codigo_Accidente_C-001441393', 'Codigo_Accidente_C-001441405', 'Codigo_Accidente_C-001441416', 'Codigo_Accidente_C-001441436', 'Codigo_Accidente_C-001479120', 'Codigo_Accidente_C-001479133', 'Codigo_Accidente_C-001479165', 'Codigo_Accidente_C-001479189', 'Codigo_Accidente_C-001479191', 'Codigo_Accidente_C-001479207', 'Codigo_Accidente_C-001482395', 'Codigo_Accidente_C-001482414', 'Codigo_Accidente_C-001565422', 'Codigo_Accidente_C-001565432', 'Codigo_Accidente_C-001565437', 'Codigo_Accidente_C-001565444', 'Codigo_Accidente_C-001565448', 'Codigo_Accidente_C-001566185', 'Codigo_Accidente_C-001582243', 'Codigo_Accidente_C-001582244', 'Codigo_Accidente_C-001582252', 'Codigo_Accidente_C-001582322', 'Codigo_Accidente_C-00158479', 'Codigo_Accidente_C-001587577', 'Codigo_Accidente_C-001588138', 'Codigo_Accidente_C-001588180', 'Codigo_Accidente_C-001588186', 'Codigo_Accidente_C-0015882267', 'Codigo_Accidente_C-001589283', 'Codigo_Accidente_C-001589297', 'Codigo_Accidente_C-001589305', 'Codigo_Accidente_C-001589308', 'Codigo_Accidente_C-001589323', 'Codigo_Accidente_C-001589325', 'Codigo_Accidente_C-001589342', 'Codigo_Accidente_C-0088589', 'Codigo_Accidente_C.001566210', 'Codigo_Accidente_C.001566222', 'Codigo_Accidente_C.OO1566211', 'Codigo_Accidente_C001437205', 'Codigo_Accidente_C001479150', 'Codigo_Accidente_C001479154', 'Codigo_Accidente_C001588150', 'Direccion_AVENIDA 23 # 21B-30B -  GUARATARA II', 'Direccion_AVENIDA 23 # 27 - 33', 'Direccion_AVENIDA 23 # 27 4   DON BOSCO', 'Direccion_AVENIDA 23 CALLE  11   SIN INFORMACIÃ\\x93N DEL BARRIO', 'Direccion_AVENIDA 23 CALLE  18 -  SIN INFORMACIÃ\\x93N DEL BARRIO', 'Direccion_AVENIDA 23 CALLE  27   SIN INFORMACIÃ\\x93N DEL BARRIO', 'Direccion_AVENIDA 23 CALLE 19   ATAHUALPA', 'Direccion_AVENIDA 23 CALLE 29B -  ASOCIACIÃ\\x93N DE AMIGOS', 'Direccion_AVENIDA 23 CALLE 9   COOPERATIVO', 'Direccion_AVENIDA 23 CARRERA  27   LOS OLIVOS', 'Direccion_AVENIDA 23 CARRERA  27 -', 'Direccion_AVENIDA 23 CARRERA  30 -  LA ORQUIDEA REAL', 'Direccion_AVENIDA 23 CARRERA 15   SIN INFORMACIÃ\\x93N DEL BARRIO', 'Direccion_AVENIDA 23 CARRERA 18 -  PABLO EMILIO RIVEROS', 'Direccion_AVENIDA 23 CARRERA 27A   SIN INFORMACIÃ\\x93N DEL BARRIO', 'Direccion_AVENIDA 23 CARRERA 27A  VIILA  CLAUDIA', 'Direccion_AVENIDA 23 CARRERA 27A -  VILLA LUCIA', 'Direccion_AVENIDA 23 CARRERA 29A   SIN INFORMACIÃ\\x93N DEL BARRIO', 'Direccion_AVENIDA 23 CARRERA 30   SIN INFORMACIÃ\\x93N DEL BARRIO', 'Direccion_AVENIDA 23 CARRERA 42 ENTRADA ENS  VÃ\\x8dA PRINCIPAL-AVENIDA 23', 'Direccion_AVENIDA 23 FRENTE 29-15    SIN INFORMACIÃ\\x93N DEL BARRIO', 'Direccion_AVENIDA 23 FRENTE ALA ELECTRIFICADORA    SIN INFORMACIÃ\\x93N DEL BARRIO', 'Direccion_AVENIDA 23 FRENTE ALA MANGA DE COLEO', 'Direccion_AVENIDA 23 INTERSECCIÃ\\x93N 25   LA TIZA', 'Direccion_AVENIDA 23 N .27A - 55  -  VILLA LUCIA RANCHO GRANDE', 'Direccion_AVENIDA 23 N 27B-30    SIN INFORMACIÃ\\x93N DEL BARRIO', 'Direccion_AVENIDA 23 N 33-25   SIN INFORMACIÃ\\x93N DEL BARRIO', 'Direccion_AVENIDA 23 N- 28B-05   VILLA DEL LLANO', 'Direccion_AVENIDA 23 N. 24 - 07   LA TIZA', 'Direccion_AVENIDA 23 N. 27B-30 SAIN THOMAS', 'Direccion_AVENIDA 23 N. 27B-30B    SIN INFORMACIÃ\\x93N DEL BARRIO', 'Direccion_AVENIDA 23 N. 28-65  -  VILLA LUCIA', 'Direccion_AVENIDA 23 N. 5A-93 -  PABLO EMILIO RIVEROS', 'Direccion_AVENIDA 23 N.27-06    DON BOSCO', 'Direccion_AVENIDA 23 N.29A-37  -  SIN INFORMACIÃ\\x93N DEL BARRIO', 'Direccion_AVENIDA 23 N.29A-50  -  ASOCIACIÃ\\x93N DE AMIGOS', 'Direccion_AVENIDA 23 N: 28-19 -  VILLA LUCIA', 'Direccion_AVENIDA 23 N:34-40  -  SIN INFORMACIÃ\\x93N DEL BARRIO ESMERALDA', 'Direccion_AVENIDA 25 # 25 39   SIN INFORMACIÃ\\x93N DEL BARRIO', 'Direccion_CALLE 10 A  CARRERA 25 DORADO', 'Direccion_CALLE 10 N 23 -01  -  DORADO', 'Direccion_CALLE 10 N. 23-24  -  SIN INFORMACIÃ\\x93N DEL BARRIO', 'Direccion_CALLE 10A CARRERA  26 -  LAS ACACIAS', 'Direccion_CALLE 10A CARRERA  27 -  SIN INFORMACIÃ\\x93N DEL BARRIO', 'Direccion_CALLE 10A CARRERA 25   SIN INFORMACIÃ\\x93N DEL BARRIO', 'Direccion_CALLE 10A CARRERA 25  B/EVEREST', 'Direccion_CALLE 10A CARRERA 26   SIN INFORMACIÃ\\x93N DEL BARRIO', 'Direccion_CALLE 10A CARRERA 28   SIN INFORMACIÃ\\x93N DEL BARRIO', 'Direccion_CALLE 11 # 17 - 57', 'Direccion_CALLE 11 # 33-12  -  SAMAN', 'Direccion_CALLE 11 #32 67   SIN INFORMACIÃ\\x93N DEL BARRIO', 'Direccion_CALLE 11 33-12    SAMAN', 'Direccion_CALLE 11 CARRERA  24 -  DORADO', 'Direccion_CALLE 11 CARRERA  26 -  DORADO', 'Direccion_CALLE 11 CARRERA  31A 15  LAS ACACIAS', 'Direccion_CALLE 11 CARRERA  35A -  INDEPENDENCIA', 'Direccion_CALLE 11 CARRERA 23  -  DORADO', 'Direccion_CALLE 11 CARRERA 24   SIN INFORMACIÃ\\x93N DEL BARRIO', 'Direccion_CALLE 11 CARRERA 25   DORADO', 'Direccion_CALLE 11 CARRERA 25 -  SAMAN SANTA TERESITA', 'Direccion_CALLE 11 CARRERA 26', 'Direccion_CALLE 11 CARRERA 26   SIN INFORMACIÃ\\x93N DEL BARRIO', 'Direccion_CALLE 11 CARRERA 38   INDEPENDENCIA', 'Direccion_CALLE 11 CRA 27 -36    LAS ACACIAS', 'Direccion_CALLE 11 CRA 31 -  SAMAN BRISAS DEL GUAYURIBA', 'Direccion_CALLE 11 N 27 -19   LAS ACACIAS', 'Direccion_CALLE 11 N 28-03    LAS ACACIAS', 'Direccion_CALLE 11 N.28A -27     LAS ACACIAS', 'Direccion_CALLE 12 # 34A - 26 SAMAN', 'Direccion_CALLE 12 CARRERA  38 -  INDEPENDENCIA', 'Direccion_CALLE 12 CARRERA  38 INDEPEN II ETAPA  INDEPENDENCIA', 'Direccion_CALLE 12 CARRERA 24   DORADO', 'Direccion_CALLE 12 CARRERA 25 -  DORADO', 'Direccion_CALLE 12 CARRERA 25 -  DORADO BAJO', 'Direccion_CALLE 12 CARRERA 26 -  DORADO', 'Direccion_CALLE 12 CARRERA 28   SAMAN', 'Direccion_CALLE 12 CARRERA 33   SIN INFORMACIÃ\\x93N DEL BARRIO', 'Direccion_CALLE 12 CARRERA 33 SAMAN  SAMAN', 'Direccion_CALLE 12 CARRERA 35   NUTIVARA', 'Direccion_CALLE 12 N 32 -54    NUTIVARA', 'Direccion_CALLE 13 # 23 2  SIN INFORMACIÃ\\x93N DEL BARRIO', 'Direccion_CALLE 13 CARRERA  14   SIN INFORMACIÃ\\x93N DEL BARRIO', 'Direccion_CALLE 13 CARRERA  15 -  CENTRO', 'Direccion_CALLE 13 CARRERA  16   CENTRO', 'Direccion_CALLE 13 CARRERA  18   CENTRO', 'Direccion_CALLE 13 CARRERA  20   COOPERATIVO', 'Direccion_CALLE 13 CARRERA  26   SAN JOSÃ\\x89', 'Direccion_CALLE 13 CARRERA  27 -  SIN INFORMACIÃ\\x93N DEL BARRIO', 'Direccion_CALLE 13 CARRERA 14   JUAN MELLAO', 'Direccion_CALLE 13 CARRERA 15 -  CENTRO', 'Direccion_CALLE 13 CARRERA 16   CENTRO', 'Direccion_CALLE 13 CARRERA 18 -  CENTRO', 'Direccion_CALLE 13 CARRERA 21   SIN INFORMACIÃ\\x93N DEL BARRIO', 'Direccion_CALLE 13 CARRERA 21 -  COOPERATIVO', 'Direccion_CALLE 13 CARRERA 21 -  SIN INFORMACIÃ\\x93N DEL BARRIO', 'Direccion_CALLE 13 CARRERA 25 -  SAN JOSÃ\\x89', 'Direccion_CALLE 13 N 19-70  -', 'Direccion_CALLE 13 N.22+48  -  COOPERATIVO', 'Direccion_CALLE 14 # 17 58   CENTRO', 'Direccion_CALLE 14 # 20    CENTRO', 'Direccion_CALLE 14 # 25 - 44  -  SIN INFORMACIÃ\\x93N DEL BARRIO', 'Direccion_CALLE 14 # 29 34  BACHUE', 'Direccion_CALLE 14 CALLE 16   CENTRO', 'Direccion_CALLE 14 CARRERA  15   CENTRO', 'Direccion_CALLE 14 CARRERA  21   SIN INFORMACIÃ\\x93N DEL BARRIO', 'Direccion_CALLE 14 CARRERA  23 -  SIN INFORMACIÃ\\x93N DEL BARRIO', 'Direccion_CALLE 14 CARRERA  24   SAN JOSÃ\\x89', 'Direccion_CALLE 14 CARRERA  28   SAN JOSÃ\\x89', 'Direccion_CALLE 14 CARRERA  31   BACHUE', 'Direccion_CALLE 14 CARRERA  33   BACHUE', 'Direccion_CALLE 14 CARRERA  34   BACHUE', 'Direccion_CALLE 14 CARRERA  45251   COOPERATIVO', 'Direccion_CALLE 14 CARRERA 12   JUAN MELLAO', 'Direccion_CALLE 14 CARRERA 12 -  JUAN MELLAO', 'Direccion_CALLE 14 CARRERA 20   SIN INFORMACIÃ\\x93N DEL BARRIO', 'Direccion_CALLE 14 CARRERA 21   SIN INFORMACIÃ\\x93N DEL BARRIO', 'Direccion_CALLE 14 CARRERA 23   COOPERATIVO', 'Direccion_CALLE 14 CARRERA 23 -  COOPERATIVO', 'Direccion_CALLE 14 CARRERA 26 -  SIN INFORMACIÃ\\x93N DEL BARRIO', 'Direccion_CALLE 14 CARRERA 29 - BANCARIOS', 'Direccion_CALLE 14 CARRERA 30 - BANCARIIOS', 'Direccion_CALLE 14 CARRERA 31 -  SIN INFORMACIÃ\\x93N DEL BARRIO', 'Direccion_CALLE 14 CARRERA 32   BACHUE', 'Direccion_CALLE 14 CARRERA 33   SIN INFORMACIÃ\\x93N DEL BARRIO', 'Direccion_CALLE 14 CARRERA 34   BACHUE', 'Direccion_CALLE 14 CARRERA 35   BACHUE', 'Direccion_CALLE 14 CARRERA 35-23   INDEPENDENCIA', 'Direccion_CALLE 14 CARRERA 40-15 -  INDEPENDENCIA RANCHO GRANDE', 'Direccion_CALLE 14 CARRERA 41 -  COMCAJA RANCHO GRANDE', 'Direccion_CALLE 14 CARRERA 45A -  CIMARRON', 'Direccion_CALLE 14 CRA 36 -  SIN INFORMACIÃ\\x93N DEL BARRIO', 'Direccion_CALLE 14 CRA 42 -  SIN INFORMACIÃ\\x93N DEL BARRIO', 'Direccion_CALLE 14 N 22-25    COOPERATIVO', 'Direccion_CALLE 14 N 24-20 -  SAN JOSÃ\\x89', 'Direccion_CALLE 14 N 26 -29  BARRIO SAN JOSE', 'Direccion_CALLE 14 N 30 - 10  -  BACHUE', 'Direccion_CALLE 14 N. 18-56    CENTRO', 'Direccion_CALLE 14 N. 21-94   COOPERATIVO', 'Direccion_CALLE 14 N. 30-59 -  BACHUE', 'Direccion_CALLE 14 N.15-56  -  SIN INFORMACIÃ\\x93N DEL BARRIO', 'Direccion_CALLE 14 N.21-11  -  COOPERATIVO', 'Direccion_CALLE 14 N.33 -05  -', 'Direccion_CALLE 14A CARRERA 34   BACHUE', 'Direccion_CALLE 15 # 16 7  CENTRO', 'Direccion_CALLE 15 CARR  28   BACHUE', 'Direccion_CALLE 15 CARRERA  13   JUAN MELLAO', 'Direccion_CALLE 15 CARRERA  15 -  CENTRO', 'Direccion_CALLE 15 CARRERA  15-48 -  CENTRO', 'Direccion_CALLE 15 CARRERA  18   CENTRO', 'Direccion_CALLE 15 CARRERA  29   SIN INFORMACIÃ\\x93N DEL BARRIO', 'Direccion_CALLE 15 CARRERA 15 -  SIN INFORMACIÃ\\x93N DEL BARRIO', 'Direccion_CALLE 15 CARRERA 17   CENTRO', 'Direccion_CALLE 15 CARRERA 17  -  CENTRO', 'Direccion_CALLE 15 CARRERA 19 -  CENTRO', 'Direccion_CALLE 15 CARRERA 21', 'Direccion_CALLE 15 CARRERA 21 -  SIN INFORMACIÃ\\x93N DEL BARRIO', 'Direccion_CALLE 15 CARRERA 22   SIN INFORMACIÃ\\x93N DEL BARRIO', 'Direccion_CALLE 15 CARRERA 22 -  COOPERATIVO', 'Direccion_CALLE 15 CARRERA 32   BACHUE', 'Direccion_CALLE 15 CARRERA 33 -', 'Direccion_CALLE 15 CARRERA 47 -  COLINAS EL ROSARIO', 'Direccion_CALLE 15 N. 20 -04  -  COOPERATIVO', 'Direccion_CALLE 15 N.21-76  -  SIN INFORMACIÃ\\x93N DEL BARRIO', 'Direccion_CALLE 16 # 47 - 3 COLINAS', 'Direccion_CALLE 16 CARRERA  25   SIN INFORMACIÃ\\x93N DEL BARRIO', 'Direccion_CALLE 16 CARRERA  29 B/BOSQUE  EL BOSQUE', 'Direccion_CALLE 16 CARRERA 27   EL BOSQUE', 'Direccion_CALLE 16 CARRERA 31 -  SIN INFORMACIÃ\\x93N DEL BARRIO', 'Direccion_CALLE 16 CARRERA 33 -  BACHUE', 'Direccion_CALLE 16 CARRERA 34   BACHUE', 'Direccion_CALLE 16 CARRERA 6 -  POPULAR', 'Direccion_CALLE 16 CRA 42 -  SIN INFORMACIÃ\\x93N DEL BARRIO ESMERALDA', 'Direccion_CALLE 16 INTERSECCIÃ\\x93N 33   BACHUE', 'Direccion_CALLE 16 N. 17-73 -  SIN INFORMACIÃ\\x93N DEL BARRIO', 'Direccion_CALLE 16 N.29-31  -  SIN INFORMACIÃ\\x93N DEL BARRIO EL CENTRO', 'Direccion_CALLE 16A N 27-33 -  SIN INFORMACIÃ\\x93N DEL BARRIO', 'Direccion_CALLE 16A N.41 -33  -  BALCONES DE SAN DIEGO', 'Direccion_CALLE 16B CARRERA 31 -  BACHUE', 'Direccion_CALLE 17 CARRERA 19   MANCERA', 'Direccion_CALLE 17 CARRERA 19 -  MANCERA', 'Direccion_CALLE 17 CARRERA 6   POPULAR', 'Direccion_CALLE 17 CARRERA 6 -  POPULAR', 'Direccion_CALLE 17 N .8 -57   B/PALERMO', 'Direccion_CALLE 17 N.16 -03  -  SAN CRISTOBAL', 'Direccion_CALLE 18 # 17 - 20 MANCERA', 'Direccion_CALLE 18 # 20 46  MANCERA', 'Direccion_CALLE 18 CARRERA  14 -  SAN CRISTOBAL', 'Direccion_CALLE 18 CARRERA  17 -  MANCERA', 'Direccion_CALLE 18 CARRERA  19 -  MANCERA', 'Direccion_CALLE 18 CARRERA  6   POPULAR', 'Direccion_CALLE 18 CARRERA 12 -  VILLA TERESA', 'Direccion_CALLE 18 CARRERA 14 -  SAN CRISTOBAL LOMA DE TIGRE', 'Direccion_CALLE 18 CARRERA 14 -  SIN INFORMACIÃ\\x93N DEL BARRIO', 'Direccion_CALLE 18 CARRERA 18   MANCERA', 'Direccion_CALLE 18 CARRERA 18   SIN INFORMACIÃ\\x93N DEL BARRIO', 'Direccion_CALLE 18 CARRERA 19', 'Direccion_CALLE 18 CARRERA 19   MANCERA', 'Direccion_CALLE 18 CARRERA 48 -  SIN INFORMACIÃ\\x93N DEL BARRIO', 'Direccion_CALLE 18 CARRERA 5   POPULAR', 'Direccion_CALLE 18 CARRERA 7-52 -  SIN INFORMACIÃ\\x93N DEL BARRIO', 'Direccion_CALLE 18 CON 15 INTERSECCION    SIN INFORMACIÃ\\x93N DEL BARRIO', 'Direccion_CALLE 18 CRA 19 -  MANCERA', 'Direccion_CALLE 18 FRENTE ALA VILLA OLIMPICA  -', 'Direccion_CALLE 18 INTERSECCIÃ\\x93N 20', 'Direccion_CALLE 18 N 16-02    SAN CRISTOBAL', 'Direccion_CALLE 18 N 21-56 -  MANCERA', 'Direccion_CALLE 18 N 44937   VILLA TERESA', 'Direccion_CALLE 18 N 9-50  -  POPULAR', 'Direccion_CALLE 18 N-4-01  -  POPULAR', 'Direccion_CALLE 18 N.9-50  - PALERMO  RANCHO GRANDE', 'Direccion_CALLE 19 # 25 - 72 SAN JOSÃ\\x89', 'Direccion_CALLE 19 CARRERA 16   SAN CRISTOBAL', 'Direccion_CALLE 19 CARRERA 18   MANCERA', 'Direccion_CALLE 19 CARRERA 18A -  MANCERA', 'Direccion_CALLE 19 N 29A-34    SIN INFORMACIÃ\\x93N DEL BARRIO', 'Direccion_CALLE 19 N.20 -36  -  MANCERA', 'Direccion_CALLE 19 N.22A  -  SIN INFORMACIÃ\\x93N DEL BARRIO RANCHO GRANDE', 'Direccion_CALLE 20 48  -  BRISAS DE LA COLINA', 'Direccion_CALLE 20 CARRERA 49 -  BRISAS DE LA COLINA', 'Direccion_CALLE 20 CARRERA 49 -  COLINAS', 'Direccion_CALLE 23 CARRERA 24   LA TIZA', 'Direccion_CALLE 23 N 19-16  - ARAGUANEY  LA PRIMAVERA', 'Direccion_CALLE 23 N-19-03   ARAGUANEY', 'Direccion_CALLE 25 # 20 - 3 GUARATARA', 'Direccion_CALLE 41 ENTRE LA DIAGONAL 15 Y AVENIDA 23  FRENTE ALA  NORMAL SUPERIOR', 'Direccion_CALLE 9 CARRERA  22   PABLO EMILIO RIVEROS', 'Direccion_CARRERA  19 CALLE 18 FRENTE ALA VILLA OLIMPICA', 'Direccion_CARRERA  50 N-15A-17  -  SIN INFORMACIÃ\\x93N DEL BARRIO', 'Direccion_CARRERA 13 #  12.44    JUAN MELLAO', 'Direccion_CARRERA 14 # 16 12  LAS VEGAS', 'Direccion_CARRERA 14 # 18 - 29 SAN CRISTOBAL', 'Direccion_CARRERA 14 # 19 - 13 SAN CRISTOBAL', 'Direccion_CARRERA 14 # 4 99   MALECÃ\\x93N TURISTICO', 'Direccion_CARRERA 14 CALL 6  VIA LA ESMERALDA  SIN INFORMACIÃ\\x93N DEL BARRIO', 'Direccion_CARRERA 14 CALLE  17   SAN CRISTOBAL', 'Direccion_CARRERA 14 CALLE  19 -  SAN CRISTOBAL', 'Direccion_CARRERA 14 CALLE 17   SAN CRISTOBAL', 'Direccion_CARRERA 14 CALLE 17 -  SAN CRISTOBAL', 'Direccion_CARRERA 14 CALLE 18   SAN CRISTOBAL', 'Direccion_CARRERA 14 CALLE 26   GUARATARA II', 'Direccion_CARRERA 14 N. 9-103   LA UNION', 'Direccion_CARRERA 14 N.19 -87  -  SIN INFORMACIÃ\\x93N DEL BARRIO', 'Direccion_CARRERA 15 6A -77  -  MALECÃ\\x93N TURISTICO', 'Direccion_CARRERA 16 CALLE  17   SAN CRISTOBAL', 'Direccion_CARRERA 17 # 21 - 49', 'Direccion_CARRERA 17 CALLE  17 -  SIN INFORMACIÃ\\x93N DEL BARRIO', 'Direccion_CARRERA 17 CALLE  21-49  B/ARAGUANEY', 'Direccion_CARRERA 17 CALLE 14   CENTRO', 'Direccion_CARRERA 17 N 16-32    SIN INFORMACIÃ\\x93N DEL BARRIO', 'Direccion_CARRERA 18 # 13-85 -  CENTRO', 'Direccion_CARRERA 18 # 6 18  SIN INFORMACIÃ\\x93N DEL BARRIO', 'Direccion_CARRERA 18 # 8A - 21 SANTA ISABEL', 'Direccion_CARRERA 18 CALLE  7   BALCONES DE SANTA ISABEL', 'Direccion_CARRERA 18 CON  8 INTERSECCIÃ\\x93N', 'Direccion_CARRERA 18 N.13-69  -  SIN INFORMACIÃ\\x93N DEL BARRIO', 'Direccion_CARRERA 18#16-10   -  SANTA ISABEL', 'Direccion_CARRERA 19 CALLE 17   MANCERA', 'Direccion_CARRERA 20 N 16A - 30  -  MANCERA SAN ISIDRO DE CHICHIMENE', 'Direccion_CARRERA 21 N 14-36   COOPERATIVO', 'Direccion_CARRERA 22 CALLE  15   COOPERATIVO', 'Direccion_CARRERA 22 CALLE  18 -  MANCERA', 'Direccion_CARRERA 23  15 - 20 DORADO', 'Direccion_CARRERA 23 # 11 - 9 DORADO BAJO', 'Direccion_CARRERA 23 # 13 31   SAN JOSÃ\\x89', 'Direccion_CARRERA 23 # 14 53   COOPERATIVO', 'Direccion_CARRERA 23 # 14 7   SIN INFORMACIÃ\\x93N DEL BARRIO', 'Direccion_CARRERA 23 # 17 13  MANCERA', 'Direccion_CARRERA 23 # 23-30 EDS MARIA ALEJANDRA    SIN INFORMACIÃ\\x93N DEL BARRIO', 'Direccion_CARRERA 23 # 25 39  VILLA LUCIA', 'Direccion_CARRERA 23 # 9 - 15', 'Direccion_CARRERA 23 # 9 74', 'Direccion_CARRERA 23 #14 27   SAN JOSÃ\\x89', 'Direccion_CARRERA 23 +18-35   -  MANCERA ESMERALDA', 'Direccion_CARRERA 23 CALLE  15   SAN JOSÃ\\x89', 'Direccion_CARRERA 23 CALLE  17   COOPERATIVO', 'Direccion_CARRERA 23 CALLE  17 -  MANCERA', 'Direccion_CARRERA 23 CALLE  17 DIAGONAL 15  SIN INFORMACIÃ\\x93N DEL BARRIO', 'Direccion_CARRERA 23 CALLE  18   SIN INFORMACIÃ\\x93N DEL BARRIO', 'Direccion_CARRERA 23 CALLE  19 -  MANCERA', 'Direccion_CARRERA 23 CALLE  21A   LA TIZA', 'Direccion_CARRERA 23 CALLE  5 102  SIN INFORMACIÃ\\x93N DEL BARRIO', 'Direccion_CARRERA 23 CALLE 11   SAN JOSÃ\\x89', 'Direccion_CARRERA 23 CALLE 17   MANCERA', 'Direccion_CARRERA 23 CALLE 19   SIN INFORMACIÃ\\x93N DEL BARRIO', 'Direccion_CARRERA 23 CALLE 5 -  PABLO EMILIO RIVEROS', 'Direccion_CARRERA 23 CALLE 5 - 129 PABLO EMILIO RIVEROS', 'Direccion_CARRERA 23 DIAGONAL  15   SAN JOSÃ\\x89', 'Direccion_CARRERA 23 DIAGONAL  15   SIN INFORMACIÃ\\x93N DEL BARRIO', 'Direccion_CARRERA 23 FRENTE AL COMPLEJO GANADERO', 'Direccion_CARRERA 23 FRENTE ALA BIBLIOTECA MUNICIPAL    SIN INFORMACIÃ\\x93N DEL BARRIO', 'Direccion_CARRERA 23 FRENTE ALA ESTACION PRIMAX  -', 'Direccion_CARRERA 23 N . 27-33 VILLA CLAUDIA BARRIO', 'Direccion_CARRERA 23 N .9 -15    PABLO EMILIO RIVEROS', 'Direccion_CARRERA 23 N 11-05  - DORADO ALTO', 'Direccion_CARRERA 23 N 12-20 -  DORADO', 'Direccion_CARRERA 23 N 14-30    COOPERATIVO', 'Direccion_CARRERA 23 N 25-39  -  VILLA MAGALY', 'Direccion_CARRERA 23 N 27A-25    SIN INFORMACIÃ\\x93N DEL BARRIO', 'Direccion_CARRERA 23 N 5-95   PABLO EMILIO RIVEROS', 'Direccion_CARRERA 23 N. 15-38   COOPERATIVO', 'Direccion_CARRERA 23 N. 18-63    MANCERA', 'Direccion_CARRERA 23 N.14-89  -  COOPERATIVO', 'Direccion_CARRERA 23 N.16A-35  -  EL BOSQUE', 'Direccion_CARRERA 23 N.17 -76  -  MANCERA', 'Direccion_CARRERA 23 N.18-24    MANCERA', 'Direccion_CARRERA 23#14-76   -  DORADO', 'Direccion_CARRERA 23#5A-05   -  PABLO EMILIO RIVEROS', 'Direccion_CARRERA 24 CALLE  45179 EVEREST', 'Direccion_CARRERA 25 CALLE  10A - B/EVEREST', 'Direccion_CARRERA 25 CALLE  23', 'Direccion_CARRERA 29 # 18A-40     SIN INFORMACIÃ\\x93N DEL BARRIO', 'Direccion_CARRERA 29 CALLE  12   SIN INFORMACIÃ\\x93N DEL BARRIO', 'Direccion_CARRERA 29 DIAGONAL 15 -  VILLA DEL LLANO', 'Direccion_CARRERA 30 # 17 5 ASOCIACION DE AMIGOS ASOCIACIÃ\\x93N DE AMIGOS', 'Direccion_CARRERA 30 # 22A - 20 LA ORQUIDEA REAL', 'Direccion_CARRERA 30 CALLE 10A BARRIO PANORAMA II', 'Direccion_CARRERA 30 N-22A-20  -  LA ORQUIDEA REAL', 'Direccion_CARRERA 31 # 14 - 46', 'Direccion_CARRERA 31 # 16F -80  -  BACHUE', 'Direccion_CARRERA 31 CALLE  16C -  BACHUE', 'Direccion_CARRERA 31 CALLE  16C -  SIN INFORMACIÃ\\x93N DEL BARRIO', 'Direccion_CARRERA 31 CALLE  16F -  SIN INFORMACIÃ\\x93N DEL BARRIO', 'Direccion_CARRERA 31 CALLE 16   BACHUE', 'Direccion_CARRERA 31 CALLE 16C    BACHUE', 'Direccion_CARRERA 31 CALLE 16C   BACHUE', 'Direccion_CARRERA 31 CALLE 16C  -  BACHUE', 'Direccion_CARRERA 31 CALLES 16C 16D  BACHUE', 'Direccion_CARRERA 31 N  14-110 VILLA DEL SOL', 'Direccion_CARRERA 31 N. 14-10       -  BACHUE', 'Direccion_CARRERA 33 CALLE  14A -  BACHUE', 'Direccion_CARRERA 33 CALLE  16D   BACHUE', 'Direccion_CARRERA 33 CALLE 16C   BACHUE', 'Direccion_CARRERA 33 INTERSECCIÃ\\x93N 16C', 'Direccion_CARRERA 36  12A - 6 INDEPENDENCIA', 'Direccion_CARRERA 36 CALLE  11 -  INDEPENDENCIA', 'Direccion_CARRERA 36 CALLE 12A-152 -  INDEPENDENCIA', 'Direccion_CARRERA 36 N. 12A-146   INDEPENDENCIA', 'Direccion_CARRERA 36 N. 9-82  -  INDEPENDENCIA', 'Direccion_CARRERA 39 CALLE 11 -  INDEPENDENCIA', 'Direccion_CARRERA 4 N. 18 - 96   -  POPULAR', 'Direccion_CARRERA 41 AVENIDA 23 PLAZA CENTENARIA  SIN INFORMACIÃ\\x93N DEL BARRIO', 'Direccion_CARRERA 45 FRENTE 14 - 46', 'Direccion_CARRERA 45A CALLE 16   COLINAS', 'Direccion_CARRERA 45B # 16', 'Direccion_CARRERA 47 CALLE  17   COLINAS', 'Direccion_CARRERA 47 CALLE 16 INTERS -  COLINAS', 'Direccion_CARRERA 47 CALLE 18 -  SIN INFORMACIÃ\\x93N DEL BARRIO SANTA ROSA', 'Direccion_CARRERA 47 N: 18 -35       -  COLINAS', 'Direccion_CARRERA 49 CALLE 20   BRISAS DE LA COLINA', 'Direccion_DIAGONAL 15  26 - 142 DON BOSCO', 'Direccion_DIAGONAL 15  26 - 46 PABLO VI', 'Direccion_DIAGONAL 15 # 27A - 45 SAN JOSÃ\\x89', 'Direccion_DIAGONAL 15 # 29 43  VILLA LUCIA', 'Direccion_DIAGONAL 15 # 30-15 VILLA DEL SOL', 'Direccion_DIAGONAL 15 # 32 - 20 VILLA CASTILLA', 'Direccion_DIAGONAL 15 CARRERA  21 -  COOPERATIVO', 'Direccion_DIAGONAL 15 CARRERA  27A 33  SAN JOSÃ\\x89', 'Direccion_DIAGONAL 15 CARRERA 21 -  COOPERATIVO', 'Direccion_DIAGONAL 15 CARRERA 25   SIN INFORMACIÃ\\x93N DEL BARRIO', 'Direccion_DIAGONAL 15 CARRERA 30 -  ASOCIACIÃ\\x93N DE AMIGOS', 'Direccion_DIAGONAL 15 CARRERA 31 - VILLA DEL SOL  VEREDA', 'Direccion_DIAGONAL 15 CARRERA 41 - VILLA AURORA', 'Direccion_DIAGONAL 15 CARRERA 42 - VILLA COLONIAL', 'Direccion_DIAGONAL 15 CARRERA 43 COLONIA PENAL', 'Direccion_DIAGONAL 15 CARRRA  26A   SIN INFORMACIÃ\\x93N DEL BARRIO', 'Direccion_DIAGONAL 15 N 23 -17  -  SAN JOSÃ\\x89', 'Direccion_DIAGONAL 15 N 29A-21    VILLA LUCIA', 'Direccion_DIAGONAL 15 N-34 -01  - PRADOS CODEM', 'Direccion_DIAGONAL 15 N. 22-54', 'Direccion_DIAGONAL 15 N. 29B-03  -', 'Direccion_DIAGONAL 15 N: 32-20    VILLA CASTILLA', 'Direccion_DIAGONAL 5  17 - 7 PABLO EMILIO RIVEROS', 'Direccion_DIAGONAL 5 N 17-07    PABLO EMILIO RIVEROS', 'Direccion_DIAGONAL 5 N: 17-203    SIN INFORMACIÃ\\x93N DEL BARRIO', 'Direccion_DIAGONAL 5 VIA LLANO MAR  -  LLANO MAR', 'Direccion_DIAGONAL 6 N 29A-97  BARRIO PANORAMA', 'Direccion_DIAGONAL 8 N.18-127  - BARR/LAS FERIAS', 'Direccion_KILOMETRO 0+400     VÃ\\x8dA ANTIGUA GUAMAL', 'Direccion_KILOMETRO 0+400 MTS ACACIAS  VEREDA RANCHO  GRANDE', 'Direccion_KILOMETRO 0+400 MTS VIA ANTIGUA GUAMAL  -', 'Direccion_KILOMETRO 0+500      SANTA TERESITA', 'Direccion_KILOMETRO 0+500 MTS   - VEREDA EL PLAYON  EL CENTRO', 'Direccion_KILOMETRO 00+900 MTS VIA ANTIGUA  GUAMAL -', 'Direccion_KILOMETRO 1 FINCA PORVENIR   VEREDA SAN NICOLAS', 'Direccion_KILOMETRO 1 VIA ACACIAS -VILLAVICENCIO  -  VILLA MANUELA', 'Direccion_KILOMETRO 1 VIA ANTIGUA GUAMAL    RANCHO GRANDE', 'Direccion_KILOMETRO 1 VIA CRUCE VAQUEROS CHICHIMENE    LOMA DE TIGRE', 'Direccion_KILOMETRO 1 VIA VEREDA ESMERALDA  -', 'Direccion_KILOMETRO 1+100 MTS DESDE JUAN ROZO VIA DINAMARCA     SANTA TERESITA', 'Direccion_KILOMETRO 1+200 MTS   -', 'Direccion_KILOMETRO 1+200 MTS VIA RESGUARDO     EL RESGUARDO', 'Direccion_KILOMETRO 1+500 MTS   ACACIAS CHICHIMENE   ESMERALDA', 'Direccion_KILOMETRO 1+700 MTS     BAQUEROS CLUB-CHICHIMENE LOMA DE TIGRE', 'Direccion_KILOMETRO 1+700 MTS     VÃ\\x8dA ACACÃ\\x8dAS-GUAMAL', 'Direccion_KILOMETRO 1+700 MTS RURAL     LOMA DE TIGRE', 'Direccion_KILOMETRO 1+900 MTS   - VIA', 'Direccion_KILOMETRO 10 VÃ\\x8dA DINAMARCA  VEREDA   MONTELIBANO', 'Direccion_KILOMETRO 10+100 MTS VIA ACACIAS  CHCICHIMENE -', 'Direccion_KILOMETRO 14 VIA  Dinamrca     MONTELIBANO BAJO', 'Direccion_KILOMETRO 15 VIA VAQUEROS -CHICHIMENE  -', 'Direccion_KILOMETRO 15+9 MTS     VÃ\\x8dA ACACÃ\\x8dAS-DINAMARCA', 'Direccion_KILOMETRO 18+700 MTS VIA A DINAMARCA  VEREDA /CAÃ\\x91O HONDO   MONTELIBANO', 'Direccion_KILOMETRO 18+850 MTS VIA ACACIAS -SAN CARLOS DE GUAROA     SANTA ROSA', 'Direccion_KILOMETRO 19 VIA VAQUEROS CLUB -', 'Direccion_KILOMETRO 19+200 MTS VIA ACACIAS SANTA ROSA     SANTA ROSA', 'Direccion_KILOMETRO 2 ACACIAS /VEREDA CENTRO     EL CENTRO', 'Direccion_KILOMETRO 2 VIA VAQUEROS -CHICHIMENE     SAN ISIDRO DE CHICHIMENE', 'Direccion_KILOMETRO 2+200 MTS   - VAQUEROS -CHICHIMENE', 'Direccion_KILOMETRO 2+200 MTS  VIA  ACACIAS  ANTIGUA GUAMAL -  VÃ\\x8dA ANTIGUA GUAMAL', 'Direccion_KILOMETRO 20+200      PUERTO CANECAS', 'Direccion_KILOMETRO 21 VIA ACACIAS /DINAMARCA  CAÃ\\x91O HONDO', 'Direccion_KILOMETRO 21+400 MTS   VEREDA TRIUNFO   EL TRIUNFO', 'Direccion_KILOMETRO 22+450 MTS VIA DINAMARCA', 'Direccion_KILOMETRO 22+880     VÃ\\x8dA GRANADA-VILLAVICENCIO', 'Direccion_KILOMETRO 23 +039 MTS      EL RESGUARDO', 'Direccion_KILOMETRO 23 MTS SECTOR CAÃ\\x91O HONDO    VÃ\\x8dA ACACÃ\\x8dAS-DINAMARCA', 'Direccion_KILOMETRO 23 VIA  CHICHIMENE VIA SAN CARLOS  DE GUAROA -', 'Direccion_KILOMETRO 23+580 MTS DIAGONAL MANGA DE COLEO    VÃ\\x8dA GRANADA-VILLAVICENCIO', 'Direccion_KILOMETRO 24+450 MTS     VÃ\\x8dA ACACÃ\\x8dAS-DINAMARCA', 'Direccion_KILOMETRO 26 + 645  -  VÃ\\x8dA GRANADA-VILLAVICENCIO', 'Direccion_KILOMETRO 26 + 800 MTS VIA VILLAVICENCIO    VÃ\\x8dA ACACÃ\\x8dAS-VILLAVICENCIO', 'Direccion_KILOMETRO 26+200     PABLO EMILIO RIVEROS', 'Direccion_KILOMETRO 26+300 MTS     VÃ\\x8dA GRANADA-VILLAVICENCIO', 'Direccion_KILOMETRO 26+500 MTS VIA VILLAVICENCIO  GRANADA -', 'Direccion_KILOMETRO 26+800 MTS   -  VÃ\\x8dA GRANADA-VILLAVICENCIO', 'Direccion_KILOMETRO 27+100 MTS     VÃ\\x8dA ACACÃ\\x8dAS-VILLAVICENCIO', 'Direccion_KILOMETRO 27+200 MTS   -  VÃ\\x8dA GRANADA-VILLAVICENCIO', 'Direccion_KILOMETRO 3 VIA ACACIAS  DINAMARCA', 'Direccion_KILOMETRO 3 VIA ANTIGUA GUAMAL  -', 'Direccion_KILOMETRO 3+100 MTS      ESMERALDA', 'Direccion_KILOMETRO 3+100 MTS VIA BAQUEOS CHICHIMENE     LOMA DE TIGRE', 'Direccion_KILOMETRO 3+200 MTS VIA GRAVICON', 'Direccion_KILOMETRO 3+400 VÃ\\x8dA  VEREDA   EL CENTRO', 'Direccion_KILOMETRO 3+500 MTS VIA CHICHIMENE ESTACION ACACIAS', 'Direccion_KILOMETRO 3+700MTS VIA ACACIAS  VEREDA LA ESMERALDA     ESMERALDA', 'Direccion_KILOMETRO 4 DSDE COLEGIO JUAN ROZO VIA GRAVICON', 'Direccion_KILOMETRO 4 VIA ACACIAS  DINAMARCA -', 'Direccion_KILOMETRO 4 VIA DINAMARACA     SANTA TERESITA', 'Direccion_KILOMETRO 4 VIA GRAVICOL  -', 'Direccion_KILOMETRO 4+100 MTS VIA ANTIGUA GUAMAL  -', 'Direccion_KILOMETRO 44+350 MTS   OROTOY  VÃ\\x8dA GRANADA-VILLAVICENCIO', 'Direccion_KILOMETRO 44+500 MTS   -  VÃ\\x8dA GRANADA-VILLAVICENCIO', 'Direccion_KILOMETRO 44+700 MTS   -  VÃ\\x8dA GRANADA-VILLAVICENCIO', 'Direccion_KILOMETRO 44+800 MTS     VÃ\\x8dA GRANADA-VILLAVICENCIO', 'Direccion_KILOMETRO 45+000 MTS   -  VÃ\\x8dA GRANADA-VILLAVICENCIO', 'Direccion_KILOMETRO 45+340 MTS      LA CECILITA', 'Direccion_KILOMETRO 45+500 MTS   -  VÃ\\x8dA GRANADA-VILLAVICENCIO', 'Direccion_KILOMETRO 45+500 MTS   SECTOR VAQUEROS   VÃ\\x8dA GRANADA-VILLAVICENCIO', 'Direccion_KILOMETRO 45+700 MTS   SECTOR CHICHIMENE  VÃ\\x8dA GRANADA-VILLAVICENCIO', 'Direccion_KILOMETRO 46+200 MTS     VÃ\\x8dA GRANADA-VILLAVICENCIO', 'Direccion_KILOMETRO 46+300 MTS     VÃ\\x8dA GRANADA-VILLAVICENCIO', 'Direccion_KILOMETRO 46+400 MTS     VÃ\\x8dA GRANADA-VILLAVICENCIO', 'Direccion_KILOMETRO 46+500 BOMBA SEUZ GRANADA - VILLAVICENCIO', 'Direccion_KILOMETRO 46+500 MTS     VÃ\\x8dA GRANADA-VILLAVICENCIO', 'Direccion_KILOMETRO 46+600  GRANADA - VILLAVICENCIO  EL CENTRO', 'Direccion_KILOMETRO 46+630 MTS   -', 'Direccion_KILOMETRO 46+650 MTS   -  VÃ\\x8dA GRANADA-VILLAVICENCIO', 'Direccion_KILOMETRO 46+690 MTS     VÃ\\x8dA GRANADA-VILLAVICENCIO', 'Direccion_KILOMETRO 46+970 MTS VIA VILLAVICENCIO GRANADA  SECTOR CODE SOLA', 'Direccion_KILOMETRO 47+100 MTS     VÃ\\x8dA GRANADA-VILLAVICENCIO', 'Direccion_KILOMETRO 47+260   - CODESOLA VÃ\\x8dA GRANADA-VILLAVICENCIO', 'Direccion_KILOMETRO 47+300 MTS     VÃ\\x8dA GRANADA-VILLAVICENCIO', 'Direccion_KILOMETRO 47+400 MTS   VEREDA CENTRO  VÃ\\x8dA GRANADA-VILLAVICENCIO', 'Direccion_KILOMETRO 47+500 MTS', 'Direccion_KILOMETRO 47+610 MTS INTER VEREDA EL CENTRO    VÃ\\x8dA GRANADA-VILLAVICENCIO', 'Direccion_KILOMETRO 47+690 MTS     VÃ\\x8dA GRANADA-VILLAVICENCIO', 'Direccion_KILOMETRO 47+690 MTS     VÃ\\x8dA GRANADA-VILLAVICENCIO EL CENTRO', 'Direccion_KILOMETRO 48+000MTS   VEREDA EL CENTRO  VÃ\\x8dA GRANADA-VILLAVICENCIO', 'Direccion_KILOMETRO 48+020 MTS   -  VÃ\\x8dA GRANADA-VILLAVICENCIO', 'Direccion_KILOMETRO 48+350 MTS     VÃ\\x8dA GRANADA-VILLAVICENCIO', 'Direccion_KILOMETRO 48+400 MTS   -  VÃ\\x8dA GRANADA-VILLAVICENCIO EL CENTRO', 'Direccion_KILOMETRO 5 CAMELLON 10  -', 'Direccion_KILOMETRO 52 GRAN/VILLAVICENCIO  -  VÃ\\x8dA GRANADA-VILLAVICENCIO', 'Direccion_KILOMETRO 52+260 MTS     VÃ\\x8dA GRANADA-VILLAVICENCIO', 'Direccion_KILOMETRO 53+200 MTS   -  VÃ\\x8dA GRANADA-VILLAVICENCIO', 'Direccion_KILOMETRO 53+500     VÃ\\x8dA GRANADA-VILLAVICENCIO', 'Direccion_KILOMETRO 53+700 MTS     VÃ\\x8dA GRANADA-VILLAVICENCIO', 'Direccion_KILOMETRO 53+850 MTS   -  VÃ\\x8dA GRANADA-VILLAVICENCIO', 'Direccion_KILOMETRO 55+200     VÃ\\x8dA GRANADA-VILLAVICENCIO', 'Direccion_KILOMETRO 56+010 MTS   -  VÃ\\x8dA GRANADA-VILLAVICENCIO', 'Direccion_KILOMETRO 56+100 MTS     VÃ\\x8dA GRANADA-VILLAVICENCIO', 'Direccion_KILOMETRO 56+210 MTS   -  VÃ\\x8dA GRANADA-VILLAVICENCIO', 'Direccion_KILOMETRO 56+500 MTS   SECTOR GUAYURIBA  VÃ\\x8dA GRANADA-VILLAVICENCIO', 'Direccion_KILOMETRO 56+570 MTS     VÃ\\x8dA GRANADA-VILLAVICENCIO', 'Direccion_KILOMETRO 56+720 MTS    -  VÃ\\x8dA GRANADA-VILLAVICENCIO', 'Direccion_KILOMETRO 56+750 MTS     VÃ\\x8dA GRANADA-VILLAVICENCIO', 'Direccion_KILOMETRO 57+100 MTS VIA GRANADA -VILLAVICENCIO  -', 'Direccion_KILOMETRO 57+650 MTS     VÃ\\x8dA GRANADA-VILLAVICENCIO', 'Direccion_KILOMETRO 57+700 MTS     VÃ\\x8dA GRANADA-VILLAVICENCIO', 'Direccion_KILOMETRO 6+900 MTS VIA ANTIGUA GUAMAL', 'Direccion_KILOMETRO 7+700   VÃ\\x8dA DINAMARCA', 'Direccion_KILOMETRO 7+800 MTS', 'Direccion_KILOMETRO 8 VIA VAQUEROS CLUB  CHICHIMENE     SAN ISIDRO DE CHICHIMENE', 'Direccion_KILOMETRO 8+200 MTS VIA ESMERALDA -CHICHIMENE  -', 'Direccion_KILOMETRO 8+400 COLEGIO JUAN ROZO     EL RESGUARDO', 'Direccion_KILOMETRO 9+200 MTS     BAQUEROS CLUB-CHICHIMENE', 'Direccion_KILOMETRO 9+200 VÃ\\x8dA CHICHIMENE', 'Direccion_KILOMETRO KM 7 VIA ANTIGUA GUAMAL  -', 'Direccion_LOTE N 2 VIA CHICHCIMENE  FRENTE  FINCA SAN ANTONIO    LOMA DE TIGRE', 'Direccion_MALECON TURISTICO    MALECÃ\\x93N TURISTICO', 'Direccion_MANZANA C CASA 21   NUEVA JERUSALEN', 'Direccion_VÃ\\x8dA GRANADA-VILLAVICENCIO', 'Barrio_ATAHUALPA', 'Barrio_BACHUE', 'Barrio_BALCONES DE SAN DIEGO', 'Barrio_BALCONES DE SANTA ISABEL', 'Barrio_BAQUEROS CLUB-CHICHIMENE', 'Barrio_BRISAS DE LA COLINA', 'Barrio_CENTRO', 'Barrio_CIMARRON', 'Barrio_COLINAS', 'Barrio_COMCAJA', 'Barrio_COOPERATIVO', 'Barrio_DON BOSCO', 'Barrio_DORADO', 'Barrio_DORADO BAJO', 'Barrio_EL BOSQUE', 'Barrio_GUARATARA', 'Barrio_GUARATARA II', 'Barrio_INDEPENDENCIA', 'Barrio_JUAN MELLAO', 'Barrio_LA ORQUIDEA REAL', 'Barrio_LA TIZA', 'Barrio_LA UNION', 'Barrio_LAS ACACIAS', 'Barrio_LAS VEGAS', 'Barrio_LLANO MAR', 'Barrio_LOS OLIVOS', 'Barrio_MALECÃ\\x93N TURISTICO', 'Barrio_MANCERA', 'Barrio_NUEVA JERUSALEN', 'Barrio_NUTIVARA', 'Barrio_No registra', 'Barrio_PABLO EMILIO RIVEROS', 'Barrio_PABLO VI', 'Barrio_POPULAR', 'Barrio_SAMAN', 'Barrio_SAN CRISTOBAL', 'Barrio_SAN JOSE', 'Barrio_SANTA ISABEL', 'Barrio_VILLA CASTILLA', 'Barrio_VILLA DEL LLANO', 'Barrio_VILLA LUCIA', 'Barrio_VILLA MAGALY', 'Barrio_VILLA MANUELA', 'Barrio_VILLA TERESA', 'Barrio_VÃ\\x8dA ACACÃ\\x8dAS-DINAMARCA', 'Barrio_VÃ\\x8dA ACACÃ\\x8dAS-GUAMAL', 'Barrio_VÃ\\x8dA ACACÃ\\x8dAS-VILLAVICENCIO', 'Barrio_VÃ\\x8dA ANTIGUA GUAMAL', 'Barrio_VÃ\\x8dA GRANADA-VILLAVICENCIO', 'Barrio_VÃ\\x8dA PRINCIPAL-AVENIDA 23', 'Accidente _con_HERIDOS', 'Accidente _con_MUERTOS', 'Clase_Accidente_CHOQUE', 'Clase_Accidente_OTRO', 'Clase_Accidente_VOLCAMIENTO']\n"
     ]
    }
   ],
   "source": [
    "print(df_clean.columns.tolist())"
   ]
  },
  {
   "cell_type": "code",
   "execution_count": 466,
   "id": "78be3cf2",
   "metadata": {},
   "outputs": [
    {
     "data": {
      "text/html": [
       "<div>\n",
       "<style scoped>\n",
       "    .dataframe tbody tr th:only-of-type {\n",
       "        vertical-align: middle;\n",
       "    }\n",
       "\n",
       "    .dataframe tbody tr th {\n",
       "        vertical-align: top;\n",
       "    }\n",
       "\n",
       "    .dataframe thead th {\n",
       "        text-align: right;\n",
       "    }\n",
       "</style>\n",
       "<table border=\"1\" class=\"dataframe\">\n",
       "  <thead>\n",
       "    <tr style=\"text-align: right;\">\n",
       "      <th></th>\n",
       "      <th>ID</th>\n",
       "      <th>Fecha_Ocurrencia</th>\n",
       "      <th>Vehiculos_Involucrados</th>\n",
       "      <th>Heridos</th>\n",
       "      <th>Heridos _SI/NO</th>\n",
       "      <th>Muertes</th>\n",
       "      <th>Tipo_Accidente</th>\n",
       "      <th>Codigo_Accidente_A0001602284</th>\n",
       "      <th>Codigo_Accidente_A0001602285</th>\n",
       "      <th>Codigo_Accidente_A0001602287</th>\n",
       "      <th>...</th>\n",
       "      <th>Barrio_VÃA ACACÃAS-GUAMAL</th>\n",
       "      <th>Barrio_VÃA ACACÃAS-VILLAVICENCIO</th>\n",
       "      <th>Barrio_VÃA ANTIGUA GUAMAL</th>\n",
       "      <th>Barrio_VÃA GRANADA-VILLAVICENCIO</th>\n",
       "      <th>Barrio_VÃA PRINCIPAL-AVENIDA 23</th>\n",
       "      <th>Accidente _con_HERIDOS</th>\n",
       "      <th>Accidente _con_MUERTOS</th>\n",
       "      <th>Clase_Accidente_CHOQUE</th>\n",
       "      <th>Clase_Accidente_OTRO</th>\n",
       "      <th>Clase_Accidente_VOLCAMIENTO</th>\n",
       "    </tr>\n",
       "  </thead>\n",
       "  <tbody>\n",
       "    <tr>\n",
       "      <th>0</th>\n",
       "      <td>1</td>\n",
       "      <td>1/3/2024 0:00</td>\n",
       "      <td>2</td>\n",
       "      <td>0.4</td>\n",
       "      <td>1</td>\n",
       "      <td>0.0</td>\n",
       "      <td>Grave</td>\n",
       "      <td>False</td>\n",
       "      <td>False</td>\n",
       "      <td>False</td>\n",
       "      <td>...</td>\n",
       "      <td>False</td>\n",
       "      <td>False</td>\n",
       "      <td>False</td>\n",
       "      <td>False</td>\n",
       "      <td>False</td>\n",
       "      <td>True</td>\n",
       "      <td>False</td>\n",
       "      <td>True</td>\n",
       "      <td>False</td>\n",
       "      <td>False</td>\n",
       "    </tr>\n",
       "    <tr>\n",
       "      <th>1</th>\n",
       "      <td>2</td>\n",
       "      <td>1/6/2024 0:00</td>\n",
       "      <td>2</td>\n",
       "      <td>0.6</td>\n",
       "      <td>1</td>\n",
       "      <td>0.0</td>\n",
       "      <td>Grave</td>\n",
       "      <td>False</td>\n",
       "      <td>False</td>\n",
       "      <td>False</td>\n",
       "      <td>...</td>\n",
       "      <td>False</td>\n",
       "      <td>False</td>\n",
       "      <td>False</td>\n",
       "      <td>False</td>\n",
       "      <td>False</td>\n",
       "      <td>True</td>\n",
       "      <td>False</td>\n",
       "      <td>True</td>\n",
       "      <td>False</td>\n",
       "      <td>False</td>\n",
       "    </tr>\n",
       "    <tr>\n",
       "      <th>2</th>\n",
       "      <td>3</td>\n",
       "      <td>1/9/2024 0:00</td>\n",
       "      <td>1</td>\n",
       "      <td>0.2</td>\n",
       "      <td>1</td>\n",
       "      <td>0.0</td>\n",
       "      <td>Medio</td>\n",
       "      <td>False</td>\n",
       "      <td>False</td>\n",
       "      <td>False</td>\n",
       "      <td>...</td>\n",
       "      <td>False</td>\n",
       "      <td>False</td>\n",
       "      <td>False</td>\n",
       "      <td>False</td>\n",
       "      <td>False</td>\n",
       "      <td>True</td>\n",
       "      <td>False</td>\n",
       "      <td>True</td>\n",
       "      <td>False</td>\n",
       "      <td>False</td>\n",
       "    </tr>\n",
       "    <tr>\n",
       "      <th>3</th>\n",
       "      <td>4</td>\n",
       "      <td>1/12/2024 0:00</td>\n",
       "      <td>2</td>\n",
       "      <td>0.4</td>\n",
       "      <td>1</td>\n",
       "      <td>0.0</td>\n",
       "      <td>Grave</td>\n",
       "      <td>False</td>\n",
       "      <td>False</td>\n",
       "      <td>False</td>\n",
       "      <td>...</td>\n",
       "      <td>False</td>\n",
       "      <td>False</td>\n",
       "      <td>False</td>\n",
       "      <td>False</td>\n",
       "      <td>False</td>\n",
       "      <td>True</td>\n",
       "      <td>False</td>\n",
       "      <td>True</td>\n",
       "      <td>False</td>\n",
       "      <td>False</td>\n",
       "    </tr>\n",
       "    <tr>\n",
       "      <th>4</th>\n",
       "      <td>5</td>\n",
       "      <td>1/12/2024 0:00</td>\n",
       "      <td>2</td>\n",
       "      <td>0.2</td>\n",
       "      <td>1</td>\n",
       "      <td>0.0</td>\n",
       "      <td>Medio</td>\n",
       "      <td>False</td>\n",
       "      <td>False</td>\n",
       "      <td>False</td>\n",
       "      <td>...</td>\n",
       "      <td>False</td>\n",
       "      <td>False</td>\n",
       "      <td>False</td>\n",
       "      <td>False</td>\n",
       "      <td>False</td>\n",
       "      <td>True</td>\n",
       "      <td>False</td>\n",
       "      <td>True</td>\n",
       "      <td>False</td>\n",
       "      <td>False</td>\n",
       "    </tr>\n",
       "  </tbody>\n",
       "</table>\n",
       "<p>5 rows × 1072 columns</p>\n",
       "</div>"
      ],
      "text/plain": [
       "   ID Fecha_Ocurrencia  Vehiculos_Involucrados  Heridos  Heridos _SI/NO  \\\n",
       "0   1    1/3/2024 0:00                       2      0.4               1   \n",
       "1   2    1/6/2024 0:00                       2      0.6               1   \n",
       "2   3    1/9/2024 0:00                       1      0.2               1   \n",
       "3   4   1/12/2024 0:00                       2      0.4               1   \n",
       "4   5   1/12/2024 0:00                       2      0.2               1   \n",
       "\n",
       "   Muertes Tipo_Accidente  Codigo_Accidente_A0001602284  \\\n",
       "0      0.0          Grave                         False   \n",
       "1      0.0          Grave                         False   \n",
       "2      0.0          Medio                         False   \n",
       "3      0.0          Grave                         False   \n",
       "4      0.0          Medio                         False   \n",
       "\n",
       "   Codigo_Accidente_A0001602285  Codigo_Accidente_A0001602287  ...  \\\n",
       "0                         False                         False  ...   \n",
       "1                         False                         False  ...   \n",
       "2                         False                         False  ...   \n",
       "3                         False                         False  ...   \n",
       "4                         False                         False  ...   \n",
       "\n",
       "   Barrio_VÃA ACACÃAS-GUAMAL  Barrio_VÃA ACACÃAS-VILLAVICENCIO  \\\n",
       "0                        False                               False   \n",
       "1                        False                               False   \n",
       "2                        False                               False   \n",
       "3                        False                               False   \n",
       "4                        False                               False   \n",
       "\n",
       "   Barrio_VÃA ANTIGUA GUAMAL  Barrio_VÃA GRANADA-VILLAVICENCIO  \\\n",
       "0                       False                              False   \n",
       "1                       False                              False   \n",
       "2                       False                              False   \n",
       "3                       False                              False   \n",
       "4                       False                              False   \n",
       "\n",
       "   Barrio_VÃA PRINCIPAL-AVENIDA 23  Accidente _con_HERIDOS  \\\n",
       "0                             False                    True   \n",
       "1                             False                    True   \n",
       "2                             False                    True   \n",
       "3                             False                    True   \n",
       "4                             False                    True   \n",
       "\n",
       "   Accidente _con_MUERTOS  Clase_Accidente_CHOQUE  Clase_Accidente_OTRO  \\\n",
       "0                   False                    True                 False   \n",
       "1                   False                    True                 False   \n",
       "2                   False                    True                 False   \n",
       "3                   False                    True                 False   \n",
       "4                   False                    True                 False   \n",
       "\n",
       "   Clase_Accidente_VOLCAMIENTO  \n",
       "0                        False  \n",
       "1                        False  \n",
       "2                        False  \n",
       "3                        False  \n",
       "4                        False  \n",
       "\n",
       "[5 rows x 1072 columns]"
      ]
     },
     "execution_count": 466,
     "metadata": {},
     "output_type": "execute_result"
    }
   ],
   "source": [
    "df_clean.head()"
   ]
  },
  {
   "cell_type": "code",
   "execution_count": 467,
   "id": "581ee006",
   "metadata": {},
   "outputs": [
    {
     "name": "stdout",
     "output_type": "stream",
     "text": [
      "✅ Exactitud después de la limpieza: 0.5\n"
     ]
    }
   ],
   "source": [
    "#EVAULACION DESPUES DEL MODELO DE LA LIMPIEZA\n",
    "from sklearn.linear_model import LogisticRegression\n",
    "from sklearn.metrics import accuracy_score\n",
    "from sklearn.model_selection import train_test_split\n",
    "import pandas as pd\n",
    "\n",
    "# Assuming df_clean is already defined and cleaned\n",
    "# Drop columns that are not needed for the model\n",
    "Xc = df_clean[['Clase_Accidente_CHOQUE', 'Clase_Accidente_OTRO', 'Clase_Accidente_VOLCAMIENTO']]\n",
    "yc = df_clean['Tipo_Accidente']\n",
    "\n",
    "# No need to use get_dummies, as columns are already dummy variables\n",
    "\n",
    "# Split the data into training and testing sets\n",
    "Xc_train, Xc_test, yc_train, yc_test = train_test_split(Xc, yc, test_size=0.3, random_state=42)\n",
    "\n",
    "# Train the logistic regression model\n",
    "model_after = LogisticRegression(max_iter=200)\n",
    "model_after.fit(Xc_train, yc_train)\n",
    "\n",
    "# Predict and calculate accuracy\n",
    "yc_pred = model_after.predict(Xc_test)\n",
    "acc_after = accuracy_score(yc_test, yc_pred)\n",
    "\n",
    "print(\"✅ Exactitud después de la limpieza:\", round(acc_after, 4))\n"
   ]
  },
  {
   "cell_type": "markdown",
   "id": "efa80692",
   "metadata": {},
   "source": [
    "Esta es la evaluación de un modelo de regresión logística multinomial, usando tres variables predictoras dummy que representan distintas clases de accidentes.\n",
    "Una exactitud de 0.5 indica que el modelo está funcionando mejor que la versión inicial con fuga de datos (1.0), pero aún es insuficiente para una buena predicción. El problema clave es la falta de riqueza en las variables predictoras.\n",
    "CAUSAS:\n",
    "Muy pocas variables predictoras :Solo se usan tres variables (Clase_Accidente_CHOQUE, OTRO, VOLCAMIENTO). Esto limita fuertemente la capacidad del modelo de capturar patrones complejos en los datos.\n",
    "Posible desequilibrio de clases en Tipo_Accidente :Si algunas clases son mucho más frecuentes que otras, el modelo puede tener dificultad para aprender a diferenciarlas. Evaluar con classification_report y confusion_matrix puede ayudarte a confirmar esto.\n",
    "Falta de contexto:Factores como barrio, número de vehículos, hora, o zona pueden ser relevantes para predecir el tipo de accidente y no están siendo considerados.\n",
    "RECOMENDACIONES\n",
    "Agregar más variables predictoras útiles, como:\n",
    "Barrio, Cantidad_Vehiculos\n",
    "Fecha_Accidente transformada en DíaSemana, Mes, Hora\n",
    "Direccion, si se codifica de forma efectiva."
   ]
  },
  {
   "cell_type": "code",
   "execution_count": 468,
   "id": "db032b97",
   "metadata": {},
   "outputs": [
    {
     "data": {
      "image/png": "[encoded data removed]",
      "text/plain": [
       "<Figure size 1000x600 with 2 Axes>"
      ]
     },
     "metadata": {},
     "output_type": "display_data"
    }
   ],
   "source": [
    "# Mapa de calor de correlaciones numéricas\n",
    "\n",
    "import matplotlib.pyplot as plt\n",
    "import seaborn as sns\n",
    "\n",
    "# Mapping string values to numeric ones\n",
    "df_clean['Tipo_Accidente'] = df_clean['Tipo_Accidente'].map({'Leve': 1, 'Moderado': 2, 'Grave': 3})\n",
    "\n",
    "plt.figure(figsize=(10, 6))\n",
    "sns.heatmap(df_clean[['Muertes', 'Heridos']].corr(), annot=True, cmap='coolwarm')\n",
    "plt.title('Matriz de correlación')\n",
    "plt.show()\n"
   ]
  },
  {
   "cell_type": "markdown",
   "id": "193eaaa6",
   "metadata": {},
   "source": [
    "Los resultados de 1 en diagonal siempre deben tener ese resultado, pues una variable esta siempre perfectamente correlacionada consigo misma, mientras que los resultados de la relación entre muertos y heridos no permite evidenciar una relación lineal entre esas variables, pues al ser -0,22 el resultado indica  que la relación es poca. "
   ]
  },
  {
   "cell_type": "code",
   "execution_count": 469,
   "id": "fc2106f3",
   "metadata": {},
   "outputs": [],
   "source": [
    "#PREDICIONES DE LA PROBABILIDAD DE OCURRENCIA \n",
    "#MODELO DE REGRESION LOGISTICA\n",
    "import pandas as pd\n",
    "import numpy as np\n",
    "from sklearn.linear_model import LogisticRegression\n",
    "from sklearn.model_selection import train_test_split\n",
    "from sklearn.preprocessing import MinMaxScaler\n",
    "from sklearn.metrics import classification_report, confusion_matrix, ConfusionMatrixDisplay, roc_curve, roc_auc_score\n",
    "import matplotlib.pyplot as plt\n",
    "\n",
    "df = pd.read_csv(\"/workspaces/proyecto1/datos/Accidentes_Viales_final.csv\", encoding='ISO-8859-1')"
   ]
  },
  {
   "cell_type": "code",
   "execution_count": 470,
   "id": "936e6a4b",
   "metadata": {},
   "outputs": [
    {
     "name": "stdout",
     "output_type": "stream",
     "text": [
      "Index(['ID', 'Fecha_Ocurrencia', 'Codigo_Accidente', 'Direccion', 'Barrio',\n",
      "       'Vehiculos_Involucrados', 'Heridos', 'Accidente _con',\n",
      "       'Heridos _SI/NO ', 'Muertes', 'Clase_Accidente'],\n",
      "      dtype='object')\n"
     ]
    }
   ],
   "source": [
    "# Ver los nombres exactos de las columnas\n",
    "print(df.columns)"
   ]
  },
  {
   "cell_type": "code",
   "execution_count": 471,
   "id": "c3302a30",
   "metadata": {},
   "outputs": [
    {
     "name": "stdout",
     "output_type": "stream",
     "text": [
      "Index(['Heridos', 'Muertes'], dtype='object')\n"
     ]
    }
   ],
   "source": [
    "print(X.columns)"
   ]
  },
  {
   "cell_type": "code",
   "execution_count": 472,
   "id": "b93ea7e7",
   "metadata": {},
   "outputs": [
    {
     "name": "stdout",
     "output_type": "stream",
     "text": [
      "Column 'Tipo_Accidente' not found in DataFrame.\n",
      "Cannot proceed with train-test split as 'Tipo_Accidente' column is missing.\n"
     ]
    }
   ],
   "source": [
    "#SELECCION Y PREPARACION DE DATOS\n",
    "from sklearn.model_selection import train_test_split\n",
    "from sklearn.preprocessing import MinMaxScaler\n",
    "import pandas as pd\n",
    "\n",
    "# Check if 'Tipo_Accidente' exists in the DataFrame\n",
    "if 'Tipo_Accidente' in df.columns:\n",
    "    X = df.drop(columns=['Heridos', 'Muertes', 'Tipo_Accidente'])\n",
    "    y = df['Tipo_Accidente']\n",
    "else:\n",
    "    print(\"Column 'Tipo_Accidente' not found in DataFrame.\")\n",
    "    # Handle the case where the column is missing\n",
    "    X = df.drop(columns=['Heridos', 'Muertes'])\n",
    "    y = None\n",
    "    # or handle appropriately\n",
    "\n",
    "if y is not None:\n",
    "    X_train, X_test, y_train, y_test = train_test_split(X, y, test_size=0.3, random_state=42)\n",
    "\n",
    "    X_train = pd.get_dummies(X_train, drop_first=True)\n",
    "    X_test = pd.get_dummies(X_test, drop_first=True)\n",
    "    X_train, X_test = X_train.align(X_test, join='left', axis=1, fill_value=0)\n",
    "\n",
    "    scaler = MinMaxScaler()\n",
    "    X_train = scaler.fit_transform(X_train)\n",
    "    X_test = scaler.transform(X_test)\n",
    "else:\n",
    "    print(\"Cannot proceed with train-test split as 'Tipo_Accidente' column is missing.\")\n"
   ]
  },
  {
   "cell_type": "code",
   "execution_count": 473,
   "id": "31b8c2b7",
   "metadata": {},
   "outputs": [
    {
     "data": {
      "text/html": [
       "<div>\n",
       "<style scoped>\n",
       "    .dataframe tbody tr th:only-of-type {\n",
       "        vertical-align: middle;\n",
       "    }\n",
       "\n",
       "    .dataframe tbody tr th {\n",
       "        vertical-align: top;\n",
       "    }\n",
       "\n",
       "    .dataframe thead th {\n",
       "        text-align: right;\n",
       "    }\n",
       "</style>\n",
       "<table border=\"1\" class=\"dataframe\">\n",
       "  <thead>\n",
       "    <tr style=\"text-align: right;\">\n",
       "      <th></th>\n",
       "      <th>ID</th>\n",
       "      <th>Fecha_Ocurrencia</th>\n",
       "      <th>Codigo_Accidente</th>\n",
       "      <th>Direccion</th>\n",
       "      <th>Barrio</th>\n",
       "      <th>Vehiculos_Involucrados</th>\n",
       "      <th>Heridos</th>\n",
       "      <th>Accidente _con</th>\n",
       "      <th>Heridos _SI/NO</th>\n",
       "      <th>Muertes</th>\n",
       "      <th>Clase_Accidente</th>\n",
       "    </tr>\n",
       "  </thead>\n",
       "  <tbody>\n",
       "    <tr>\n",
       "      <th>0</th>\n",
       "      <td>1</td>\n",
       "      <td>1/3/2024 0:00</td>\n",
       "      <td>A001602262</td>\n",
       "      <td>CALLE 14A CARRERA 34   BACHUE</td>\n",
       "      <td>BACHUE</td>\n",
       "      <td>2</td>\n",
       "      <td>2</td>\n",
       "      <td>HERIDOS</td>\n",
       "      <td>1</td>\n",
       "      <td>0</td>\n",
       "      <td>CHOQUE</td>\n",
       "    </tr>\n",
       "    <tr>\n",
       "      <th>1</th>\n",
       "      <td>2</td>\n",
       "      <td>1/6/2024 0:00</td>\n",
       "      <td>A001602263</td>\n",
       "      <td>CALLE 14 CARRERA  28   SAN JOSÃ</td>\n",
       "      <td>SAN JOSE</td>\n",
       "      <td>2</td>\n",
       "      <td>3</td>\n",
       "      <td>HERIDOS</td>\n",
       "      <td>1</td>\n",
       "      <td>0</td>\n",
       "      <td>CHOQUE</td>\n",
       "    </tr>\n",
       "    <tr>\n",
       "      <th>2</th>\n",
       "      <td>3</td>\n",
       "      <td>1/9/2024 0:00</td>\n",
       "      <td>A001602264</td>\n",
       "      <td>KILOMETRO 7+800 MTS</td>\n",
       "      <td>No registra</td>\n",
       "      <td>1</td>\n",
       "      <td>1</td>\n",
       "      <td>HERIDOS</td>\n",
       "      <td>1</td>\n",
       "      <td>0</td>\n",
       "      <td>CHOQUE</td>\n",
       "    </tr>\n",
       "    <tr>\n",
       "      <th>3</th>\n",
       "      <td>4</td>\n",
       "      <td>1/12/2024 0:00</td>\n",
       "      <td>A001602265</td>\n",
       "      <td>AVENIDA 23 N. 24 - 07   LA TIZA</td>\n",
       "      <td>LA TIZA</td>\n",
       "      <td>2</td>\n",
       "      <td>2</td>\n",
       "      <td>HERIDOS</td>\n",
       "      <td>1</td>\n",
       "      <td>0</td>\n",
       "      <td>CHOQUE</td>\n",
       "    </tr>\n",
       "    <tr>\n",
       "      <th>4</th>\n",
       "      <td>5</td>\n",
       "      <td>1/12/2024 0:00</td>\n",
       "      <td>A001602266</td>\n",
       "      <td>KILOMETRO 3+500 MTS VIA CHICHIMENE ESTACION AC...</td>\n",
       "      <td>No registra</td>\n",
       "      <td>2</td>\n",
       "      <td>1</td>\n",
       "      <td>HERIDOS</td>\n",
       "      <td>1</td>\n",
       "      <td>0</td>\n",
       "      <td>CHOQUE</td>\n",
       "    </tr>\n",
       "  </tbody>\n",
       "</table>\n",
       "</div>"
      ],
      "text/plain": [
       "   ID Fecha_Ocurrencia Codigo_Accidente  \\\n",
       "0   1    1/3/2024 0:00       A001602262   \n",
       "1   2    1/6/2024 0:00       A001602263   \n",
       "2   3    1/9/2024 0:00       A001602264   \n",
       "3   4   1/12/2024 0:00       A001602265   \n",
       "4   5   1/12/2024 0:00       A001602266   \n",
       "\n",
       "                                           Direccion       Barrio  \\\n",
       "0                      CALLE 14A CARRERA 34   BACHUE       BACHUE   \n",
       "1                   CALLE 14 CARRERA  28   SAN JOSÃ     SAN JOSE   \n",
       "2                                KILOMETRO 7+800 MTS  No registra   \n",
       "3                    AVENIDA 23 N. 24 - 07   LA TIZA      LA TIZA   \n",
       "4  KILOMETRO 3+500 MTS VIA CHICHIMENE ESTACION AC...  No registra   \n",
       "\n",
       "   Vehiculos_Involucrados  Heridos Accidente _con  Heridos _SI/NO  Muertes  \\\n",
       "0                       2        2        HERIDOS                1       0   \n",
       "1                       2        3        HERIDOS                1       0   \n",
       "2                       1        1        HERIDOS                1       0   \n",
       "3                       2        2        HERIDOS                1       0   \n",
       "4                       2        1        HERIDOS                1       0   \n",
       "\n",
       "  Clase_Accidente  \n",
       "0          CHOQUE  \n",
       "1          CHOQUE  \n",
       "2          CHOQUE  \n",
       "3          CHOQUE  \n",
       "4          CHOQUE  "
      ]
     },
     "execution_count": 473,
     "metadata": {},
     "output_type": "execute_result"
    }
   ],
   "source": [
    "df.head()"
   ]
  },
  {
   "cell_type": "code",
   "execution_count": 474,
   "id": "1ebcf842",
   "metadata": {},
   "outputs": [
    {
     "name": "stdout",
     "output_type": "stream",
     "text": [
      "Tipo_Accidente\n",
      "3.0    223\n",
      "1.0     64\n",
      "Name: count, dtype: int64\n"
     ]
    }
   ],
   "source": [
    "print(df_clean['Tipo_Accidente'].value_counts())"
   ]
  },
  {
   "cell_type": "code",
   "execution_count": null,
   "id": "f131e8fb",
   "metadata": {},
   "outputs": [],
   "source": [
    "#MODELO DE REGRESION LOGISTICA\n",
    "import numpy as np\n",
    "\n",
    "# Create a synthetic target variable with two classes\n",
    "df['Tipo_Accidente'] = np.random.choice(['Leve', 'Grave'], size=len(df))\n",
    "#SELECCION Y PREPARACION DE DATOS\n",
    "X = df.drop(columns=['Heridos', 'Muertes', 'Tipo_Accidente'])\n",
    "y = df['Tipo_Accidente']\n",
    "\n",
    "X_train, X_test, y_train, y_test = train_test_split(X, y, test_size=0.3, random_state=42)\n",
    "\n",
    "X_train = pd.get_dummies(X_train, drop_first=True)\n",
    "X_test = pd.get_dummies(X_test, drop_first=True)\n",
    "X_train, X_test = X_train.align(X_test, join='left', axis=1, fill_value=0)\n",
    "\n",
    "scaler = MinMaxScaler()\n",
    "X_train = scaler.fit_transform(X_train)\n",
    "X_test = scaler.transform(X_test)\n",
    "\n",
    "model = LogisticRegression(max_iter=200)\n",
    "model.fit(X_train, y_train)\n",
    "y_pred = model.predict(X_test)\n",
    "y_prob = model.predict_proba(X_test)[:, 1]\n"
   ]
  },
  {
   "cell_type": "code",
   "execution_count": 476,
   "id": "7426f0dd",
   "metadata": {},
   "outputs": [],
   "source": [
    "#ENTRENAMIENTO SIN MANEJO DEL DESBALANCE\n",
    "model = LogisticRegression(max_iter=200)\n",
    "model.fit(X_train, y_train)\n",
    "y_pred = model.predict(X_test)\n",
    "y_prob = model.predict_proba(X_test)[:, 1]"
   ]
  },
  {
   "cell_type": "code",
   "execution_count": 477,
   "id": "65c86b03",
   "metadata": {},
   "outputs": [
    {
     "name": "stdout",
     "output_type": "stream",
     "text": [
      "Reporte de clasificación:\n",
      "              precision    recall  f1-score   support\n",
      "\n",
      "       Grave       0.43      0.38      0.40        72\n",
      "        Leve       0.51      0.56      0.53        82\n",
      "\n",
      "    accuracy                           0.47       154\n",
      "   macro avg       0.47      0.47      0.47       154\n",
      "weighted avg       0.47      0.47      0.47       154\n",
      "\n",
      "\n",
      "Distribución de predicciones:\n",
      "(array(['Grave', 'Leve'], dtype=object), array([63, 91]))\n"
     ]
    }
   ],
   "source": [
    "# EVALUACION DEL MODELO (FALLIDO)\n",
    "print(\"Reporte de clasificación:\")\n",
    "print(classification_report(y_test, y_pred, zero_division=0))\n",
    "\n",
    "print(\"\\nDistribución de predicciones:\")\n",
    "print(np.unique(y_pred, return_counts=True))"
   ]
  },
  {
   "cell_type": "markdown",
   "id": "8ee44857",
   "metadata": {},
   "source": [
    "Tu modelo de clasificación está intentando predecir la gravedad de los accidentes (Grave vs Leve)\n",
    "Exactitud global (accuracy): 0.47\n",
    "Distribución de predicciones:\n",
    "Grave: 63 predicciones\n",
    "Leve: 91 predicciones\n",
    "\n",
    "El modelo predice con baja precisión y bajo recall, tanto para accidentes graves como leves.\n",
    "Accuracy del 47% está por debajo incluso de una predicción aleatoria si las clases estuvieran balanceadas.\n",
    "La clase Leve tiene mejor rendimiento, pero aún es bajo.\n",
    "El modelo predice más frecuentemente \"Leve\" (91 veces), lo que puede indicar un sesgo hacia la clase mayoritaria.\n",
    "Ambos promedios reflejan que el modelo no es confiable para ninguna clase."
   ]
  },
  {
   "cell_type": "code",
   "execution_count": 478,
   "id": "e98f7792",
   "metadata": {},
   "outputs": [],
   "source": [
    "#CORRECION CON CLASS_WEIGHT\n",
    "model_corr = LogisticRegression(max_iter=200, class_weight='balanced')\n",
    "model_corr.fit(X_train, y_train)\n",
    "y_pred_corr = model_corr.predict(X_test)\n",
    "y_prob_corr = model_corr.predict_proba(X_test)[:, 1]"
   ]
  },
  {
   "cell_type": "code",
   "execution_count": 506,
   "id": "4cb8c91f",
   "metadata": {},
   "outputs": [
    {
     "name": "stdout",
     "output_type": "stream",
     "text": [
      "Reporte de clasificación (modelo corregido):\n",
      "              precision    recall  f1-score   support\n",
      "\n",
      "       Grave       0.42      0.43      0.42        70\n",
      "        Leve       0.09      0.44      0.14        16\n",
      "       Medio       0.00      0.00      0.00        68\n",
      "\n",
      "    accuracy                           0.24       154\n",
      "   macro avg       0.17      0.29      0.19       154\n",
      "weighted avg       0.20      0.24      0.21       154\n",
      "\n"
     ]
    },
    {
     "data": {
      "image/png": "[encoded data removed]",
      "text/plain": [
       "<Figure size 640x480 with 2 Axes>"
      ]
     },
     "metadata": {},
     "output_type": "display_data"
    }
   ],
   "source": [
    "#EVAULACION DEL MODELO CORREGIDO\n",
    "print(\"Reporte de clasificación (modelo corregido):\")\n",
    "print(classification_report(y_test, y_pred_corr, zero_division=0))\n",
    "\n",
    "cm = confusion_matrix(y_test, y_pred_corr)\n",
    "disp = ConfusionMatrixDisplay(confusion_matrix=cm, display_labels=[\"Baja\", \"Alta\", \"Medio\"])\n",
    "disp.plot(cmap=\"Blues\", values_format=\"d\")\n",
    "plt.title(\"Matriz de Confusión (Corregido)\")\n",
    "plt.show()"
   ]
  },
  {
   "cell_type": "markdown",
   "id": "c95826c0",
   "metadata": {},
   "source": [
    "Ya no hay registro de datos clasificados como medio ya que el modelo realizo reclasificación de acuerdo con las variables, pues anteriormente la base tenía información categórica que se convirtió en numérica, como también espacios sin información en la cantidad de muertes, con la información de las categorías grave y leve el modelo indica haber realizado una reclasificación con los datos."
   ]
  },
  {
   "cell_type": "code",
   "execution_count": 480,
   "id": "f56e3364",
   "metadata": {},
   "outputs": [
    {
     "data": {
      "image/png": "[encoded data removed]",
      "text/plain": [
       "<Figure size 640x480 with 1 Axes>"
      ]
     },
     "metadata": {},
     "output_type": "display_data"
    }
   ],
   "source": [
    "\n",
    "#CURVA ROC DEL MODELO CORREGIDO\n",
    "from sklearn.metrics import roc_curve, roc_auc_score\n",
    "import matplotlib.pyplot as plt\n",
    "\n",
    "# Convert target variable to numeric values\n",
    "y_test_numeric = y_test.map({'Leve': 0, 'Grave': 1})\n",
    "\n",
    "fpr, tpr, _ = roc_curve(y_test_numeric, y_prob_corr)\n",
    "auc = roc_auc_score(y_test_numeric, y_prob_corr)\n",
    "\n",
    "plt.plot(fpr, tpr, label=f\"AUC = {auc:.2f}\")\n",
    "plt.plot([0, 1], [0, 1], '--', color='gray')\n",
    "plt.xlabel(\"Tasa de falsos positivos\")\n",
    "plt.ylabel(\"Tasa de verdaderos positivos\")\n",
    "plt.title(\"Curva ROC - Modelo corregido\")\n",
    "plt.legend()\n",
    "plt.grid(True)\n",
    "plt.show()\n"
   ]
  },
  {
   "cell_type": "markdown",
   "id": "a48c901a",
   "metadata": {},
   "source": [
    "De  acuero a  la curva ROC podemos evidenciar el rendimiento dle modelo para diferentes umbrales de decision,Auc es 0.54 lo que es ligeramente superios al azar 0.5  tiene  poco  poder de disciminacion entres las clases, no es confiables para predecir correctamente si un casi es Grave o Leve y le 0.5 representa un modelo al azar esto implica un modelo mal entrenado,El modelo está diferenciando entre las clases \"Grave\" y \"Leve\" muy poco mejor que un modelo aleatorio.\n",
    "Este tipo de resultados se pueden  dar ya  sea por  madelo mal entrenado o con  variables  no informativas, o  tambien  se pudo  haber elimindado informacion clave para  el modelo; se  puede  dar por desbalances de clases lo que quiere decir cuando hay muchas instancias de una clase que de otra el modelo puede  tener dificultades para  aprender correctamente y  que la predicciones estan pco calibrada."
   ]
  },
  {
   "cell_type": "code",
   "execution_count": 494,
   "id": "b4183708",
   "metadata": {},
   "outputs": [],
   "source": [
    "#MODELO KNN\n",
    "import pandas as pd\n",
    "from sklearn.model_selection import train_test_split\n",
    "from sklearn.preprocessing import MinMaxScaler\n",
    "from sklearn.neighbors import KNeighborsClassifier\n",
    "from sklearn.metrics import accuracy_score, classification_report\n",
    "df = pd.read_csv(\"/workspaces/proyecto1/datos/Accidentes_Viales_final.csv\", encoding='ISO-8859-1')\n"
   ]
  },
  {
   "cell_type": "code",
   "execution_count": 497,
   "id": "c991437f",
   "metadata": {},
   "outputs": [],
   "source": [
    "# Asegúrate de que la columna 'Tipo_Accidente' exista en df\n",
    "def clasificar_accidente(row):\n",
    "\tif int(row[\"Heridos\"]) == 0 and (str(row[\"Muertes\"]) == \"0\" or int(row[\"Muertes\"]) == 0):\n",
    "\t\treturn \"Leve\"\n",
    "\telif int(row[\"Heridos\"]) == 1 and (str(row[\"Muertes\"]) == \"0\" or int(row[\"Muertes\"]) == 0):\n",
    "\t\treturn \"Medio\"\n",
    "\telse:\n",
    "\t\treturn \"Grave\"\n",
    "\n",
    "if 'Tipo_Accidente' not in df.columns:\n",
    "\tdf['Heridos'] = pd.to_numeric(df['Heridos'], errors='coerce').fillna(0).astype(int)\n",
    "\tdf['Muertes'] = pd.to_numeric(df['Muertes'], errors='coerce').fillna(0).astype(int)\n",
    "\tdf['Tipo_Accidente'] = df.apply(clasificar_accidente, axis=1)\n",
    "\n",
    "X = df.drop(columns=['ID', 'Heridos', 'Muertes', 'Barrio'])\n",
    "y = df['Tipo_Accidente']"
   ]
  },
  {
   "cell_type": "code",
   "execution_count": 498,
   "id": "e70ebf5f",
   "metadata": {},
   "outputs": [],
   "source": [
    "X_train, X_test, y_train, y_test = train_test_split(X, y, test_size=0.3, random_state=42)"
   ]
  },
  {
   "cell_type": "code",
   "execution_count": 499,
   "id": "880a193a",
   "metadata": {},
   "outputs": [],
   "source": [
    "X_train = pd.get_dummies(X_train, drop_first=True)\n",
    "X_test = pd.get_dummies(X_test, drop_first=True)\n",
    "\n",
    "# Alinear columnas en caso de que falte alguna categoría en test o train\n",
    "X_train, X_test = X_train.align(X_test, join='left', axis=1, fill_value=0)"
   ]
  },
  {
   "cell_type": "code",
   "execution_count": 500,
   "id": "a1fff33e",
   "metadata": {},
   "outputs": [],
   "source": [
    "scaler = MinMaxScaler()\n",
    "X_train = scaler.fit_transform(X_train)\n",
    "X_test = scaler.transform(X_test)"
   ]
  },
  {
   "cell_type": "code",
   "execution_count": 501,
   "id": "bcb8c2f5",
   "metadata": {},
   "outputs": [],
   "source": [
    "knn = KNeighborsClassifier(n_neighbors=5)\n",
    "knn.fit(X_train, y_train)\n",
    "y_pred = knn.predict(X_test)"
   ]
  },
  {
   "cell_type": "code",
   "execution_count": 502,
   "id": "b09ac569",
   "metadata": {},
   "outputs": [
    {
     "name": "stdout",
     "output_type": "stream",
     "text": [
      "Exactitud: 0.987\n",
      "              precision    recall  f1-score   support\n",
      "\n",
      "       Grave       0.99      1.00      0.99        70\n",
      "        Leve       0.94      0.94      0.94        16\n",
      "       Medio       1.00      0.99      0.99        68\n",
      "\n",
      "    accuracy                           0.99       154\n",
      "   macro avg       0.97      0.97      0.97       154\n",
      "weighted avg       0.99      0.99      0.99       154\n",
      "\n"
     ]
    }
   ],
   "source": [
    "print(\"Exactitud:\", round(accuracy_score(y_test, y_pred), 4))\n",
    "print(classification_report(y_test, y_pred))"
   ]
  },
  {
   "cell_type": "markdown",
   "id": "aff646c6",
   "metadata": {},
   "source": [
    "El modelo KNN con k=5 está mostrando un rendimiento excepcional con una exactitud del 98.7% y f1-scores muy altos para todas las clases (Grave, Leve, Medio).Esto indica que el modelo está identificando correctamente los patrones en los datos actuales."
   ]
  },
  {
   "cell_type": "code",
   "execution_count": 503,
   "id": "01e84376",
   "metadata": {},
   "outputs": [
    {
     "data": {
      "image/png": "[encoded data removed]",
      "text/plain": [
       "<Figure size 640x480 with 2 Axes>"
      ]
     },
     "metadata": {},
     "output_type": "display_data"
    }
   ],
   "source": [
    "from sklearn.metrics import ConfusionMatrixDisplay, confusion_matrix\n",
    "import matplotlib.pyplot as plt\n",
    "\n",
    "cm = confusion_matrix(y_test, y_pred)\n",
    "disp = ConfusionMatrixDisplay(confusion_matrix=cm, display_labels=[\"Grave\", \"Leve\",\"Medio\"])\n",
    "disp.plot(cmap=\"Blues\", values_format=\"d\")\n",
    "plt.title(\"Matriz de Confusión\")\n",
    "plt.show()\n"
   ]
  },
  {
   "cell_type": "markdown",
   "id": "1d18d3bc",
   "metadata": {},
   "source": [
    "De 70 accidentes graves, todos fueron correctamente clasificados (100%).\n",
    "De 68 accidentes medios, 67 se clasificaron correctamente.\n",
    "De 16 accidentes leves, 15 se clasificaron bien.\n",
    "Solo 2 errores en total:\n",
    "1 Leve fue clasificado como Grave.\n",
    "1 Medio fue clasificado como Leve.\n",
    "\n",
    "La matriz de confusión indica que el modelo KNN tiene un rendimiento sobresaliente en este conjunto de datos:\n",
    "\n",
    "✅ Predice con altísima precisión\n",
    "✅ Tiene una distribución de errores mínima\n",
    "✅ Es capaz de diferenciar bien entre Grave, Leve, y Medio\n",
    "\n",
    "RECOMENDACIONES\n",
    "\n",
    "Validar con cross-validation\n",
    "Probar con nuevos datos (generalización)\n",
    "Revisar la selección de variables para asegurarte de que no estás usando características que ya contienen o se correlacionan fuertemente con la etiqueta (Tipo_Accidente)"
   ]
  },
  {
   "cell_type": "code",
   "execution_count": 504,
   "id": "c9b8ae9d",
   "metadata": {},
   "outputs": [
    {
     "name": "stdout",
     "output_type": "stream",
     "text": [
      "Distribución en y_train:\n",
      "Tipo_Accidente\n",
      "Medio    157\n",
      "Grave    153\n",
      "Leve      48\n",
      "Name: count, dtype: int64\n"
     ]
    }
   ],
   "source": [
    "#COMPARACION DE MODELOS\n",
    "# Ver cuántos registros hay por clase en el conjunto de entrenamiento\n",
    "print(\"Distribución en y_train:\")\n",
    "print(y_train.value_counts())"
   ]
  },
  {
   "cell_type": "code",
   "execution_count": 505,
   "id": "cdfa2766",
   "metadata": {},
   "outputs": [
    {
     "name": "stdout",
     "output_type": "stream",
     "text": [
      "\n",
      "Comparación de modelos con validación cruzada (cv=3):\n",
      "Regresión Logística: Exactitud promedio (cross-val): 0.992 ± 0.000\n",
      "KNeighborsClassifier: Exactitud promedio (cross-val): 0.992 ± 0.000\n"
     ]
    }
   ],
   "source": [
    "from sklearn.linear_model import LogisticRegression\n",
    "from sklearn.tree import DecisionTreeClassifier\n",
    "from sklearn.model_selection import cross_val_score\n",
    "\n",
    "models = {\n",
    "    'Regresión Logística': LogisticRegression(max_iter=300),\n",
    "    'KNeighborsClassifier': KNeighborsClassifier()\n",
    "}\n",
    "\n",
    "print(\"\\nComparación de modelos con validación cruzada (cv=3):\")\n",
    "for name, model in models.items():\n",
    "    scores = cross_val_score(model, X_train, y_train, cv=3, scoring='accuracy')\n",
    "    print(f\"{name}: Exactitud promedio (cross-val): {scores.mean():.3f} ± {scores.std():.3f}\")"
   ]
  },
  {
   "cell_type": "markdown",
   "id": "f9f06866",
   "metadata": {},
   "source": [
    "ANALISIS DE RESULTADOS \n",
    "\n",
    "1. Alto rendimiento consistente\n",
    "Ambos modelos tienen una exactitud promedio extremadamente alta (99.2%), lo que sugiere que los modelos están prediciendo casi perfectamente las clases en tu conjunto de datos.\n",
    "\n",
    "La desviación estándar es 0.000, lo que indica que los tres folds de validación obtuvieron resultados idénticos. Esto es inusual y puede ser una señal de que el modelo está aprendiendo patrones demasiado específicos del conjunto de datos.\n",
    "\n",
    "2. Posible sobreajuste (overfitting)\n",
    "Aunque los resultados parecen excelentes, tan poca variación y tan alto rendimiento suelen levantar sospechas de que:\n",
    "\n",
    "Hay poca variabilidad real en los datos.\n",
    "\n",
    "Se está produciendo fuga de información.\n",
    "\n",
    "Los datos están desbalanceados o mal distribuidos entre los folds.\n",
    "\n",
    "3. Importancia de revisar variables\n",
    "Si variables como Tipo_Accidente (tu objetivo) se derivan directa o indirectamente de otras variables usadas como predictores, el modelo podría estar simplemente \"leyendo la respuesta\"."
   ]
  },
  {
   "cell_type": "markdown",
   "id": "243f9097",
   "metadata": {},
   "source": [
    "CONCLUSIONES \n",
    "\n",
    "1.El modelo KNN fue el que presentó mejor desempeño general en términos de exactitud, f1-score y predicción multicategoría. Sin embargo, el modelo binario corregido basado en regresión logística no es útil actualmente, dado su bajo AUC y exactitud similar al azar.\n",
    "\n",
    "2.Después de aplicar distintos modelos de clasificación para predecir el tipo o gravedad de los accidentes de tránsito, se obtuvieron resultados variados. El análisis más relevante es el siguiente:\n",
    "\n",
    "Regresión Logística (modelo inicial)\n",
    "Exactitud baja: ~50%\n",
    "AUC = 0.54\n",
    "El modelo apenas supera el azar.\n",
    "Este modelo no es útil para esta tarea en su forma actual\n",
    "\n",
    "K-Nearest Neighbors (KNN)\n",
    "Exactitud: 98.7%\n",
    "F1-score muy alto en todas las clases (Grave, Leve, Medio)\n",
    "Matriz de confusión con predicciones casi perfectas\n",
    " El modelo KNN funciona extremadamente bien, aunque puede estar sobreajustado si hay muchas variables categóricas o poca generalización. Aun así, los resultados son excelentes."
   ]
  }
 ],
 "metadata": {
  "kernelspec": {
   "display_name": "Python 3",
   "language": "python",
   "name": "python3"
  },
  "language_info": {
   "codemirror_mode": {
    "name": "ipython",
    "version": 3
   },
   "file_extension": ".py",
   "mimetype": "text/x-python",
   "name": "python",
   "nbconvert_exporter": "python",
   "pygments_lexer": "ipython3",
   "version": "3.12.1"
  }
 },
 "nbformat": 4,
 "nbformat_minor": 5
}
